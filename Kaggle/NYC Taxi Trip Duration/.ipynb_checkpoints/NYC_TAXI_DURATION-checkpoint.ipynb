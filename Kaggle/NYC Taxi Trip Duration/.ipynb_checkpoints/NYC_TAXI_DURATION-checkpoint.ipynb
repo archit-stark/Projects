{
 "cells": [
  {
   "cell_type": "code",
   "execution_count": 134,
   "id": "071e8239",
   "metadata": {},
   "outputs": [],
   "source": [
    "\n",
    "import pandas as pd\n",
    "import numpy as np\n",
    "\n",
    "from haversine import haversine\n",
    "import seaborn as sns\n",
    "import matplotlib.pyplot as plt\n",
    "\n",
    "from sklearn.model_selection import train_test_split, RandomizedSearchCV, KFold\n",
    "from sklearn.ensemble import RandomForestRegressor\n",
    "from scipy.stats import randint\n",
    "from sklearn.metrics import mean_squared_error, r2_score"
   ]
  },
  {
   "cell_type": "code",
   "execution_count": 112,
   "id": "d30c8611",
   "metadata": {},
   "outputs": [],
   "source": [
    "import math\n",
    "\n",
    "def haversine(lat1, lon1, lat2, lon2):\n",
    "    R = 6371.0  # Earth radius in kilometers\n",
    "\n",
    "    dlat = math.radians(lat2 - lat1)\n",
    "    dlon = math.radians(lon2 - lon1)\n",
    "    a = math.sin(dlat / 2)**2 + math.cos(math.radians(lat1)) * math.cos(math.radians(lat2)) * math.sin(dlon / 2)**2\n",
    "    c = 2 * math.atan2(math.sqrt(a), math.sqrt(1 - a))\n",
    "\n",
    "    distance = R * c\n",
    "    return distance\n",
    "\n",
    "def categorize_hour(time):\n",
    "    hour = time.hour\n",
    "    return f'{hour:02d}-{(hour + 1) % 24:02d}'"
   ]
  },
  {
   "cell_type": "code",
   "execution_count": 3,
   "id": "2715bb4a",
   "metadata": {},
   "outputs": [],
   "source": [
    "train = pd.read_csv(r'C:\\Users\\archi\\OneDrive\\Desktop\\Python Projects\\Kaggle\\NYC Taxi Trip Duration\\train.csv', parse_dates = True)"
   ]
  },
  {
   "cell_type": "code",
   "execution_count": 113,
   "id": "2c912222",
   "metadata": {},
   "outputs": [],
   "source": [
    "df = train.copy()"
   ]
  },
  {
   "cell_type": "code",
   "execution_count": 114,
   "id": "2fa30523",
   "metadata": {},
   "outputs": [],
   "source": [
    "df['pickup_datetime'] = pd.to_datetime(df['pickup_datetime'])\n",
    "df['pickup_date'] = df['pickup_datetime'].dt.date\n",
    "df['pickup_time'] = df['pickup_datetime'].dt.strftime('%H:%M:%S')\n",
    "df['dropoff_datetime'] = pd.to_datetime(df['dropoff_datetime'])\n",
    "df['dropoff_date'] = df['dropoff_datetime'].dt.date\n",
    "df['dropoff_time'] = df['dropoff_datetime'].dt.strftime('%H:%M:%S')\n",
    "df['trip_duration'] = df['trip_duration']/60\n",
    "df['pickup_year'] = df['pickup_datetime'].dt.year\n",
    "df['pickup_day'] = df['pickup_datetime'].dt.day\n",
    "df['pickup_month'] = df['pickup_datetime'].dt.month\n",
    "df['dropoff_year'] = df['dropoff_datetime'].dt.year\n",
    "df['dropoff_day'] = df['dropoff_datetime'].dt.day\n",
    "df['dropoff_month'] = df['dropoff_datetime'].dt.month\n",
    "df['Distance'] = df.apply(\n",
    "    lambda row: haversine(row['pickup_latitude'], row['pickup_longitude'], row['dropoff_latitude'], row['dropoff_longitude']),\n",
    "    axis=1\n",
    ")\n",
    "df['Speed'] = df['Distance']/df['trip_duration']\n",
    "df['pickup_time'] = pd.to_datetime(df['pickup_time'], format='%H:%M:%S').dt.time\n",
    "df['pickup_category_time'] = df['pickup_time'].apply(categorize_hour)"
   ]
  },
  {
   "cell_type": "code",
   "execution_count": null,
   "id": "2f66ef65",
   "metadata": {},
   "outputs": [],
   "source": []
  },
  {
   "cell_type": "code",
   "execution_count": null,
   "id": "3be34048",
   "metadata": {},
   "outputs": [],
   "source": [
    "df.head()"
   ]
  },
  {
   "cell_type": "code",
   "execution_count": 21,
   "id": "5ecae893",
   "metadata": {},
   "outputs": [],
   "source": [
    "#df[['pickup_datetime', 'dropoff_datetime', 'pickup_longitude', 'pickup_latitude', 'dropoff_longitude', 'dropoff_latitude', 'trip_duration']].head()"
   ]
  },
  {
   "cell_type": "code",
   "execution_count": 115,
   "id": "4122be2e",
   "metadata": {},
   "outputs": [],
   "source": [
    "dum_1 = pd.get_dummies(df['pickup_category_time'],prefix = 'pickup_category_time_' )\n",
    "\n",
    "df = pd.concat([df, dum_1], axis = 1)"
   ]
  },
  {
   "cell_type": "code",
   "execution_count": 117,
   "id": "64ade8ee",
   "metadata": {},
   "outputs": [
    {
     "data": {
      "text/plain": [
       "Index(['id', 'vendor_id', 'pickup_datetime', 'dropoff_datetime',\n",
       "       'passenger_count', 'pickup_longitude', 'pickup_latitude',\n",
       "       'dropoff_longitude', 'dropoff_latitude', 'store_and_fwd_flag',\n",
       "       'trip_duration', 'pickup_date', 'pickup_time', 'dropoff_date',\n",
       "       'dropoff_time', 'pickup_year', 'pickup_day', 'pickup_month',\n",
       "       'dropoff_year', 'dropoff_day', 'dropoff_month', 'Distance', 'Speed',\n",
       "       'pickup_category_time', 'pickup_category_time__00-01',\n",
       "       'pickup_category_time__01-02', 'pickup_category_time__02-03',\n",
       "       'pickup_category_time__03-04', 'pickup_category_time__04-05',\n",
       "       'pickup_category_time__05-06', 'pickup_category_time__06-07',\n",
       "       'pickup_category_time__07-08', 'pickup_category_time__08-09',\n",
       "       'pickup_category_time__09-10', 'pickup_category_time__10-11',\n",
       "       'pickup_category_time__11-12', 'pickup_category_time__12-13',\n",
       "       'pickup_category_time__13-14', 'pickup_category_time__14-15',\n",
       "       'pickup_category_time__15-16', 'pickup_category_time__16-17',\n",
       "       'pickup_category_time__17-18', 'pickup_category_time__18-19',\n",
       "       'pickup_category_time__19-20', 'pickup_category_time__20-21',\n",
       "       'pickup_category_time__21-22', 'pickup_category_time__22-23',\n",
       "       'pickup_category_time__23-00'],\n",
       "      dtype='object')"
      ]
     },
     "execution_count": 117,
     "metadata": {},
     "output_type": "execute_result"
    }
   ],
   "source": [
    "df.columns"
   ]
  },
  {
   "cell_type": "code",
   "execution_count": 143,
   "id": "952a3a0b",
   "metadata": {},
   "outputs": [],
   "source": [
    "df_2 = df[df['trip_duration'] < 5000]\n",
    "df_2 = df.drop(['id','vendor_id','pickup_year', 'trip_duration', 'pickup_time', 'pickup_date','dropoff_date',\n",
    "       'dropoff_time', 'pickup_year', 'dropoff_year',\n",
    "       'pickup_category_time', 'pickup_datetime', 'dropoff_datetime'], axis = 1)"
   ]
  },
  {
   "cell_type": "code",
   "execution_count": 144,
   "id": "416aaf90",
   "metadata": {},
   "outputs": [
    {
     "data": {
      "text/plain": [
       "Index(['passenger_count', 'pickup_longitude', 'pickup_latitude',\n",
       "       'dropoff_longitude', 'dropoff_latitude', 'store_and_fwd_flag',\n",
       "       'pickup_day', 'pickup_month', 'dropoff_day', 'dropoff_month',\n",
       "       'Distance', 'Speed', 'pickup_category_time__00-01',\n",
       "       'pickup_category_time__01-02', 'pickup_category_time__02-03',\n",
       "       'pickup_category_time__03-04', 'pickup_category_time__04-05',\n",
       "       'pickup_category_time__05-06', 'pickup_category_time__06-07',\n",
       "       'pickup_category_time__07-08', 'pickup_category_time__08-09',\n",
       "       'pickup_category_time__09-10', 'pickup_category_time__10-11',\n",
       "       'pickup_category_time__11-12', 'pickup_category_time__12-13',\n",
       "       'pickup_category_time__13-14', 'pickup_category_time__14-15',\n",
       "       'pickup_category_time__15-16', 'pickup_category_time__16-17',\n",
       "       'pickup_category_time__17-18', 'pickup_category_time__18-19',\n",
       "       'pickup_category_time__19-20', 'pickup_category_time__20-21',\n",
       "       'pickup_category_time__21-22', 'pickup_category_time__22-23',\n",
       "       'pickup_category_time__23-00'],\n",
       "      dtype='object')"
      ]
     },
     "execution_count": 144,
     "metadata": {},
     "output_type": "execute_result"
    }
   ],
   "source": [
    "df_2.columns"
   ]
  },
  {
   "cell_type": "code",
   "execution_count": 145,
   "id": "f87ffbc4",
   "metadata": {},
   "outputs": [],
   "source": [
    "dum_1 = pd.get_dummies(df_2['pickup_day'],prefix = 'pickup_day' )\n",
    "dum_2 = pd.get_dummies(df_2['dropoff_day'],prefix = 'dropoff_day')\n",
    "dum_3 = pd.get_dummies(df_2['pickup_month'],prefix = 'pickup_month' )\n",
    "dum_4 = pd.get_dummies(df_2['dropoff_month'],prefix = 'dropoff_month')\n",
    "dum_5 = pd.get_dummies(df_2['store_and_fwd_flag'], prefix = 'flag_')\n",
    "df_2 = df_2.drop(['store_and_fwd_flag'], axis = 1)\n",
    "\n",
    "df_2 = pd.concat([df_2, dum_1, dum_2, dum_3, dum_4, dum_5],axis = 1)"
   ]
  },
  {
   "cell_type": "code",
   "execution_count": 146,
   "id": "99a06122",
   "metadata": {},
   "outputs": [],
   "source": [
    "from sklearn.cluster import KMeans\n",
    "\n",
    "kmeans_pickup = KMeans(n_clusters=18, random_state=42)\n",
    "df_2['pickup_cluster'] = kmeans_pickup.fit_predict(df_2[['pickup_latitude', 'pickup_longitude']])\n",
    "\n",
    "kmeans_dropoff = KMeans(n_clusters=18, random_state=42)\n",
    "df_2['dropoff_cluster'] = kmeans_dropoff.fit_predict(df_2[['dropoff_latitude', 'dropoff_longitude']])\n",
    "\n"
   ]
  },
  {
   "cell_type": "code",
   "execution_count": 147,
   "id": "86277642",
   "metadata": {},
   "outputs": [
    {
     "data": {
      "image/png": "[encoded data removed]",
      "text/plain": [
       "<Figure size 1000x600 with 2 Axes>"
      ]
     },
     "metadata": {},
     "output_type": "display_data"
    }
   ],
   "source": [
    "# Visualize the clusters\n",
    "plt.figure(figsize=(10, 6))\n",
    "\n",
    "# Plot pickup clusters\n",
    "plt.subplot(1, 2, 1)\n",
    "plt.scatter(df_2['pickup_longitude'], df_2['pickup_latitude'], c=df_2['pickup_cluster'], cmap='rainbow', marker='o')\n",
    "plt.title('Pickup Clusters')\n",
    "plt.xlabel('Longitude')\n",
    "plt.ylabel('Latitude')\n",
    "\n",
    "# Plot dropoff clusters\n",
    "plt.subplot(1, 2, 2)\n",
    "plt.scatter(df_2['dropoff_longitude'], df_2['dropoff_latitude'], c=df_2['dropoff_cluster'], cmap='rainbow', marker='o')\n",
    "plt.title('Dropoff Clusters')\n",
    "plt.xlabel('Longitude')\n",
    "plt.ylabel('Latitude')\n",
    "\n",
    "plt.tight_layout()\n",
    "plt.show()\n",
    "\n"
   ]
  },
  {
   "cell_type": "code",
   "execution_count": 148,
   "id": "b6b67db9",
   "metadata": {},
   "outputs": [],
   "source": [
    "dum_1 = pd.get_dummies(df_2['pickup_cluster'],prefix = 'pickup_cluster' )\n",
    "dum_2 = pd.get_dummies(df_2['dropoff_cluster'],prefix = 'dropoff_cluster')\n",
    "df_2 = df_2.drop(['pickup_cluster', 'dropoff_cluster', 'pickup_longitude','pickup_latitude','dropoff_longitude','dropoff_latitude','pickup_day','pickup_month','dropoff_day','dropoff_month'], axis = 1)\n",
    "df_2 = pd.concat([df_2, dum_1, dum_2],axis = 1)"
   ]
  },
  {
   "cell_type": "code",
   "execution_count": null,
   "id": "148204d9",
   "metadata": {},
   "outputs": [],
   "source": []
  },
  {
   "cell_type": "code",
   "execution_count": 109,
   "id": "421f5ec7",
   "metadata": {},
   "outputs": [],
   "source": [
    "pd.Series(df_2.columns).to_csv('cols.csv')"
   ]
  },
  {
   "cell_type": "code",
   "execution_count": 151,
   "id": "ccefc081",
   "metadata": {},
   "outputs": [],
   "source": [
    "X = df_2[['Speed']].copy()\n",
    "y = df_2.drop(['Speed'], axis = 1)\n",
    "\n",
    "# Split the data into training and testing sets\n",
    "X_train, X_test, y_train, y_test = train_test_split(X, y, test_size=0.2, random_state=42)\n",
    "\n",
    "# Define the Random Forest Regressor\n",
    "rf_regressor = RandomForestRegressor()"
   ]
  },
  {
   "cell_type": "code",
   "execution_count": 156,
   "id": "6ece8032",
   "metadata": {},
   "outputs": [],
   "source": []
  },
  {
   "cell_type": "code",
   "execution_count": 158,
   "id": "631f32e3",
   "metadata": {
    "scrolled": true
   },
   "outputs": [
    {
     "name": "stdout",
     "output_type": "stream",
     "text": [
      "Fitting 5 folds for each of 50 candidates, totalling 250 fits\n"
     ]
    },
    {
     "ename": "MemoryError",
     "evalue": "Unable to allocate 122. MiB for an array with shape (137, 933532) and data type uint8",
     "output_type": "error",
     "traceback": [
      "\u001b[1;31m---------------------------------------------------------------------------\u001b[0m",
      "\u001b[1;31m_RemoteTraceback\u001b[0m                          Traceback (most recent call last)",
      "\u001b[1;31m_RemoteTraceback\u001b[0m: \n\"\"\"\nTraceback (most recent call last):\n  File \"C:\\Users\\archi\\anaconda3\\lib\\site-packages\\joblib\\externals\\loky\\process_executor.py\", line 436, in _process_worker\n    r = call_item()\n  File \"C:\\Users\\archi\\anaconda3\\lib\\site-packages\\joblib\\externals\\loky\\process_executor.py\", line 288, in __call__\n    return self.fn(*self.args, **self.kwargs)\n  File \"C:\\Users\\archi\\anaconda3\\lib\\site-packages\\joblib\\_parallel_backends.py\", line 595, in __call__\n    return self.func(*args, **kwargs)\n  File \"C:\\Users\\archi\\anaconda3\\lib\\site-packages\\joblib\\parallel.py\", line 262, in __call__\n    return [func(*args, **kwargs)\n  File \"C:\\Users\\archi\\anaconda3\\lib\\site-packages\\joblib\\parallel.py\", line 262, in <listcomp>\n    return [func(*args, **kwargs)\n  File \"C:\\Users\\archi\\anaconda3\\lib\\site-packages\\sklearn\\utils\\fixes.py\", line 216, in __call__\n    return self.function(*args, **kwargs)\n  File \"C:\\Users\\archi\\anaconda3\\lib\\site-packages\\sklearn\\model_selection\\_validation.py\", line 672, in _fit_and_score\n    X_train, y_train = _safe_split(estimator, X, y, train)\n  File \"C:\\Users\\archi\\anaconda3\\lib\\site-packages\\sklearn\\utils\\metaestimators.py\", line 291, in _safe_split\n    y_subset = _safe_indexing(y, indices)\n  File \"C:\\Users\\archi\\anaconda3\\lib\\site-packages\\sklearn\\utils\\__init__.py\", line 376, in _safe_indexing\n    return _pandas_indexing(X, indices, indices_dtype, axis=axis)\n  File \"C:\\Users\\archi\\anaconda3\\lib\\site-packages\\sklearn\\utils\\__init__.py\", line 218, in _pandas_indexing\n    return X.take(key, axis=axis)\n  File \"C:\\Users\\archi\\anaconda3\\lib\\site-packages\\pandas\\core\\generic.py\", line 3703, in take\n    new_data = self._mgr.take(\n  File \"C:\\Users\\archi\\anaconda3\\lib\\site-packages\\pandas\\core\\internals\\managers.py\", line 897, in take\n    return self.reindex_indexer(\n  File \"C:\\Users\\archi\\anaconda3\\lib\\site-packages\\pandas\\core\\internals\\managers.py\", line 689, in reindex_indexer\n    new_blocks = [\n  File \"C:\\Users\\archi\\anaconda3\\lib\\site-packages\\pandas\\core\\internals\\managers.py\", line 690, in <listcomp>\n    blk.take_nd(\n  File \"C:\\Users\\archi\\anaconda3\\lib\\site-packages\\pandas\\core\\internals\\blocks.py\", line 1139, in take_nd\n    new_values = algos.take_nd(\n  File \"C:\\Users\\archi\\anaconda3\\lib\\site-packages\\pandas\\core\\array_algos\\take.py\", line 117, in take_nd\n    return _take_nd_ndarray(arr, indexer, axis, fill_value, allow_fill)\n  File \"C:\\Users\\archi\\anaconda3\\lib\\site-packages\\pandas\\core\\array_algos\\take.py\", line 158, in _take_nd_ndarray\n    out = np.empty(out_shape, dtype=dtype)\nnumpy.core._exceptions._ArrayMemoryError: Unable to allocate 122. MiB for an array with shape (137, 933532) and data type uint8\n\"\"\"",
      "\nThe above exception was the direct cause of the following exception:\n",
      "\u001b[1;31mMemoryError\u001b[0m                               Traceback (most recent call last)",
      "\u001b[1;32m~\\AppData\\Local\\Temp\\ipykernel_14212\\762525367.py\u001b[0m in \u001b[0;36m<module>\u001b[1;34m\u001b[0m\n\u001b[0;32m     16\u001b[0m \u001b[1;33m\u001b[0m\u001b[0m\n\u001b[0;32m     17\u001b[0m \u001b[1;31m# Fit the model\u001b[0m\u001b[1;33m\u001b[0m\u001b[1;33m\u001b[0m\u001b[0m\n\u001b[1;32m---> 18\u001b[1;33m \u001b[0mrandom_search\u001b[0m\u001b[1;33m.\u001b[0m\u001b[0mfit\u001b[0m\u001b[1;33m(\u001b[0m\u001b[0mX_train\u001b[0m\u001b[1;33m,\u001b[0m \u001b[0my_train\u001b[0m\u001b[1;33m)\u001b[0m\u001b[1;33m\u001b[0m\u001b[1;33m\u001b[0m\u001b[0m\n\u001b[0m\u001b[0;32m     19\u001b[0m \u001b[1;33m\u001b[0m\u001b[0m\n\u001b[0;32m     20\u001b[0m \u001b[1;31m# Get the best parameters and best score\u001b[0m\u001b[1;33m\u001b[0m\u001b[1;33m\u001b[0m\u001b[0m\n",
      "\u001b[1;32m~\\anaconda3\\lib\\site-packages\\sklearn\\model_selection\\_search.py\u001b[0m in \u001b[0;36mfit\u001b[1;34m(self, X, y, groups, **fit_params)\u001b[0m\n\u001b[0;32m    889\u001b[0m                 \u001b[1;32mreturn\u001b[0m \u001b[0mresults\u001b[0m\u001b[1;33m\u001b[0m\u001b[1;33m\u001b[0m\u001b[0m\n\u001b[0;32m    890\u001b[0m \u001b[1;33m\u001b[0m\u001b[0m\n\u001b[1;32m--> 891\u001b[1;33m             \u001b[0mself\u001b[0m\u001b[1;33m.\u001b[0m\u001b[0m_run_search\u001b[0m\u001b[1;33m(\u001b[0m\u001b[0mevaluate_candidates\u001b[0m\u001b[1;33m)\u001b[0m\u001b[1;33m\u001b[0m\u001b[1;33m\u001b[0m\u001b[0m\n\u001b[0m\u001b[0;32m    892\u001b[0m \u001b[1;33m\u001b[0m\u001b[0m\n\u001b[0;32m    893\u001b[0m             \u001b[1;31m# multimetric is determined here because in the case of a callable\u001b[0m\u001b[1;33m\u001b[0m\u001b[1;33m\u001b[0m\u001b[0m\n",
      "\u001b[1;32m~\\anaconda3\\lib\\site-packages\\sklearn\\model_selection\\_search.py\u001b[0m in \u001b[0;36m_run_search\u001b[1;34m(self, evaluate_candidates)\u001b[0m\n\u001b[0;32m   1764\u001b[0m     \u001b[1;32mdef\u001b[0m \u001b[0m_run_search\u001b[0m\u001b[1;33m(\u001b[0m\u001b[0mself\u001b[0m\u001b[1;33m,\u001b[0m \u001b[0mevaluate_candidates\u001b[0m\u001b[1;33m)\u001b[0m\u001b[1;33m:\u001b[0m\u001b[1;33m\u001b[0m\u001b[1;33m\u001b[0m\u001b[0m\n\u001b[0;32m   1765\u001b[0m         \u001b[1;34m\"\"\"Search n_iter candidates from param_distributions\"\"\"\u001b[0m\u001b[1;33m\u001b[0m\u001b[1;33m\u001b[0m\u001b[0m\n\u001b[1;32m-> 1766\u001b[1;33m         evaluate_candidates(\n\u001b[0m\u001b[0;32m   1767\u001b[0m             ParameterSampler(\n\u001b[0;32m   1768\u001b[0m                 \u001b[0mself\u001b[0m\u001b[1;33m.\u001b[0m\u001b[0mparam_distributions\u001b[0m\u001b[1;33m,\u001b[0m \u001b[0mself\u001b[0m\u001b[1;33m.\u001b[0m\u001b[0mn_iter\u001b[0m\u001b[1;33m,\u001b[0m \u001b[0mrandom_state\u001b[0m\u001b[1;33m=\u001b[0m\u001b[0mself\u001b[0m\u001b[1;33m.\u001b[0m\u001b[0mrandom_state\u001b[0m\u001b[1;33m\u001b[0m\u001b[1;33m\u001b[0m\u001b[0m\n",
      "\u001b[1;32m~\\anaconda3\\lib\\site-packages\\sklearn\\model_selection\\_search.py\u001b[0m in \u001b[0;36mevaluate_candidates\u001b[1;34m(candidate_params, cv, more_results)\u001b[0m\n\u001b[0;32m    836\u001b[0m                     )\n\u001b[0;32m    837\u001b[0m \u001b[1;33m\u001b[0m\u001b[0m\n\u001b[1;32m--> 838\u001b[1;33m                 out = parallel(\n\u001b[0m\u001b[0;32m    839\u001b[0m                     delayed(_fit_and_score)(\n\u001b[0;32m    840\u001b[0m                         \u001b[0mclone\u001b[0m\u001b[1;33m(\u001b[0m\u001b[0mbase_estimator\u001b[0m\u001b[1;33m)\u001b[0m\u001b[1;33m,\u001b[0m\u001b[1;33m\u001b[0m\u001b[1;33m\u001b[0m\u001b[0m\n",
      "\u001b[1;32m~\\anaconda3\\lib\\site-packages\\joblib\\parallel.py\u001b[0m in \u001b[0;36m__call__\u001b[1;34m(self, iterable)\u001b[0m\n\u001b[0;32m   1054\u001b[0m \u001b[1;33m\u001b[0m\u001b[0m\n\u001b[0;32m   1055\u001b[0m             \u001b[1;32mwith\u001b[0m \u001b[0mself\u001b[0m\u001b[1;33m.\u001b[0m\u001b[0m_backend\u001b[0m\u001b[1;33m.\u001b[0m\u001b[0mretrieval_context\u001b[0m\u001b[1;33m(\u001b[0m\u001b[1;33m)\u001b[0m\u001b[1;33m:\u001b[0m\u001b[1;33m\u001b[0m\u001b[1;33m\u001b[0m\u001b[0m\n\u001b[1;32m-> 1056\u001b[1;33m                 \u001b[0mself\u001b[0m\u001b[1;33m.\u001b[0m\u001b[0mretrieve\u001b[0m\u001b[1;33m(\u001b[0m\u001b[1;33m)\u001b[0m\u001b[1;33m\u001b[0m\u001b[1;33m\u001b[0m\u001b[0m\n\u001b[0m\u001b[0;32m   1057\u001b[0m             \u001b[1;31m# Make sure that we get a last message telling us we are done\u001b[0m\u001b[1;33m\u001b[0m\u001b[1;33m\u001b[0m\u001b[0m\n\u001b[0;32m   1058\u001b[0m             \u001b[0melapsed_time\u001b[0m \u001b[1;33m=\u001b[0m \u001b[0mtime\u001b[0m\u001b[1;33m.\u001b[0m\u001b[0mtime\u001b[0m\u001b[1;33m(\u001b[0m\u001b[1;33m)\u001b[0m \u001b[1;33m-\u001b[0m \u001b[0mself\u001b[0m\u001b[1;33m.\u001b[0m\u001b[0m_start_time\u001b[0m\u001b[1;33m\u001b[0m\u001b[1;33m\u001b[0m\u001b[0m\n",
      "\u001b[1;32m~\\anaconda3\\lib\\site-packages\\joblib\\parallel.py\u001b[0m in \u001b[0;36mretrieve\u001b[1;34m(self)\u001b[0m\n\u001b[0;32m    933\u001b[0m             \u001b[1;32mtry\u001b[0m\u001b[1;33m:\u001b[0m\u001b[1;33m\u001b[0m\u001b[1;33m\u001b[0m\u001b[0m\n\u001b[0;32m    934\u001b[0m                 \u001b[1;32mif\u001b[0m \u001b[0mgetattr\u001b[0m\u001b[1;33m(\u001b[0m\u001b[0mself\u001b[0m\u001b[1;33m.\u001b[0m\u001b[0m_backend\u001b[0m\u001b[1;33m,\u001b[0m \u001b[1;34m'supports_timeout'\u001b[0m\u001b[1;33m,\u001b[0m \u001b[1;32mFalse\u001b[0m\u001b[1;33m)\u001b[0m\u001b[1;33m:\u001b[0m\u001b[1;33m\u001b[0m\u001b[1;33m\u001b[0m\u001b[0m\n\u001b[1;32m--> 935\u001b[1;33m                     \u001b[0mself\u001b[0m\u001b[1;33m.\u001b[0m\u001b[0m_output\u001b[0m\u001b[1;33m.\u001b[0m\u001b[0mextend\u001b[0m\u001b[1;33m(\u001b[0m\u001b[0mjob\u001b[0m\u001b[1;33m.\u001b[0m\u001b[0mget\u001b[0m\u001b[1;33m(\u001b[0m\u001b[0mtimeout\u001b[0m\u001b[1;33m=\u001b[0m\u001b[0mself\u001b[0m\u001b[1;33m.\u001b[0m\u001b[0mtimeout\u001b[0m\u001b[1;33m)\u001b[0m\u001b[1;33m)\u001b[0m\u001b[1;33m\u001b[0m\u001b[1;33m\u001b[0m\u001b[0m\n\u001b[0m\u001b[0;32m    936\u001b[0m                 \u001b[1;32melse\u001b[0m\u001b[1;33m:\u001b[0m\u001b[1;33m\u001b[0m\u001b[1;33m\u001b[0m\u001b[0m\n\u001b[0;32m    937\u001b[0m                     \u001b[0mself\u001b[0m\u001b[1;33m.\u001b[0m\u001b[0m_output\u001b[0m\u001b[1;33m.\u001b[0m\u001b[0mextend\u001b[0m\u001b[1;33m(\u001b[0m\u001b[0mjob\u001b[0m\u001b[1;33m.\u001b[0m\u001b[0mget\u001b[0m\u001b[1;33m(\u001b[0m\u001b[1;33m)\u001b[0m\u001b[1;33m)\u001b[0m\u001b[1;33m\u001b[0m\u001b[1;33m\u001b[0m\u001b[0m\n",
      "\u001b[1;32m~\\anaconda3\\lib\\site-packages\\joblib\\_parallel_backends.py\u001b[0m in \u001b[0;36mwrap_future_result\u001b[1;34m(future, timeout)\u001b[0m\n\u001b[0;32m    540\u001b[0m         AsyncResults.get from multiprocessing.\"\"\"\n\u001b[0;32m    541\u001b[0m         \u001b[1;32mtry\u001b[0m\u001b[1;33m:\u001b[0m\u001b[1;33m\u001b[0m\u001b[1;33m\u001b[0m\u001b[0m\n\u001b[1;32m--> 542\u001b[1;33m             \u001b[1;32mreturn\u001b[0m \u001b[0mfuture\u001b[0m\u001b[1;33m.\u001b[0m\u001b[0mresult\u001b[0m\u001b[1;33m(\u001b[0m\u001b[0mtimeout\u001b[0m\u001b[1;33m=\u001b[0m\u001b[0mtimeout\u001b[0m\u001b[1;33m)\u001b[0m\u001b[1;33m\u001b[0m\u001b[1;33m\u001b[0m\u001b[0m\n\u001b[0m\u001b[0;32m    543\u001b[0m         \u001b[1;32mexcept\u001b[0m \u001b[0mCfTimeoutError\u001b[0m \u001b[1;32mas\u001b[0m \u001b[0me\u001b[0m\u001b[1;33m:\u001b[0m\u001b[1;33m\u001b[0m\u001b[1;33m\u001b[0m\u001b[0m\n\u001b[0;32m    544\u001b[0m             \u001b[1;32mraise\u001b[0m \u001b[0mTimeoutError\u001b[0m \u001b[1;32mfrom\u001b[0m \u001b[0me\u001b[0m\u001b[1;33m\u001b[0m\u001b[1;33m\u001b[0m\u001b[0m\n",
      "\u001b[1;32m~\\anaconda3\\lib\\concurrent\\futures\\_base.py\u001b[0m in \u001b[0;36mresult\u001b[1;34m(self, timeout)\u001b[0m\n\u001b[0;32m    437\u001b[0m                     \u001b[1;32mraise\u001b[0m \u001b[0mCancelledError\u001b[0m\u001b[1;33m(\u001b[0m\u001b[1;33m)\u001b[0m\u001b[1;33m\u001b[0m\u001b[1;33m\u001b[0m\u001b[0m\n\u001b[0;32m    438\u001b[0m                 \u001b[1;32melif\u001b[0m \u001b[0mself\u001b[0m\u001b[1;33m.\u001b[0m\u001b[0m_state\u001b[0m \u001b[1;33m==\u001b[0m \u001b[0mFINISHED\u001b[0m\u001b[1;33m:\u001b[0m\u001b[1;33m\u001b[0m\u001b[1;33m\u001b[0m\u001b[0m\n\u001b[1;32m--> 439\u001b[1;33m                     \u001b[1;32mreturn\u001b[0m \u001b[0mself\u001b[0m\u001b[1;33m.\u001b[0m\u001b[0m__get_result\u001b[0m\u001b[1;33m(\u001b[0m\u001b[1;33m)\u001b[0m\u001b[1;33m\u001b[0m\u001b[1;33m\u001b[0m\u001b[0m\n\u001b[0m\u001b[0;32m    440\u001b[0m \u001b[1;33m\u001b[0m\u001b[0m\n\u001b[0;32m    441\u001b[0m                 \u001b[0mself\u001b[0m\u001b[1;33m.\u001b[0m\u001b[0m_condition\u001b[0m\u001b[1;33m.\u001b[0m\u001b[0mwait\u001b[0m\u001b[1;33m(\u001b[0m\u001b[0mtimeout\u001b[0m\u001b[1;33m)\u001b[0m\u001b[1;33m\u001b[0m\u001b[1;33m\u001b[0m\u001b[0m\n",
      "\u001b[1;32m~\\anaconda3\\lib\\concurrent\\futures\\_base.py\u001b[0m in \u001b[0;36m__get_result\u001b[1;34m(self)\u001b[0m\n\u001b[0;32m    389\u001b[0m         \u001b[1;32mif\u001b[0m \u001b[0mself\u001b[0m\u001b[1;33m.\u001b[0m\u001b[0m_exception\u001b[0m\u001b[1;33m:\u001b[0m\u001b[1;33m\u001b[0m\u001b[1;33m\u001b[0m\u001b[0m\n\u001b[0;32m    390\u001b[0m             \u001b[1;32mtry\u001b[0m\u001b[1;33m:\u001b[0m\u001b[1;33m\u001b[0m\u001b[1;33m\u001b[0m\u001b[0m\n\u001b[1;32m--> 391\u001b[1;33m                 \u001b[1;32mraise\u001b[0m \u001b[0mself\u001b[0m\u001b[1;33m.\u001b[0m\u001b[0m_exception\u001b[0m\u001b[1;33m\u001b[0m\u001b[1;33m\u001b[0m\u001b[0m\n\u001b[0m\u001b[0;32m    392\u001b[0m             \u001b[1;32mfinally\u001b[0m\u001b[1;33m:\u001b[0m\u001b[1;33m\u001b[0m\u001b[1;33m\u001b[0m\u001b[0m\n\u001b[0;32m    393\u001b[0m                 \u001b[1;31m# Break a reference cycle with the exception in self._exception\u001b[0m\u001b[1;33m\u001b[0m\u001b[1;33m\u001b[0m\u001b[0m\n",
      "\u001b[1;31mMemoryError\u001b[0m: Unable to allocate 122. MiB for an array with shape (137, 933532) and data type uint8"
     ]
    }
   ],
   "source": [
    "param_grid = {\n",
    "    'n_estimators': randint(100, 1000),  # Number of trees in the forest\n",
    "    'max_features': ['auto', 'sqrt', 'log2'],  # Number of features to consider at every split\n",
    "    'max_depth': [10, 20, 30, 40, 50, 60, 70, 80, 90, 100, None],  # Maximum number of levels in tree\n",
    "    'min_samples_split': randint(2, 20),  # Minimum number of samples required to split a node\n",
    "    'min_samples_leaf': randint(1, 20),  # Minimum number of samples required at each leaf node\n",
    "    'bootstrap': [True, False]  # Method of selecting samples for training each tree\n",
    "}\n",
    "\n",
    "\n",
    "# Perform Randomized Search Cross-Validation\n",
    "random_search = RandomizedSearchCV(estimator=rf_regressor, param_distributions=param_grid, \n",
    "                                   n_iter=50, cv=KFold(n_splits=5, shuffle=True), \n",
    "                                   scoring='neg_mean_squared_error', random_state=42, \n",
    "                                   n_jobs=-1, verbose=1)\n",
    "\n",
    "# Fit the model\n",
    "random_search.fit(X_train, y_train)\n",
    "\n",
    "# Get the best parameters and best score\n",
    "best_params = random_search.best_params_\n",
    "best_score = random_search.best_score_\n"
   ]
  },
  {
   "cell_type": "code",
   "execution_count": null,
   "id": "c95b277b",
   "metadata": {},
   "outputs": [],
   "source": [
    "# Predict on the test set\n",
    "y_pred = random_search.predict(X_test)\n",
    "\n",
    "# Calculate Mean Squared Error (MSE) and R-squared\n",
    "mse = mean_squared_error(y_test, y_pred)\n",
    "r_squared = r2_score(y_test, y_pred)\n",
    "\n",
    "print(\"Best Parameters:\", best_params)\n",
    "print(\"Best Score (neg_mean_squared_error):\", best_score)\n",
    "print(\"Mean Squared Error (MSE):\", mse)\n",
    "print(\"R-squared:\", r_squared)"
   ]
  },
  {
   "cell_type": "code",
   "execution_count": 152,
   "id": "6555704c",
   "metadata": {},
   "outputs": [
    {
     "data": {
      "text/html": [
       "<div>\n",
       "<style scoped>\n",
       "    .dataframe tbody tr th:only-of-type {\n",
       "        vertical-align: middle;\n",
       "    }\n",
       "\n",
       "    .dataframe tbody tr th {\n",
       "        vertical-align: top;\n",
       "    }\n",
       "\n",
       "    .dataframe thead th {\n",
       "        text-align: right;\n",
       "    }\n",
       "</style>\n",
       "<table border=\"1\" class=\"dataframe\">\n",
       "  <thead>\n",
       "    <tr style=\"text-align: right;\">\n",
       "      <th></th>\n",
       "      <th>Speed</th>\n",
       "    </tr>\n",
       "  </thead>\n",
       "  <tbody>\n",
       "    <tr>\n",
       "      <th>0</th>\n",
       "      <td>0.197607</td>\n",
       "    </tr>\n",
       "    <tr>\n",
       "      <th>1</th>\n",
       "      <td>0.163394</td>\n",
       "    </tr>\n",
       "    <tr>\n",
       "      <th>2</th>\n",
       "      <td>0.180370</td>\n",
       "    </tr>\n",
       "    <tr>\n",
       "      <th>3</th>\n",
       "      <td>0.207762</td>\n",
       "    </tr>\n",
       "    <tr>\n",
       "      <th>4</th>\n",
       "      <td>0.163943</td>\n",
       "    </tr>\n",
       "    <tr>\n",
       "      <th>...</th>\n",
       "      <td>...</td>\n",
       "    </tr>\n",
       "    <tr>\n",
       "      <th>1458639</th>\n",
       "      <td>0.094479</td>\n",
       "    </tr>\n",
       "    <tr>\n",
       "      <th>1458640</th>\n",
       "      <td>0.554183</td>\n",
       "    </tr>\n",
       "    <tr>\n",
       "      <th>1458641</th>\n",
       "      <td>0.614498</td>\n",
       "    </tr>\n",
       "    <tr>\n",
       "      <th>1458642</th>\n",
       "      <td>0.175748</td>\n",
       "    </tr>\n",
       "    <tr>\n",
       "      <th>1458643</th>\n",
       "      <td>0.343649</td>\n",
       "    </tr>\n",
       "  </tbody>\n",
       "</table>\n",
       "<p>1458644 rows × 1 columns</p>\n",
       "</div>"
      ],
      "text/plain": [
       "            Speed\n",
       "0        0.197607\n",
       "1        0.163394\n",
       "2        0.180370\n",
       "3        0.207762\n",
       "4        0.163943\n",
       "...           ...\n",
       "1458639  0.094479\n",
       "1458640  0.554183\n",
       "1458641  0.614498\n",
       "1458642  0.175748\n",
       "1458643  0.343649\n",
       "\n",
       "[1458644 rows x 1 columns]"
      ]
     },
     "execution_count": 152,
     "metadata": {},
     "output_type": "execute_result"
    }
   ],
   "source": [
    "X"
   ]
  },
  {
   "cell_type": "code",
   "execution_count": null,
   "id": "1d0e430d",
   "metadata": {},
   "outputs": [],
   "source": []
  },
  {
   "cell_type": "code",
   "execution_count": null,
   "id": "1da599b0",
   "metadata": {},
   "outputs": [],
   "source": []
  },
  {
   "cell_type": "code",
   "execution_count": null,
   "id": "9768103e",
   "metadata": {},
   "outputs": [],
   "source": []
  },
  {
   "cell_type": "code",
   "execution_count": null,
   "id": "f036c20b",
   "metadata": {},
   "outputs": [],
   "source": []
  },
  {
   "cell_type": "code",
   "execution_count": null,
   "id": "764dae01",
   "metadata": {},
   "outputs": [],
   "source": []
  }
 ],
 "metadata": {
  "kernelspec": {
   "display_name": "Python 3 (ipykernel)",
   "language": "python",
   "name": "python3"
  },
  "language_info": {
   "codemirror_mode": {
    "name": "ipython",
    "version": 3
   },
   "file_extension": ".py",
   "mimetype": "text/x-python",
   "name": "python",
   "nbconvert_exporter": "python",
   "pygments_lexer": "ipython3",
   "version": "3.9.13"
  }
 },
 "nbformat": 4,
 "nbformat_minor": 5
}
