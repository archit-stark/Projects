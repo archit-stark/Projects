{
 "cells": [
  {
   "cell_type": "code",
   "execution_count": 12,
   "id": "3d7b4711-17ef-4bba-a134-aa37202b2254",
   "metadata": {},
   "outputs": [],
   "source": [
    "import pandas as pd\n",
    "import numpy as np\n",
    "import matplotlib.pyplot as plt\n",
    "import sympy as sp\n",
    "import statsmodels.api as sm\n",
    "from scipy.stats import norm"
   ]
  },
  {
   "cell_type": "markdown",
   "id": "06e508d7-25e3-422a-b3d4-8c4ed6aed62e",
   "metadata": {},
   "source": [
    "##### from Computer Assignment 1 we take the values for variance and S&P 500"
   ]
  },
  {
   "cell_type": "code",
   "execution_count": 15,
   "id": "8f5dff1a-535d-46d9-ad91-86289453a31b",
   "metadata": {},
   "outputs": [],
   "source": [
    "So = 5648\n",
    "sigma_monthly = 0.047"
   ]
  },
  {
   "cell_type": "code",
   "execution_count": 17,
   "id": "35ddaa9e-ed33-4fc4-a42f-1993ad9da927",
   "metadata": {},
   "outputs": [
    {
     "name": "stdout",
     "output_type": "stream",
     "text": [
      "u: 1.05166\n",
      "d: 0.95698\n"
     ]
    }
   ],
   "source": [
    "def calculate_u_d(steps):\n",
    "    \n",
    "    r_u, r_d = sp.symbols('r_u r_d')\n",
    "    \n",
    "    monthly_return = 0.01\n",
    "    monthly_variance = 0.047**2\n",
    "    adjusted_return = monthly_return * (3 / steps)\n",
    "    adjusted_variance = monthly_variance * (3 / steps)\n",
    "    \n",
    "    \n",
    "    expected_return_eq = 0.56 * r_u + 0.44 * r_d - adjusted_return  # Expected return equation\n",
    "    variance_eq = 0.56 * (r_u - adjusted_return)**2 + 0.44 * (r_d - adjusted_return)**2 - adjusted_variance  # Variance equation\n",
    "    \n",
    "    \n",
    "    solution_discrete = sp.solve([expected_return_eq, variance_eq], (r_u, r_d))\n",
    "    \n",
    "    # Calculate u and d from the returns\n",
    "    u_1 = np.round(float(1 + solution_discrete[0][0]), 5)\n",
    "    d_1 = np.round(float(1 + solution_discrete[0][1]), 5)\n",
    "    \n",
    "    return u_1, d_1\n",
    "\n",
    "u_1, d_1 = calculate_u_d(3)\n",
    "print(\"u:\", u_1)\n",
    "print(\"d:\", d_1)"
   ]
  },
  {
   "cell_type": "code",
   "execution_count": 18,
   "id": "98f3a4f3-eaca-47f6-a1b5-dae7befac21e",
   "metadata": {},
   "outputs": [],
   "source": [
    "def price_european_call_binomial(S0, K, r, u, d, N, q_u=None, q_d=None):\n",
    "   \n",
    "    #R = r * delta_t \n",
    "    R = (r*0.25)/N\n",
    "    if q_u is None:  \n",
    "        q_u = (1 + R - d) / (u - d)\n",
    "    if q_d is None: \n",
    "        q_d = 1 - q_u\n",
    "\n",
    "    # Initialize stock price tree\n",
    "    stock_tree = np.zeros((N + 1, N + 1))\n",
    "\n",
    "    # Fill the stock price tree\n",
    "    for i in range(N + 1):\n",
    "        for j in range(i + 1):\n",
    "            stock_tree[j, i] = S0 * (u ** (i - j)) * (d ** j)\n",
    "\n",
    "    # Initialize option price tree\n",
    "    option_tree = np.zeros((N + 1, N + 1))\n",
    "\n",
    "    # Calculate option payoff at maturity (t = N)\n",
    "    for j in range(N + 1):\n",
    "        option_tree[j, N] = max(stock_tree[j, N] - K, 0)  # Payoff at maturity\n",
    "\n",
    "    # Backward induction to calculate option price at earlier nodes\n",
    "    for i in range(N - 1, -1, -1):\n",
    "        for j in range(i + 1):\n",
    "            option_tree[j, i] = (q_u * option_tree[j, i + 1] + q_d * option_tree[j + 1, i + 1]) / (1 + R)\n",
    "\n",
    "    # Return the option price at the root of the tree (at t = 0), along with stock_tree and option_tree\n",
    "    option_price_at_t0 = option_tree[0, 0]\n",
    "    return stock_tree, option_tree, option_price_at_t0\n"
   ]
  },
  {
   "cell_type": "code",
   "execution_count": 19,
   "id": "a88a6bc0-a57d-4e98-8500-c1832d8b8d7c",
   "metadata": {},
   "outputs": [],
   "source": [
    "def black_scholes(S0, K, r, T, sigma, option_type): # function for BSM model\n",
    "    d1 = (np.log(S0 / K) + (r + 0.5 * sigma**2) * T) / (sigma * np.sqrt(T))\n",
    "    d2 = d1 - sigma * np.sqrt(T)\n",
    "    \n",
    "    if option_type == \"Call\":\n",
    "        option_price = S0 * norm.cdf(d1) - K * np.exp(-r * T) * norm.cdf(d2)\n",
    "    elif option_type == \"Put\":\n",
    "        option_price = K * np.exp(-r * T) * norm.cdf(-d2) - S0 * norm.cdf(-d1)\n",
    "    else:\n",
    "        raise ValueError(\"Invalid option type. Please input 'Call' or 'Put'.\")\n",
    "    \n",
    "    return option_price"
   ]
  },
  {
   "cell_type": "code",
   "execution_count": 23,
   "id": "abb5a716-d648-4227-bc46-170d4a77ce1d",
   "metadata": {},
   "outputs": [],
   "source": [
    "# Parameters\n",
    "S0 = 5648\n",
    "K = 5600 \n",
    "T = 3 / 12 \n",
    "r = 0.04 \n",
    "sigma_monthly = 0.047\n",
    "sigma_annual = sigma_monthly * np.sqrt(12)\n",
    "N = 1000"
   ]
  },
  {
   "cell_type": "code",
   "execution_count": 25,
   "id": "80a72ffe-f8fb-4278-97b3-c7f7829e6f14",
   "metadata": {},
   "outputs": [],
   "source": [
    "bs_call_price = black_scholes(S0, K, r, T, sigma_annual,'Call')"
   ]
  },
  {
   "cell_type": "code",
   "execution_count": 27,
   "id": "e1d42d6e-0fab-4a5a-9542-f86bb7e19c1f",
   "metadata": {},
   "outputs": [],
   "source": [
    "u, d = calculate_u_d(N)\n",
    "stock_tree, option_tree, price = price_european_call_binomial(S0, K, r, u, d, N)"
   ]
  },
  {
   "cell_type": "code",
   "execution_count": 28,
   "id": "763f297e-31f1-4244-be6c-d3df8dc6dcff",
   "metadata": {},
   "outputs": [
    {
     "name": "stdout",
     "output_type": "stream",
     "text": [
      "Price of CE using Binomial Model: 238.24\n",
      "Price of CE using BSM Model: 238.24\n"
     ]
    }
   ],
   "source": [
    "print(\"Price of CE using Binomial Model:\", np.round(price,2))\n",
    "print(\"Price of CE using BSM Model:\", np.round(bs_call_price,2))"
   ]
  },
  {
   "cell_type": "code",
   "execution_count": null,
   "id": "cbdd2e7a-5cb6-49d7-9e09-34f001b38678",
   "metadata": {},
   "outputs": [],
   "source": []
  },
  {
   "cell_type": "markdown",
   "id": "fc9762f6-282b-4e0a-a263-73d456e29a6b",
   "metadata": {},
   "source": [
    "### Question b)"
   ]
  },
  {
   "cell_type": "code",
   "execution_count": 33,
   "id": "35c8ed6a-3b54-48e2-932a-61353a2ed169",
   "metadata": {},
   "outputs": [
    {
     "name": "stdout",
     "output_type": "stream",
     "text": [
      "Price for M = 100 is: 275.74\n",
      "Price for M = 500 is: 217.32\n",
      "Price for M = 1000 is: 244.51\n",
      "Price for M = 5000 is: 237.58\n",
      "Price for M = 10000 is: 236.57\n"
     ]
    }
   ],
   "source": [
    "def euler_call_option_price(S0, K, r_annual, T, sigma_annual, M, N):\n",
    "    dt = T / N  \n",
    "    r = r_annual  \n",
    "    sigma = sigma_annual \n",
    "\n",
    "    S = np.full(M, S0, dtype=float)\n",
    "    \n",
    "    for n in range(N):\n",
    "        phi = np.random.normal(0, 1, M)\n",
    "        S += S * (r * dt + sigma * np.sqrt(dt) * phi)\n",
    "    \n",
    "\n",
    "    payoffs = np.maximum(S - K, 0)\n",
    "    option_price = np.exp(-r * T) * np.mean(payoffs)\n",
    "    \n",
    "    return option_price\n",
    "\n",
    "# Parameters\n",
    "S0 = 5648      \n",
    "K = 5600       \n",
    "r_annual = 0.04  \n",
    "T = 3/12      \n",
    "sigma_annual = 0.047*np.sqrt(12)\n",
    "N = 3      \n",
    "\n",
    "for i in [100, 500, 1000, 5000, 10000]:\n",
    "    print(f\"Price for M = {i} is:\", np.round(euler_call_option_price(S0, K, r_annual, T, sigma_annual, M=i, N=N),2))\n"
   ]
  },
  {
   "cell_type": "code",
   "execution_count": null,
   "id": "19699b08-0f99-46f8-b734-845d1446212d",
   "metadata": {},
   "outputs": [],
   "source": []
  },
  {
   "cell_type": "markdown",
   "id": "302c31b4-263d-4517-af12-a2811f8ab7af",
   "metadata": {},
   "source": [
    "#### Question c)"
   ]
  },
  {
   "cell_type": "code",
   "execution_count": 37,
   "id": "a8d5ecfb-9809-44ac-84e6-dc4254e1be45",
   "metadata": {},
   "outputs": [
    {
     "name": "stdout",
     "output_type": "stream",
     "text": [
      "Price for M = 100 is: 224.27\n",
      "Price for M = 500 is: 197.8\n",
      "Price for M = 1000 is: 244.33\n",
      "Price for M = 5000 is: 234.9\n",
      "Price for M = 10000 is: 240.98\n"
     ]
    }
   ],
   "source": [
    "# Parameters\n",
    "S0 = 5648      \n",
    "K = 5600       \n",
    "r_annual = 0.04  \n",
    "T = 63/252\n",
    "sigma_annual = 0.047*np.sqrt(12)\n",
    "N = 63      \n",
    "\n",
    "for i in [100, 500, 1000, 5000, 10000]:\n",
    "    print(f\"Price for M = {i} is:\", np.round(euler_call_option_price(S0, K, r_annual, T, sigma_annual, M=i, N=N),2))\n"
   ]
  },
  {
   "cell_type": "code",
   "execution_count": null,
   "id": "e61f461e-ac44-4715-890a-773d274ca232",
   "metadata": {},
   "outputs": [],
   "source": []
  },
  {
   "cell_type": "markdown",
   "id": "e8db0799-7875-4487-b16c-7dd17e20ce59",
   "metadata": {},
   "source": [
    "#### Question d)"
   ]
  },
  {
   "cell_type": "code",
   "execution_count": 41,
   "id": "33d7c98c-f20d-4a13-9e94-0abb951523d4",
   "metadata": {},
   "outputs": [],
   "source": [
    "\n",
    "# r = 0.04\n",
    "# sigma = 0.047*np.sqrt(12)"
   ]
  },
  {
   "cell_type": "code",
   "execution_count": 43,
   "id": "2e9f4671-c9dd-42b4-905e-c1c370a2229f",
   "metadata": {},
   "outputs": [],
   "source": [
    "# exp = np.exp(((r - 0.5*(sigma**2))*T)+(sigma*np.sqrt(T)*x))"
   ]
  },
  {
   "cell_type": "code",
   "execution_count": 45,
   "id": "f5591e2c-b524-48cf-bdaf-89594a79d9f9",
   "metadata": {},
   "outputs": [],
   "source": [
    "# np.exp(-r * T) * np.mean(np.maximum(exp*5648 - 5600, 0))"
   ]
  },
  {
   "cell_type": "code",
   "execution_count": 47,
   "id": "57ce3400-4934-4ef6-a031-091624c2bccf",
   "metadata": {},
   "outputs": [
    {
     "name": "stdout",
     "output_type": "stream",
     "text": [
      "Option price for M = 100 is: 239.72\n",
      "Option price for M = 500 is: 239.76\n",
      "Option price for M = 1000 is: 262.96\n",
      "Option price for M = 5000 is: 237.28\n",
      "Option price for M = 10000 is: 240.15\n"
     ]
    }
   ],
   "source": [
    "# Parameters\n",
    "S0 = 5648      \n",
    "K = 5600       \n",
    "r_annual = 0.04\n",
    "T = 3/12\n",
    "sigma = 0.047*np.sqrt(12)\n",
    "\n",
    "for M in [100, 500, 1000, 5000, 10000]:\n",
    "    x = np.random.normal(0, 1, M)\n",
    "    S = S0 * np.exp(((r - 0.5*(sigma**2))*T)+(sigma*np.sqrt(T)*x))\n",
    "    payoffs = np.maximum(S - K, 0)\n",
    "    option_price = np.exp(-r * T) * np.mean(payoffs)\n",
    "    print(f\"Option price for M = {M} is: {option_price:.2f}\")"
   ]
  },
  {
   "cell_type": "code",
   "execution_count": null,
   "id": "033b50e1-2a39-4a2e-bf4f-ef9a8db8ff7e",
   "metadata": {},
   "outputs": [],
   "source": []
  },
  {
   "cell_type": "markdown",
   "id": "1d3adbe3-77f6-4441-a86c-0c78b0b208db",
   "metadata": {},
   "source": [
    "### Question e)"
   ]
  },
  {
   "cell_type": "markdown",
   "id": "ce7407e9-434e-4cc5-a269-1b1b2068ff77",
   "metadata": {},
   "source": [
    "#### Just comparision, will do it later"
   ]
  },
  {
   "cell_type": "markdown",
   "id": "f3bf82f0-9f25-49b2-bf8c-b08a3cd7efb0",
   "metadata": {},
   "source": [
    "### Question f)"
   ]
  },
  {
   "cell_type": "code",
   "execution_count": null,
   "id": "b7f27c7a-e854-4266-b069-17f51b65301e",
   "metadata": {},
   "outputs": [],
   "source": []
  },
  {
   "cell_type": "code",
   "execution_count": 54,
   "id": "7acac370-857d-44b2-81e3-98a42929e07e",
   "metadata": {},
   "outputs": [],
   "source": [
    "# M =3\n",
    "# N = 3\n",
    "# S0 = 5648\n",
    "# S = np.full(M, S0, dtype=float)\n",
    "\n",
    "# phi = np.random.normal(0, 1, M)\n",
    "# S += S * (r * dt + sigma * np.sqrt(dt) * phi)"
   ]
  },
  {
   "cell_type": "code",
   "execution_count": 56,
   "id": "51fdd98d-06ed-4ebd-a559-09a5e6cb793d",
   "metadata": {},
   "outputs": [],
   "source": [
    "# np.random.normal(0, 1, M)"
   ]
  },
  {
   "cell_type": "code",
   "execution_count": 58,
   "id": "786570d1-575c-4748-987a-11a1ecd39337",
   "metadata": {},
   "outputs": [],
   "source": [
    "def asian_call_option_price(S0, K, r_annual, T, sigma_annual, M, N):\n",
    "    dt = T / N  \n",
    "    r = r_annual  \n",
    "    sigma = sigma_annual \n",
    "\n",
    "    S = np.full((N+1, M), S0, dtype=float)\n",
    "    \n",
    "    for n in range(1,N+1):\n",
    "        phi = np.random.normal(0, 1, M)\n",
    "        S[n, :] = S[n-1, :] * (1+(r * dt + sigma * np.sqrt(dt) * phi))\n",
    "\n",
    "    avg_price = np.mean(S[-21:,:], axis = 0)\n",
    "    \n",
    "\n",
    "    payoffs = np.maximum(avg_price - K, 0)\n",
    "    option_price = np.exp(-r * T) * np.mean(payoffs)\n",
    "    \n",
    "    return option_price, S"
   ]
  },
  {
   "cell_type": "markdown",
   "id": "4b82b77c-5b47-4278-a32f-8d94d32a043b",
   "metadata": {},
   "source": []
  },
  {
   "cell_type": "code",
   "execution_count": 61,
   "id": "1c9675bb-f036-4e77-88f5-a079ed3b4810",
   "metadata": {},
   "outputs": [
    {
     "name": "stdout",
     "output_type": "stream",
     "text": [
      "Asian call option price: 215.24\n"
     ]
    }
   ],
   "source": [
    "def asian_call_option_price(S0, K, r_annual, T, sigma_annual, M, N):\n",
    "    dt = T / N\n",
    "    r = r_annual\n",
    "    sigma = sigma_annual\n",
    "\n",
    "    S = np.full((N+1, M), S0, dtype=float)\n",
    "\n",
    "    for n in range(1, N+1):\n",
    "        phi = np.random.normal(0, 1, M)\n",
    "        S[n, :] = S[n-1, :] * (1 + (r * dt + sigma * np.sqrt(dt) * phi))\n",
    "\n",
    "    avg_price = np.mean(S[-21:, :], axis=0)\n",
    "    payoffs = np.maximum(avg_price - K, 0)\n",
    "    option_price = np.exp(-r * T) * np.mean(payoffs)\n",
    "    \n",
    "    return option_price, S\n",
    "\n",
    "S0 = 5648\n",
    "K = 5600\n",
    "r_annual = 0.04\n",
    "T = 63 / 252\n",
    "sigma_annual = 0.047 * np.sqrt(12)\n",
    "M = 10000\n",
    "N = 63\n",
    "\n",
    "asian_price, S = asian_call_option_price(S0, K, r_annual, T, sigma_annual, M, N)\n",
    "\n",
    "print(f\"Asian call option price: {asian_price:.2f}\")\n",
    "\n"
   ]
  },
  {
   "cell_type": "code",
   "execution_count": null,
   "id": "4c00b779-3216-4b8c-bd2b-0c60936359da",
   "metadata": {},
   "outputs": [],
   "source": []
  },
  {
   "cell_type": "markdown",
   "id": "0409becf-8e4c-417b-8eff-8b575d936183",
   "metadata": {},
   "source": [
    "## Part 2 - Dynamic Hedging"
   ]
  },
  {
   "cell_type": "markdown",
   "id": "5833f8e8-27ee-4c31-aa5a-f123d921d244",
   "metadata": {},
   "source": [
    "#### Question a)"
   ]
  },
  {
   "cell_type": "code",
   "execution_count": 509,
   "id": "aac741d8-9eed-4101-92bd-d4f3d529f1f1",
   "metadata": {},
   "outputs": [
    {
     "name": "stdout",
     "output_type": "stream",
     "text": [
      "Amount Trader receives: $ 93866.324\n"
     ]
    }
   ],
   "source": [
    "size = 100\n",
    "n = 10\n",
    "call_price_bsm = black_scholes(S0=5600, K=5600, r=0.04, T=3/52, sigma=0.047*np.sqrt(12), option_type= \"Call\")\n",
    "print(\"Amount Trader receives: $\", np.round(size*n*call_price_bsm,3))"
   ]
  },
  {
   "cell_type": "code",
   "execution_count": 511,
   "id": "b4422986-3dbc-438c-a72c-3c73798e80eb",
   "metadata": {},
   "outputs": [
    {
     "data": {
      "text/plain": [
       "93.86632384307632"
      ]
     },
     "execution_count": 511,
     "metadata": {},
     "output_type": "execute_result"
    }
   ],
   "source": [
    "call_price_bsm"
   ]
  },
  {
   "cell_type": "markdown",
   "id": "fcdd3acd-5d1f-4f0d-85c5-0eb7750eae1d",
   "metadata": {},
   "source": [
    "#### Question b)"
   ]
  },
  {
   "cell_type": "code",
   "execution_count": 327,
   "id": "d3427bc9-6e75-401d-8c29-1809e1931800",
   "metadata": {},
   "outputs": [],
   "source": [
    "M = 3\n",
    "N = 3\n",
    "S0 = 5600\n",
    "K = 5600\n",
    "T = 3/52\n",
    "sigma = 0.047 * np.sqrt(12)\n",
    "mu = 0.06\n",
    "dt = T/N"
   ]
  },
  {
   "cell_type": "code",
   "execution_count": 329,
   "id": "3b2f49a6-52b8-40dd-b7c8-413605fbd14f",
   "metadata": {},
   "outputs": [],
   "source": [
    "#Price Simulation"
   ]
  },
  {
   "cell_type": "code",
   "execution_count": 331,
   "id": "b52fa4aa-f70f-4761-8dc7-8882282eb5fc",
   "metadata": {},
   "outputs": [],
   "source": [
    "S = np.full((N+1,M),S0, dtype=float)\n",
    "for i in range(1,N+1):\n",
    "    phi = np.random.normal(0,1,M)\n",
    "    S[i,:] = S[i-1,:]*(1 + (mu * dt + sigma * np.sqrt(dt) * phi))"
   ]
  },
  {
   "cell_type": "code",
   "execution_count": 333,
   "id": "25f4d9e2-b283-4fa1-bb92-e543500a5887",
   "metadata": {},
   "outputs": [
    {
     "data": {
      "text/plain": [
       "(4, 3)"
      ]
     },
     "execution_count": 333,
     "metadata": {},
     "output_type": "execute_result"
    }
   ],
   "source": [
    "S.shape"
   ]
  },
  {
   "cell_type": "code",
   "execution_count": 395,
   "id": "b3716f21-e53b-4f43-b5ad-057830f3fc87",
   "metadata": {},
   "outputs": [
    {
     "data": {
      "text/plain": [
       "array([[5600.   , 5600.   , 5600.   ],\n",
       "       [5725.184, 5569.896, 5551.262],\n",
       "       [5728.78 , 5716.553, 5452.137],\n",
       "       [5666.691, 5610.258, 5435.656]])"
      ]
     },
     "execution_count": 395,
     "metadata": {},
     "output_type": "execute_result"
    }
   ],
   "source": [
    "S"
   ]
  },
  {
   "cell_type": "code",
   "execution_count": 335,
   "id": "a5f3d649-1e3a-42dd-9119-e878ee417b76",
   "metadata": {},
   "outputs": [],
   "source": [
    "# S[13,:] > 5600"
   ]
  },
  {
   "cell_type": "code",
   "execution_count": 337,
   "id": "870777c4-51b4-4027-8ada-c46c601cd4b4",
   "metadata": {},
   "outputs": [],
   "source": [
    "# Option Portfolio"
   ]
  },
  {
   "cell_type": "code",
   "execution_count": 535,
   "id": "816544b1-388a-4cee-b3ba-356d090c1497",
   "metadata": {},
   "outputs": [
    {
     "data": {
      "text/plain": [
       "array([-66690.693, -10257.525,     -0.   ])"
      ]
     },
     "execution_count": 535,
     "metadata": {},
     "output_type": "execute_result"
    }
   ],
   "source": [
    "OP = -1*np.maximum(S[-1,:]-5600,0)*n*size\n",
    "OP"
   ]
  },
  {
   "cell_type": "code",
   "execution_count": 527,
   "id": "665809ff-4a62-4340-8658-0ee788852d1d",
   "metadata": {},
   "outputs": [
    {
     "data": {
      "text/plain": [
       "(1, 3)"
      ]
     },
     "execution_count": 527,
     "metadata": {},
     "output_type": "execute_result"
    }
   ],
   "source": [
    "OP.shape"
   ]
  },
  {
   "cell_type": "code",
   "execution_count": 483,
   "id": "fa58c939-f59e-4695-bc01-51a3ea880c0a",
   "metadata": {},
   "outputs": [],
   "source": [
    "for i in range(1,N+1):\n",
    "    time_remaining = (N - i) / 52\n",
    "    if time_remaining > 0:\n",
    "        call_price = black_scholes(S0=S[i], K=5600, r=0.04, T= time_remaining, sigma=0.047*np.sqrt(12), option_type= \"Call\")\n",
    "    else:\n",
    "        call_price = np.maximum(S[i]-5600,0)\n",
    "    OP[i] = OP[i] - call_price*n*size"
   ]
  },
  {
   "cell_type": "code",
   "execution_count": 485,
   "id": "5fa68f95-a32f-4694-8f3f-69c23ffff367",
   "metadata": {},
   "outputs": [
    {
     "data": {
      "text/plain": [
       "array([[210136.312, 210136.312, 210136.312],\n",
       "       [ 52260.812, 149282.35 , 157436.869],\n",
       "       [ 67207.098,  77508.332, 202408.954],\n",
       "       [143445.619, 199878.787, 210136.312]])"
      ]
     },
     "execution_count": 485,
     "metadata": {},
     "output_type": "execute_result"
    }
   ],
   "source": [
    "# OP"
   ]
  },
  {
   "cell_type": "code",
   "execution_count": 507,
   "id": "db3e6a05-a547-43ee-81ae-09d12157a30a",
   "metadata": {},
   "outputs": [
    {
     "data": {
      "text/plain": [
       "array([[3040072., 2957615., 2947720.],\n",
       "       [4439805., 2618181., 2273541.],\n",
       "       [4839354., 4662124.,  690328.]])"
      ]
     },
     "execution_count": 507,
     "metadata": {},
     "output_type": "execute_result"
    }
   ],
   "source": [
    "rep_port = np.round(del_mat[:-1,:]*(S[1:,:])*n*size) #profit from next stock\n",
    "np.set_printoptions(suppress=True, precision=3)\n",
    "rep_port"
   ]
  },
  {
   "cell_type": "code",
   "execution_count": 346,
   "id": "b4af0375-54dd-4263-8018-93c10f64029e",
   "metadata": {},
   "outputs": [],
   "source": [
    "# Delta Portfolio"
   ]
  },
  {
   "cell_type": "code",
   "execution_count": 348,
   "id": "197ff372-e419-4f00-b845-559db682d3e2",
   "metadata": {},
   "outputs": [],
   "source": [
    "# Delta at t0 when trader sells options"
   ]
  },
  {
   "cell_type": "code",
   "execution_count": 350,
   "id": "e92e9303-ed22-4735-9b85-3de1abedb636",
   "metadata": {},
   "outputs": [],
   "source": [
    "d1_t0 = norm.cdf((np.log(S0 / K) + (r + 0.5 * (sigma ** 2)) * T) / (sigma * np.sqrt(T)))\n",
    "del_mat = np.ones((N+1, M))\n",
    "del_mat[0, :] = np.round(d1_t0, 3)\n",
    "\n",
    "for i in range(1, N+1):\n",
    "    if i == N:\n",
    "        del_mat[i, :] = np.round(np.where(S[i, :] > 5600, 1, 0), 3)\n",
    "    else:\n",
    "        del_mat[i, :] = np.round(norm.cdf((np.log(S[i, :] / K) + (r + 0.5 * (sigma ** 2)) * (T - i * dt)) / \n",
    "                            (sigma * np.sqrt(T - i * dt))), 3)"
   ]
  },
  {
   "cell_type": "code",
   "execution_count": 352,
   "id": "0f0395c5-f6ff-4d26-9c2e-c4a28515a437",
   "metadata": {},
   "outputs": [
    {
     "data": {
      "text/plain": [
       "array([[0.531, 0.531, 0.531],\n",
       "       [0.775, 0.458, 0.417],\n",
       "       [0.854, 0.831, 0.127],\n",
       "       [1.   , 1.   , 0.   ]])"
      ]
     },
     "execution_count": 352,
     "metadata": {},
     "output_type": "execute_result"
    }
   ],
   "source": [
    "del_mat"
   ]
  },
  {
   "cell_type": "code",
   "execution_count": null,
   "id": "879ddaa7-4ea6-4d24-8334-e1aa0654596f",
   "metadata": {},
   "outputs": [],
   "source": []
  },
  {
   "cell_type": "markdown",
   "id": "b5b8fd45-255d-462e-ac79-8b4a534114ef",
   "metadata": {},
   "source": [
    "if cash required is greater than 210136.312, need to borrow at rfr\n",
    "or put the extra cash in rfr "
   ]
  },
  {
   "cell_type": "code",
   "execution_count": 421,
   "id": "3676433d-a703-4905-8e0b-0dd14c95fe23",
   "metadata": {},
   "outputs": [],
   "source": [
    "cash = np.full((N+1, M), 2973600, dtype = float)"
   ]
  },
  {
   "cell_type": "code",
   "execution_count": 423,
   "id": "10ebf363-8de6-49d5-a3ea-e25549ae52ed",
   "metadata": {},
   "outputs": [
    {
     "data": {
      "text/plain": [
       "(4, 3)"
      ]
     },
     "execution_count": 423,
     "metadata": {},
     "output_type": "execute_result"
    }
   ],
   "source": [
    "cash.shape"
   ]
  },
  {
   "cell_type": "code",
   "execution_count": 493,
   "id": "28ea1835-edb6-4395-a1b7-2ccb2e0bd92b",
   "metadata": {},
   "outputs": [
    {
     "data": {
      "text/plain": [
       "array([[2973600.   , 2973600.   , 2973600.   ],\n",
       "       [4437017.278, 2551012.459, 2314876.195],\n",
       "       [4892378.313, 4750455.438,  692421.442]])"
      ]
     },
     "execution_count": 493,
     "metadata": {},
     "output_type": "execute_result"
    }
   ],
   "source": [
    "h_pos = S[:-1,:]*del_mat[:-1,:]*n*size # matrix telling you how much money is required\n",
    "h_pos"
   ]
  },
  {
   "cell_type": "code",
   "execution_count": 370,
   "id": "9ebc209b-f95e-4cb7-a217-915ef2e2e3cf",
   "metadata": {},
   "outputs": [],
   "source": [
    "## Borrow/Invest portfolio"
   ]
  },
  {
   "cell_type": "code",
   "execution_count": 455,
   "id": "7c6ac926-22bf-4eb5-a927-f86311101476",
   "metadata": {},
   "outputs": [],
   "source": []
  },
  {
   "cell_type": "code",
   "execution_count": 517,
   "id": "258282d3-8576-4a4f-b69d-cfb6eba13321",
   "metadata": {},
   "outputs": [],
   "source": [
    "rfr = np.zeros_like(h_pos)\n",
    "for i in range(len(h_pos)):\n",
    "    rfr[i, :] = np.where(\n",
    "        h_pos[i, :] > 210136.3,  \n",
    "        -1 * (h_pos[i, :] - 210136.3) * (1 + r * dt)** dt,  \n",
    "        np.where(\n",
    "            h_pos[i, :] < 210136.3,  \n",
    "            (h_pos[i, :] - 210136.3) * (1 + r * dt)** dt,  \n",
    "            0  \n",
    "        )\n",
    "    )"
   ]
  },
  {
   "cell_type": "code",
   "execution_count": 519,
   "id": "5e779816-ba4a-49a4-88f9-74c2c17e4b45",
   "metadata": {},
   "outputs": [
    {
     "data": {
      "text/plain": [
       "array([[-2765589.441, -2765589.441, -2765589.441],\n",
       "       [-4230132.425, -2342676.833, -2106358.926],\n",
       "       [-4685843.738, -4543811.691,  -482656.13 ]])"
      ]
     },
     "execution_count": 519,
     "metadata": {},
     "output_type": "execute_result"
    }
   ],
   "source": [
    "rfr"
   ]
  },
  {
   "cell_type": "code",
   "execution_count": null,
   "id": "0ca7793d-a862-46dc-a6c3-4dfc4dd41e43",
   "metadata": {},
   "outputs": [],
   "source": []
  },
  {
   "cell_type": "code",
   "execution_count": 521,
   "id": "d577b307-cf8a-4215-a5a6-3d13387226a1",
   "metadata": {},
   "outputs": [
    {
     "data": {
      "text/plain": [
       "array([[ 64346.259, -18110.741, -28005.741],\n",
       "       [  -463.725,  65367.867, -42954.226],\n",
       "       [-56626.038, -91823.991,  -2464.43 ]])"
      ]
     },
     "execution_count": 521,
     "metadata": {},
     "output_type": "execute_result"
    }
   ],
   "source": [
    "rep_port + rfr - 210136.3 # net profit on hedging"
   ]
  },
  {
   "cell_type": "code",
   "execution_count": 523,
   "id": "c64b9a63-39aa-459f-9572-bf399a28e6f2",
   "metadata": {},
   "outputs": [
    {
     "data": {
      "text/plain": [
       "array([  7256.496, -44566.865, -73424.397])"
      ]
     },
     "execution_count": 523,
     "metadata": {},
     "output_type": "execute_result"
    }
   ],
   "source": [
    "np.sum(rep_port + rfr - 210136.3, axis=0)"
   ]
  },
  {
   "cell_type": "code",
   "execution_count": null,
   "id": "b6510abb-8d1f-4426-a053-b3f142db39f2",
   "metadata": {},
   "outputs": [],
   "source": []
  },
  {
   "cell_type": "code",
   "execution_count": null,
   "id": "00199793-a52d-4851-a664-eef9bdcbae6a",
   "metadata": {},
   "outputs": [],
   "source": []
  },
  {
   "cell_type": "code",
   "execution_count": 151,
   "id": "5360f771-384d-41ca-88a6-6014ef6b0c95",
   "metadata": {},
   "outputs": [],
   "source": []
  },
  {
   "cell_type": "code",
   "execution_count": null,
   "id": "2e19e8b0-90bd-40d9-8623-e8352b5b16e1",
   "metadata": {},
   "outputs": [],
   "source": []
  },
  {
   "cell_type": "code",
   "execution_count": null,
   "id": "d8c1f4f0-d581-44c5-bcab-e47863ecaf7e",
   "metadata": {},
   "outputs": [],
   "source": []
  },
  {
   "cell_type": "code",
   "execution_count": 45,
   "id": "a0625b78-ae35-4e24-ae74-582f8b0eafe9",
   "metadata": {},
   "outputs": [],
   "source": [
    "# Calculate P&L at each time step\n"
   ]
  },
  {
   "cell_type": "code",
   "execution_count": 46,
   "id": "e01836c6-c66d-4c24-9178-a5f9794d373c",
   "metadata": {},
   "outputs": [],
   "source": [
    "final_PL = OP + HP\n",
    "final_PL = np.round(final_PL[-1,:],0)"
   ]
  },
  {
   "cell_type": "code",
   "execution_count": 47,
   "id": "96409c21-8964-43ff-ac9c-aa126057025a",
   "metadata": {},
   "outputs": [
    {
     "data": {
      "image/png": "[encoded data removed]",
      "text/plain": [
       "<Figure size 800x400 with 1 Axes>"
      ]
     },
     "metadata": {},
     "output_type": "display_data"
    }
   ],
   "source": [
    "plt.figure(figsize=(8, 4))\n",
    "plt.hist(final_PL / 1e3, bins=50, edgecolor='black', color='#1f77b4', alpha=0.7)\n",
    "plt.title(\"P&L Distribution after 13 Weeks (Hedging Strategy)\", fontsize=16, fontweight='bold')\n",
    "plt.xlabel(\"P&L (in Thousands USD)\", fontsize=14)\n",
    "plt.ylabel(\"Frequency\", fontsize=14)\n",
    "plt.grid(True, linestyle='--', alpha=0.6)\n",
    "plt.show()\n"
   ]
  },
  {
   "cell_type": "code",
   "execution_count": null,
   "id": "3d61458e-ebe3-4a40-a8b8-d4fb80687587",
   "metadata": {},
   "outputs": [],
   "source": []
  },
  {
   "cell_type": "code",
   "execution_count": null,
   "id": "aff16eb8-61ef-45e1-b2bc-ef229d3f16c3",
   "metadata": {},
   "outputs": [],
   "source": []
  },
  {
   "cell_type": "markdown",
   "id": "ae5df3ca-5492-4e8b-8371-736f91b06257",
   "metadata": {},
   "source": [
    "#### Question c)"
   ]
  },
  {
   "cell_type": "code",
   "execution_count": 49,
   "id": "af0bfb72-a629-40c9-bdf5-b9bb9f0193ae",
   "metadata": {},
   "outputs": [],
   "source": [
    "M = 500\n",
    "N = 3\n",
    "S0 = 5600\n",
    "K = 5600\n",
    "T = 3/12\n",
    "sigma = 0.047 * np.sqrt(12)\n",
    "mu = 0.06\n",
    "S = np.full((N,M),S0, dtype=float)\n",
    "dt = T/N"
   ]
  },
  {
   "cell_type": "code",
   "execution_count": 50,
   "id": "718fcfb6-a428-48fc-95e1-1f9158dde814",
   "metadata": {},
   "outputs": [],
   "source": [
    "for i in range(1,N):\n",
    "    phi = np.random.normal(0,1,M)\n",
    "    S[i,:] = S[i-1,:]*(1 + (mu * dt + sigma * np.sqrt(dt) * phi))"
   ]
  },
  {
   "cell_type": "code",
   "execution_count": 51,
   "id": "be43f721-603f-4deb-89c6-b7fa7e879439",
   "metadata": {},
   "outputs": [
    {
     "ename": "IndexError",
     "evalue": "index 3 is out of bounds for axis 0 with size 3",
     "output_type": "error",
     "traceback": [
      "\u001b[1;31m---------------------------------------------------------------------------\u001b[0m",
      "\u001b[1;31mIndexError\u001b[0m                                Traceback (most recent call last)",
      "Cell \u001b[1;32mIn[51], line 10\u001b[0m\n\u001b[0;32m      8\u001b[0m     call_price \u001b[38;5;241m=\u001b[39m black_scholes(S0\u001b[38;5;241m=\u001b[39mS[i], K\u001b[38;5;241m=\u001b[39m\u001b[38;5;241m5600\u001b[39m, r\u001b[38;5;241m=\u001b[39m\u001b[38;5;241m0.04\u001b[39m, T\u001b[38;5;241m=\u001b[39mtime_remaining, sigma\u001b[38;5;241m=\u001b[39m\u001b[38;5;241m0.047\u001b[39m\u001b[38;5;241m*\u001b[39mnp\u001b[38;5;241m.\u001b[39msqrt(\u001b[38;5;241m12\u001b[39m), option_type\u001b[38;5;241m=\u001b[39m\u001b[38;5;124m\"\u001b[39m\u001b[38;5;124mCall\u001b[39m\u001b[38;5;124m\"\u001b[39m)\n\u001b[0;32m      9\u001b[0m \u001b[38;5;28;01melse\u001b[39;00m:\n\u001b[1;32m---> 10\u001b[0m     call_price \u001b[38;5;241m=\u001b[39m np\u001b[38;5;241m.\u001b[39mmaximum(S[i] \u001b[38;5;241m-\u001b[39m \u001b[38;5;241m5600\u001b[39m, \u001b[38;5;241m0\u001b[39m)\n\u001b[0;32m     12\u001b[0m OP[i] \u001b[38;5;241m=\u001b[39m OP[i] \u001b[38;5;241m-\u001b[39m call_price \u001b[38;5;241m*\u001b[39m size \u001b[38;5;241m*\u001b[39m n\n",
      "\u001b[1;31mIndexError\u001b[0m: index 3 is out of bounds for axis 0 with size 3"
     ]
    }
   ],
   "source": [
    "OP = np.full((N+1,M),size*n*call_price_bsm, dtype=float)\n",
    "\n",
    "for i in range(1, N+1):\n",
    "    time_remaining = (N - i) / 52\n",
    "    \n",
    "    if time_remaining > 0:\n",
    "        \n",
    "        call_price = black_scholes(S0=S[i], K=5600, r=0.04, T=time_remaining, sigma=0.047*np.sqrt(12), option_type=\"Call\")\n",
    "    else:\n",
    "        call_price = np.maximum(S[i] - 5600, 0)\n",
    "    \n",
    "    OP[i] = OP[i] - call_price * size * n"
   ]
  },
  {
   "cell_type": "code",
   "execution_count": null,
   "id": "e19fb49d-face-4370-b6e5-b7abf3b80e77",
   "metadata": {},
   "outputs": [],
   "source": [
    "S.shape"
   ]
  },
  {
   "cell_type": "code",
   "execution_count": null,
   "id": "f02300a7-edde-40ac-94e5-8ea5f8f93fed",
   "metadata": {},
   "outputs": [],
   "source": []
  },
  {
   "cell_type": "code",
   "execution_count": null,
   "id": "cae575bd-c6f7-42b5-92af-626d68ac8fcb",
   "metadata": {},
   "outputs": [],
   "source": []
  }
 ],
 "metadata": {
  "kernelspec": {
   "display_name": "Python 3 (ipykernel)",
   "language": "python",
   "name": "python3"
  },
  "language_info": {
   "codemirror_mode": {
    "name": "ipython",
    "version": 3
   },
   "file_extension": ".py",
   "mimetype": "text/x-python",
   "name": "python",
   "nbconvert_exporter": "python",
   "pygments_lexer": "ipython3",
   "version": "3.12.4"
  }
 },
 "nbformat": 4,
 "nbformat_minor": 5
}
