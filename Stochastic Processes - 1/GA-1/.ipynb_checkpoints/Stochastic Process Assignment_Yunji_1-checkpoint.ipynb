{
 "cells": [
  {
   "cell_type": "code",
   "execution_count": 1,
   "id": "58c43510-4292-4c82-ad9e-8fed026cedb2",
   "metadata": {},
   "outputs": [],
   "source": [
    "import pandas as pd\n",
    "import numpy as np"
   ]
  },
  {
   "cell_type": "code",
   "execution_count": 2,
   "id": "ce67cf82-31df-4b53-ac20-4d2592139108",
   "metadata": {},
   "outputs": [
    {
     "data": {
      "text/plain": [
       "95"
      ]
     },
     "execution_count": 2,
     "metadata": {},
     "output_type": "execute_result"
    }
   ],
   "source": [
    "n = 10*(5+9)-5*9\n",
    "n"
   ]
  },
  {
   "cell_type": "code",
   "execution_count": 3,
   "id": "fe81c6df-1171-48ba-9d20-76f68ca28e5c",
   "metadata": {},
   "outputs": [
    {
     "data": {
      "text/html": [
       "<div>\n",
       "<style scoped>\n",
       "    .dataframe tbody tr th:only-of-type {\n",
       "        vertical-align: middle;\n",
       "    }\n",
       "\n",
       "    .dataframe tbody tr th {\n",
       "        vertical-align: top;\n",
       "    }\n",
       "\n",
       "    .dataframe thead th {\n",
       "        text-align: right;\n",
       "    }\n",
       "</style>\n",
       "<table border=\"1\" class=\"dataframe\">\n",
       "  <thead>\n",
       "    <tr style=\"text-align: right;\">\n",
       "      <th></th>\n",
       "      <th>DATE</th>\n",
       "      <th>SP500</th>\n",
       "    </tr>\n",
       "  </thead>\n",
       "  <tbody>\n",
       "    <tr>\n",
       "      <th>0</th>\n",
       "      <td>01-10-2014</td>\n",
       "      <td>2018.05</td>\n",
       "    </tr>\n",
       "    <tr>\n",
       "      <th>1</th>\n",
       "      <td>01-11-2014</td>\n",
       "      <td>2067.56</td>\n",
       "    </tr>\n",
       "    <tr>\n",
       "      <th>2</th>\n",
       "      <td>01-12-2014</td>\n",
       "      <td>2058.90</td>\n",
       "    </tr>\n",
       "    <tr>\n",
       "      <th>3</th>\n",
       "      <td>01-01-2015</td>\n",
       "      <td>1994.99</td>\n",
       "    </tr>\n",
       "    <tr>\n",
       "      <th>4</th>\n",
       "      <td>01-02-2015</td>\n",
       "      <td>2104.50</td>\n",
       "    </tr>\n",
       "    <tr>\n",
       "      <th>...</th>\n",
       "      <td>...</td>\n",
       "      <td>...</td>\n",
       "    </tr>\n",
       "    <tr>\n",
       "      <th>114</th>\n",
       "      <td>01-04-2024</td>\n",
       "      <td>5035.69</td>\n",
       "    </tr>\n",
       "    <tr>\n",
       "      <th>115</th>\n",
       "      <td>01-05-2024</td>\n",
       "      <td>5277.51</td>\n",
       "    </tr>\n",
       "    <tr>\n",
       "      <th>116</th>\n",
       "      <td>01-06-2024</td>\n",
       "      <td>5460.48</td>\n",
       "    </tr>\n",
       "    <tr>\n",
       "      <th>117</th>\n",
       "      <td>01-07-2024</td>\n",
       "      <td>5522.30</td>\n",
       "    </tr>\n",
       "    <tr>\n",
       "      <th>118</th>\n",
       "      <td>01-08-2024</td>\n",
       "      <td>5648.40</td>\n",
       "    </tr>\n",
       "  </tbody>\n",
       "</table>\n",
       "<p>119 rows × 2 columns</p>\n",
       "</div>"
      ],
      "text/plain": [
       "           DATE    SP500\n",
       "0    01-10-2014  2018.05\n",
       "1    01-11-2014  2067.56\n",
       "2    01-12-2014  2058.90\n",
       "3    01-01-2015  1994.99\n",
       "4    01-02-2015  2104.50\n",
       "..          ...      ...\n",
       "114  01-04-2024  5035.69\n",
       "115  01-05-2024  5277.51\n",
       "116  01-06-2024  5460.48\n",
       "117  01-07-2024  5522.30\n",
       "118  01-08-2024  5648.40\n",
       "\n",
       "[119 rows x 2 columns]"
      ]
     },
     "execution_count": 3,
     "metadata": {},
     "output_type": "execute_result"
    }
   ],
   "source": [
    "data = pd.read_csv(r\"C:\\Users\\rwe20\\Downloads\\SP500 (1).csv\", parse_dates = True)\n",
    "data"
   ]
  },
  {
   "cell_type": "code",
   "execution_count": 4,
   "id": "c75b4d55-ea38-4bc5-a3f2-b75b2dcf37e6",
   "metadata": {},
   "outputs": [],
   "source": [
    "data['DATE'] = pd.to_datetime(data['DATE'], format = \"%d-%m-%Y\")"
   ]
  },
  {
   "cell_type": "code",
   "execution_count": 5,
   "id": "4aeb490f-6c83-4811-be19-8b138d56fa59",
   "metadata": {},
   "outputs": [],
   "source": [
    "data = data.set_index(\"DATE\")"
   ]
  },
  {
   "cell_type": "code",
   "execution_count": 6,
   "id": "f9e4c6a9-d609-49d5-bca9-789ebb346b17",
   "metadata": {},
   "outputs": [],
   "source": [
    "data = data.sort_index(ascending = False)"
   ]
  },
  {
   "cell_type": "code",
   "execution_count": 7,
   "id": "91cb47b6-6995-4a74-93b9-2f78a6de6ae7",
   "metadata": {},
   "outputs": [],
   "source": [
    "data = data[:n]"
   ]
  },
  {
   "cell_type": "code",
   "execution_count": 8,
   "id": "ebfbb261-0620-49f4-8436-e186636a8e83",
   "metadata": {},
   "outputs": [
    {
     "data": {
      "text/html": [
       "<div>\n",
       "<style scoped>\n",
       "    .dataframe tbody tr th:only-of-type {\n",
       "        vertical-align: middle;\n",
       "    }\n",
       "\n",
       "    .dataframe tbody tr th {\n",
       "        vertical-align: top;\n",
       "    }\n",
       "\n",
       "    .dataframe thead th {\n",
       "        text-align: right;\n",
       "    }\n",
       "</style>\n",
       "<table border=\"1\" class=\"dataframe\">\n",
       "  <thead>\n",
       "    <tr style=\"text-align: right;\">\n",
       "      <th></th>\n",
       "      <th>SP500</th>\n",
       "    </tr>\n",
       "    <tr>\n",
       "      <th>DATE</th>\n",
       "      <th></th>\n",
       "    </tr>\n",
       "  </thead>\n",
       "  <tbody>\n",
       "    <tr>\n",
       "      <th>2024-08-01</th>\n",
       "      <td>5648.40</td>\n",
       "    </tr>\n",
       "    <tr>\n",
       "      <th>2024-07-01</th>\n",
       "      <td>5522.30</td>\n",
       "    </tr>\n",
       "    <tr>\n",
       "      <th>2024-06-01</th>\n",
       "      <td>5460.48</td>\n",
       "    </tr>\n",
       "    <tr>\n",
       "      <th>2024-05-01</th>\n",
       "      <td>5277.51</td>\n",
       "    </tr>\n",
       "    <tr>\n",
       "      <th>2024-04-01</th>\n",
       "      <td>5035.69</td>\n",
       "    </tr>\n",
       "    <tr>\n",
       "      <th>...</th>\n",
       "      <td>...</td>\n",
       "    </tr>\n",
       "    <tr>\n",
       "      <th>2017-02-01</th>\n",
       "      <td>2363.64</td>\n",
       "    </tr>\n",
       "    <tr>\n",
       "      <th>2017-01-01</th>\n",
       "      <td>2278.87</td>\n",
       "    </tr>\n",
       "    <tr>\n",
       "      <th>2016-12-01</th>\n",
       "      <td>2238.83</td>\n",
       "    </tr>\n",
       "    <tr>\n",
       "      <th>2016-11-01</th>\n",
       "      <td>2198.81</td>\n",
       "    </tr>\n",
       "    <tr>\n",
       "      <th>2016-10-01</th>\n",
       "      <td>2126.15</td>\n",
       "    </tr>\n",
       "  </tbody>\n",
       "</table>\n",
       "<p>95 rows × 1 columns</p>\n",
       "</div>"
      ],
      "text/plain": [
       "              SP500\n",
       "DATE               \n",
       "2024-08-01  5648.40\n",
       "2024-07-01  5522.30\n",
       "2024-06-01  5460.48\n",
       "2024-05-01  5277.51\n",
       "2024-04-01  5035.69\n",
       "...             ...\n",
       "2017-02-01  2363.64\n",
       "2017-01-01  2278.87\n",
       "2016-12-01  2238.83\n",
       "2016-11-01  2198.81\n",
       "2016-10-01  2126.15\n",
       "\n",
       "[95 rows x 1 columns]"
      ]
     },
     "execution_count": 8,
     "metadata": {},
     "output_type": "execute_result"
    }
   ],
   "source": [
    "data"
   ]
  },
  {
   "cell_type": "code",
   "execution_count": 9,
   "id": "aa053366-883c-4253-bb7b-bf78e1da0165",
   "metadata": {},
   "outputs": [],
   "source": [
    "returns = data['SP500'].pct_change(-1)"
   ]
  },
  {
   "cell_type": "code",
   "execution_count": 10,
   "id": "6ea4c13c-1a99-4142-9a1a-185baf8b4216",
   "metadata": {},
   "outputs": [
    {
     "data": {
      "text/plain": [
       "DATE\n",
       "2024-08-01    0.022835\n",
       "2024-07-01    0.011321\n",
       "2024-06-01    0.034670\n",
       "2024-05-01    0.048021\n",
       "2024-04-01   -0.041615\n",
       "                ...   \n",
       "2017-02-01    0.037198\n",
       "2017-01-01    0.017884\n",
       "2016-12-01    0.018201\n",
       "2016-11-01    0.034174\n",
       "2016-10-01         NaN\n",
       "Name: SP500, Length: 95, dtype: float64"
      ]
     },
     "execution_count": 10,
     "metadata": {},
     "output_type": "execute_result"
    }
   ],
   "source": [
    "returns"
   ]
  },
  {
   "cell_type": "code",
   "execution_count": 11,
   "id": "bd194e41-6938-4556-b0f8-83e9362f1eb7",
   "metadata": {},
   "outputs": [],
   "source": [
    "mean = returns.dropna().mean()\n",
    "std_dev = returns.dropna().std()"
   ]
  },
  {
   "cell_type": "code",
   "execution_count": 12,
   "id": "26e723c4-7138-48e8-95a2-8722d1632933",
   "metadata": {},
   "outputs": [
    {
     "name": "stdout",
     "output_type": "stream",
     "text": [
      "Mean: 0.012\n",
      "Std Dev: 0.047\n"
     ]
    }
   ],
   "source": [
    "print(\"Mean:\", np.round(mean,3))\n",
    "print(\"Std Dev:\", np.round(std_dev,3))"
   ]
  },
  {
   "cell_type": "markdown",
   "id": "efb2db55-af79-493d-8d2d-472083aefb7c",
   "metadata": {},
   "source": [
    "## Part a)"
   ]
  },
  {
   "cell_type": "code",
   "execution_count": 13,
   "id": "36b84852-7bfd-402b-b334-19aebb13117c",
   "metadata": {},
   "outputs": [],
   "source": [
    "import statsmodels.api as sm"
   ]
  },
  {
   "cell_type": "code",
   "execution_count": 14,
   "id": "a19d3047-7aac-41f0-a695-26332d81eb11",
   "metadata": {},
   "outputs": [],
   "source": [
    "Y = returns.dropna()\n",
    "X = pd.Series(mean, index=range(len(Y)))"
   ]
  },
  {
   "cell_type": "code",
   "execution_count": 15,
   "id": "d9c39421-8277-440a-876e-7a2f7b707d02",
   "metadata": {},
   "outputs": [],
   "source": [
    "X.index = Y.index"
   ]
  },
  {
   "cell_type": "code",
   "execution_count": 16,
   "id": "266127ae-3266-40e0-952a-f42ab7874d46",
   "metadata": {},
   "outputs": [],
   "source": [
    "model = sm.OLS(Y,X)\n",
    "results = model.fit()"
   ]
  },
  {
   "cell_type": "code",
   "execution_count": 17,
   "id": "cd8cb237-588b-458e-bdf2-8ee449561914",
   "metadata": {},
   "outputs": [
    {
     "name": "stdout",
     "output_type": "stream",
     "text": [
      "                            OLS Regression Results                            \n",
      "==============================================================================\n",
      "Dep. Variable:                  SP500   R-squared:                       0.000\n",
      "Model:                            OLS   Adj. R-squared:                  0.000\n",
      "Method:                 Least Squares   F-statistic:                       nan\n",
      "Date:                Tue, 17 Sep 2024   Prob (F-statistic):                nan\n",
      "Time:                        07:54:44   Log-Likelihood:                 155.34\n",
      "No. Observations:                  94   AIC:                            -308.7\n",
      "Df Residuals:                      93   BIC:                            -306.1\n",
      "Df Model:                           0                                         \n",
      "Covariance Type:            nonrobust                                         \n",
      "==============================================================================\n",
      "                 coef    std err          t      P>|t|      [0.025      0.975]\n",
      "------------------------------------------------------------------------------\n",
      "x1             1.0000      0.417      2.399      0.018       0.172       1.828\n",
      "==============================================================================\n",
      "Omnibus:                        5.683   Durbin-Watson:                   2.314\n",
      "Prob(Omnibus):                  0.058   Jarque-Bera (JB):                5.010\n",
      "Skew:                          -0.521   Prob(JB):                       0.0817\n",
      "Kurtosis:                       3.438   Cond. No.                         1.00\n",
      "==============================================================================\n",
      "\n",
      "Notes:\n",
      "[1] Standard Errors assume that the covariance matrix of the errors is correctly specified.\n"
     ]
    }
   ],
   "source": [
    "print(results.summary())"
   ]
  },
  {
   "cell_type": "markdown",
   "id": "56dbe3fc-7bf2-4171-9a3b-9681ec000698",
   "metadata": {},
   "source": [
    "## Part b)"
   ]
  },
  {
   "cell_type": "code",
   "execution_count": 18,
   "id": "54f57290-f0b1-4639-9982-c82dbe3c3675",
   "metadata": {},
   "outputs": [],
   "source": [
    "# Confidence interval for mu is given as [0.035,0.045]\n",
    "# Given --- mu = 0.04 and sigma = 0.06"
   ]
  },
  {
   "cell_type": "code",
   "execution_count": 19,
   "id": "bc2b2358-7119-4c9f-afad-bea55ff9dee9",
   "metadata": {},
   "outputs": [
    {
     "name": "stdout",
     "output_type": "stream",
     "text": [
      "Years of Data required:  4609.920000000007\n"
     ]
    }
   ],
   "source": [
    "mu = 0.004\n",
    "sigma = 0.06\n",
    "z = 1.96 # 95% confidence interval\n",
    "N = ((sigma*z)/(0.0045 - mu))**2\n",
    "print(\"Years of Data required: \", N/12)"
   ]
  },
  {
   "cell_type": "markdown",
   "id": "a7349320-9caf-4693-a4cf-5bae9966ad68",
   "metadata": {},
   "source": [
    "#### This is because the confidence interval for 95% significance is very near to the mean or narrow"
   ]
  },
  {
   "cell_type": "markdown",
   "id": "c05711a7-8517-4994-8b1c-2c4709d1db44",
   "metadata": {},
   "source": [
    "## Part c)"
   ]
  },
  {
   "cell_type": "code",
   "execution_count": 20,
   "id": "cfc7c2cf-7c4d-4574-9e55-c4a6b12d8310",
   "metadata": {},
   "outputs": [],
   "source": [
    "mu = 0.004\n",
    "sigma = 0.06\n",
    "n = N"
   ]
  },
  {
   "cell_type": "code",
   "execution_count": 21,
   "id": "a3ebef4a-e37c-4f7e-9649-fc0bd94a36c7",
   "metadata": {},
   "outputs": [],
   "source": [
    "s = np.random.normal(mu, sigma, int(np.round(n,0)))"
   ]
  },
  {
   "cell_type": "code",
   "execution_count": 22,
   "id": "2fbf3f54-d898-42a1-847a-8f7e756d4e81",
   "metadata": {},
   "outputs": [],
   "source": [
    "d = sigma*s + mu"
   ]
  },
  {
   "cell_type": "code",
   "execution_count": 23,
   "id": "f4904c45-ced0-40e1-ba6f-5941aed5e295",
   "metadata": {},
   "outputs": [
    {
     "data": {
      "text/plain": [
       "55319"
      ]
     },
     "execution_count": 23,
     "metadata": {},
     "output_type": "execute_result"
    }
   ],
   "source": [
    "len(d)"
   ]
  },
  {
   "cell_type": "code",
   "execution_count": 24,
   "id": "2f74a0f4-e2d0-4e2c-9e5a-64e3a2c016bf",
   "metadata": {},
   "outputs": [],
   "source": [
    "Y = d\n",
    "X = pd.Series(mu, index=range(len(Y)))"
   ]
  },
  {
   "cell_type": "code",
   "execution_count": 25,
   "id": "f1ce85d2-b5a3-47bf-9759-e081664ef0f5",
   "metadata": {},
   "outputs": [],
   "source": [
    "model = sm.OLS(Y,X)\n",
    "results = model.fit()"
   ]
  },
  {
   "cell_type": "code",
   "execution_count": 26,
   "id": "49c893f1-6afa-40cc-80d5-25a86be3df0f",
   "metadata": {},
   "outputs": [
    {
     "name": "stdout",
     "output_type": "stream",
     "text": [
      "                            OLS Regression Results                            \n",
      "==============================================================================\n",
      "Dep. Variable:                      y   R-squared:                       0.000\n",
      "Model:                            OLS   Adj. R-squared:                  0.000\n",
      "Method:                 Least Squares   F-statistic:                       nan\n",
      "Date:                Tue, 17 Sep 2024   Prob (F-statistic):                nan\n",
      "Time:                        07:54:45   Log-Likelihood:             2.3297e+05\n",
      "No. Observations:               55319   AIC:                        -4.659e+05\n",
      "Df Residuals:                   55318   BIC:                        -4.659e+05\n",
      "Df Model:                           0                                         \n",
      "Covariance Type:            nonrobust                                         \n",
      "==============================================================================\n",
      "                 coef    std err          t      P>|t|      [0.025      0.975]\n",
      "------------------------------------------------------------------------------\n",
      "x1             1.0575      0.004    277.333      0.000       1.050       1.065\n",
      "==============================================================================\n",
      "Omnibus:                        3.225   Durbin-Watson:                   2.003\n",
      "Prob(Omnibus):                  0.199   Jarque-Bera (JB):                3.191\n",
      "Skew:                          -0.009   Prob(JB):                        0.203\n",
      "Kurtosis:                       2.967   Cond. No.                         1.00\n",
      "==============================================================================\n",
      "\n",
      "Notes:\n",
      "[1] Standard Errors assume that the covariance matrix of the errors is correctly specified.\n"
     ]
    }
   ],
   "source": [
    "print(results.summary())"
   ]
  },
  {
   "cell_type": "markdown",
   "id": "c5012116",
   "metadata": {},
   "source": [
    "## Part d)"
   ]
  },
  {
   "cell_type": "code",
   "execution_count": 33,
   "id": "5fc66a3b",
   "metadata": {},
   "outputs": [
    {
     "name": "stdout",
     "output_type": "stream",
     "text": [
      "-0.012712770947684325\n",
      "0.01440184753327992\n"
     ]
    }
   ],
   "source": [
    "transformed_data = np.log(1 + returns)\n",
    "y = transformed_data.dropna()\n",
    "X = sm.add_constant(np.random.normal(0, 1, size=len(y)))  \n",
    "\n",
    "model = sm.OLS(y, X)\n",
    "results = model.fit()\n",
    "\n",
    "constant = results.params[0]\n",
    "sigma = results.params[1]\n",
    "mu_est = constant + 0.5 * sigma**2\n",
    "\n",
    "#print(results.summary())\n",
    "print(sigma)\n",
    "print(mu_est)"
   ]
  },
  {
   "cell_type": "markdown",
   "id": "538d469d",
   "metadata": {},
   "source": [
    "## Part e)"
   ]
  },
  {
   "cell_type": "markdown",
   "id": "a3f99ab1",
   "metadata": {},
   "source": [
    "## Part f)"
   ]
  },
  {
   "cell_type": "code",
   "execution_count": 63,
   "id": "79a8937d",
   "metadata": {},
   "outputs": [
    {
     "data": {
      "image/png": "[encoded data removed]",
      "text/plain": [
       "<Figure size 640x480 with 1 Axes>"
      ]
     },
     "metadata": {},
     "output_type": "display_data"
    }
   ],
   "source": [
    "import matplotlib.pyplot as plt\n",
    "\n",
    "#simulation\n",
    "S_0 = data.iloc[0]['SP500']# initial value\n",
    "simulations = 10000\n",
    "months = 60\n",
    "\n",
    "simulated_index = []\n",
    "\n",
    "for _ in range(simulations) :\n",
    "    eps = np.random.normal(0,1,months)\n",
    "    index = S_0 * np.exp(np.cumsum((mu_est - 0.5 * sigma**2) + sigma * eps))\n",
    "    simulated_index.append(index[-1])\n",
    "    \n",
    "plt.figure()\n",
    "plt.hist(simulated_index, bins=70)\n",
    "plt.title('Distribution of S&P-500 Index Levels after 5 Years')\n",
    "plt.xlabel('Index Level')\n",
    "plt.ylabel('Frequency')\n",
    "plt.grid(True)\n",
    "plt.show()\n",
    "   "
   ]
  },
  {
   "cell_type": "code",
   "execution_count": 64,
   "id": "3f7dec85",
   "metadata": {},
   "outputs": [
    {
     "name": "stdout",
     "output_type": "stream",
     "text": [
      "Shapiro-Wilk Test statistics=0.996, p-value=0.000\n",
      "Sample does not look Gaussian (reject H0)\n"
     ]
    },
    {
     "name": "stderr",
     "output_type": "stream",
     "text": [
      "C:\\Users\\rwe20\\anaconda3\\Lib\\site-packages\\scipy\\stats\\_morestats.py:1816: UserWarning: p-value may not be accurate for N > 5000.\n",
      "  warnings.warn(\"p-value may not be accurate for N > 5000.\")\n"
     ]
    }
   ],
   "source": [
    "# normality test : Shaprio-wilk \n",
    "from scipy.stats import shapiro\n",
    "stat, p_value = shapiro(simulated_index)\n",
    "print('Shapiro-Wilk Test statistics=%.3f, p-value=%.3f' % (stat, p_value))\n",
    "\n",
    "# Interpretation based on the p-value\n",
    "alpha = 0.05\n",
    "if p_value > alpha:\n",
    "    print('Sample looks Gaussian (fail to reject H0)')\n",
    "else:\n",
    "    print('Sample does not look Gaussian (reject H0)')\n"
   ]
  },
  {
   "cell_type": "code",
   "execution_count": 66,
   "id": "3b14a02f",
   "metadata": {},
   "outputs": [
    {
     "data": {
      "image/png": "[encoded data removed]",
      "text/plain": [
       "<Figure size 640x480 with 1 Axes>"
      ]
     },
     "metadata": {},
     "output_type": "display_data"
    }
   ],
   "source": [
    "import scipy.stats as stats\n",
    "\n",
    "# Q-Q plot\n",
    "plt.figure()\n",
    "stats.probplot(simulated_index, dist=\"norm\", plot=plt)\n",
    "plt.title('Q-Q plot of Simulated S&P-500 Index Levels')\n",
    "plt.show()\n"
   ]
  },
  {
   "cell_type": "markdown",
   "id": "2408f21f",
   "metadata": {},
   "source": [
    "## Part g)"
   ]
  },
  {
   "cell_type": "code",
   "execution_count": 79,
   "id": "3b56b479",
   "metadata": {},
   "outputs": [
    {
     "name": "stdout",
     "output_type": "stream",
     "text": [
      "0.0066\n"
     ]
    }
   ],
   "source": [
    "put_payoffs = []\n",
    "for _ in range(simulations):\n",
    "    eps = np.random.normal(0, 1, months)\n",
    "    index_levels = S_0 * np.exp(np.cumsum((mu - 0.5 * sigma**2) + sigma * eps))\n",
    "    final_index = index_levels[-1]\n",
    "    # Payoff calculation: 1 if final index is above strike, 0 otherwise\n",
    "    put_payoffs.append(1 if final_index < strike else 0)\n",
    "    \n",
    "expected_put_payoff = np.mean(put_payoffs) \n",
    "print(expected_put_payoff)"
   ]
  },
  {
   "cell_type": "markdown",
   "id": "b968ff4f",
   "metadata": {},
   "source": [
    "## Part h)"
   ]
  },
  {
   "cell_type": "code",
   "execution_count": 80,
   "id": "1a148155",
   "metadata": {},
   "outputs": [
    {
     "name": "stdout",
     "output_type": "stream",
     "text": [
      "0.9924\n"
     ]
    }
   ],
   "source": [
    "call_payoffs = []\n",
    "for _ in range(simulations):\n",
    "    eps = np.random.normal(0, 1, months)\n",
    "    index_levels = S_0 * np.exp(np.cumsum((mu - 0.5 * sigma**2) + sigma * eps))\n",
    "    final_index = index_levels[-1]\n",
    "    # Payoff calculation: 1 if final index is above strike, 0 otherwise\n",
    "    call_payoffs.append(1 if final_index > strike else 0)\n",
    "    \n",
    "expected_call_payoff = np.mean(call_payoffs)\n",
    "print(expected_call_payoff)"
   ]
  },
  {
   "cell_type": "code",
   "execution_count": 81,
   "id": "13945fcf",
   "metadata": {},
   "outputs": [
    {
     "name": "stdout",
     "output_type": "stream",
     "text": [
      "0.999\n"
     ]
    }
   ],
   "source": [
    "print(expected_put_payoff + expected_call_payoff)"
   ]
  },
  {
   "cell_type": "code",
   "execution_count": null,
   "id": "eb17e840",
   "metadata": {},
   "outputs": [],
   "source": []
  },
  {
   "cell_type": "code",
   "execution_count": null,
   "id": "17955d11",
   "metadata": {},
   "outputs": [],
   "source": []
  }
 ],
 "metadata": {
  "kernelspec": {
   "display_name": "Python 3 (ipykernel)",
   "language": "python",
   "name": "python3"
  },
  "language_info": {
   "codemirror_mode": {
    "name": "ipython",
    "version": 3
   },
   "file_extension": ".py",
   "mimetype": "text/x-python",
   "name": "python",
   "nbconvert_exporter": "python",
   "pygments_lexer": "ipython3",
   "version": "3.11.4"
  }
 },
 "nbformat": 4,
 "nbformat_minor": 5
}
