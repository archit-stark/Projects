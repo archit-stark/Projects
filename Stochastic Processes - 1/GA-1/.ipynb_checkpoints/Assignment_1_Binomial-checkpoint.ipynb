{
 "cells": [
  {
   "cell_type": "markdown",
   "id": "47870e9a-28bb-4ef8-91c5-fbe2b24df323",
   "metadata": {},
   "source": [
    "#### Libraries"
   ]
  },
  {
   "cell_type": "code",
   "execution_count": null,
   "id": "a9eaa139-c634-4b02-b463-182615bb0f7c",
   "metadata": {},
   "outputs": [],
   "source": [
    "import pandas as pd\n",
    "import numpy as np\n",
    "import matplotlib.pyplot as plt\n",
    "import networkx as nx\n",
    "import sympy as sp"
   ]
  },
  {
   "cell_type": "markdown",
   "id": "51518eee-6e4d-49f1-9f6b-7f93639f40b9",
   "metadata": {},
   "source": [
    "## Part 2"
   ]
  },
  {
   "cell_type": "markdown",
   "id": "380cdb16-756c-4457-a5a1-635dbd275246",
   "metadata": {},
   "source": [
    "## Constructing Binomial Tree"
   ]
  },
  {
   "cell_type": "code",
   "execution_count": null,
   "id": "f41546ad-90ee-4c23-9005-a223c468bdd0",
   "metadata": {},
   "outputs": [],
   "source": []
  },
  {
   "cell_type": "code",
   "execution_count": null,
   "id": "4fd76358-f64b-4243-b215-54bb5c8aa6df",
   "metadata": {},
   "outputs": [],
   "source": []
  },
  {
   "cell_type": "markdown",
   "id": "12c04dc4-f5b0-4482-af09-f8d561b6b0e0",
   "metadata": {},
   "source": [
    "#### Calculating u and d using the Expected value and Variance equation"
   ]
  },
  {
   "cell_type": "code",
   "execution_count": 427,
   "id": "bb63621c-4bf5-46c6-adb0-7831ab3201bf",
   "metadata": {},
   "outputs": [
    {
     "name": "stdout",
     "output_type": "stream",
     "text": [
      "u: 1.04766\n",
      "d: 0.95298\n"
     ]
    }
   ],
   "source": [
    "def calculate_u_d(steps):\n",
    "    # Define symbols\n",
    "    r_u, r_d = sp.symbols('r_u r_d')\n",
    "    \n",
    "    # Monthly expected return and variance\n",
    "    monthly_return = 0.006\n",
    "    monthly_variance = 0.047**2\n",
    "    \n",
    "    # Adjust return and variance based on steps\n",
    "    adjusted_return = monthly_return * (3 / steps)\n",
    "    adjusted_variance = monthly_variance * (3 / steps)\n",
    "    \n",
    "    # Define the two equations\n",
    "    expected_return_eq = 0.56 * r_u + 0.44 * r_d - adjusted_return  # Expected return equation\n",
    "    variance_eq = 0.56 * (r_u - adjusted_return)**2 + 0.44 * (r_d - adjusted_return)**2 - adjusted_variance  # Variance equation\n",
    "    \n",
    "    # Solve the system of equations\n",
    "    solution_discrete = sp.solve([expected_return_eq, variance_eq], (r_u, r_d))\n",
    "    \n",
    "    # Calculate u and d from the returns\n",
    "    u_1 = np.round(float(1 + solution_discrete[0][0]), 5)  # First set (u and d)\n",
    "    d_1 = np.round(float(1 + solution_discrete[0][1]), 5)\n",
    "    \n",
    "    return u_1, d_1\n",
    "\n",
    "u_1, d_1 = calculate_u_d(3)\n",
    "print(\"u:\", u)\n",
    "print(\"d:\", d)"
   ]
  },
  {
   "cell_type": "code",
   "execution_count": null,
   "id": "148f7670-a823-45d2-abdb-d3b48dbd974c",
   "metadata": {},
   "outputs": [],
   "source": []
  },
  {
   "cell_type": "code",
   "execution_count": 172,
   "id": "ad2ef2c0-fc3a-4741-b6d0-578a2d745e45",
   "metadata": {},
   "outputs": [
    {
     "name": "stdout",
     "output_type": "stream",
     "text": [
      "1.0476610472401122\n",
      "0.95297684896713\n"
     ]
    }
   ],
   "source": [
    "r_u, r_d = sp.symbols('r_u r_d')\n",
    "\n",
    "# Given variance (V) based on the provided standard deviation\n",
    "variance = 0.047**2\n",
    "\n",
    "# Define the two equations\n",
    "expected_return_eq = 0.56 * r_u + 0.44 * r_d - 0.006  # Expected return equation\n",
    "variance_eq = 0.56 * (r_u - 0.006)**2 + 0.44 * (r_d - 0.006)**2 - variance  # Variance equation\n",
    "\n",
    "# Solve the system of equations\n",
    "solution_discrete = sp.solve([expected_return_eq, variance_eq], (r_u, r_d))\n",
    "\n",
    "solution_discrete\n",
    "u = float(1 + solution_discrete[0][0])\n",
    "d = float(1 + solution_discrete[0][1])\n",
    "\n",
    "print(u)\n",
    "print(d)"
   ]
  },
  {
   "cell_type": "code",
   "execution_count": null,
   "id": "ebe9d924-8e7a-4ffe-9576-714c86ff0f3e",
   "metadata": {},
   "outputs": [],
   "source": [
    "# Visualization function\n",
    "def visualize_binomial_tree(stock_tree, time_labels):\n",
    "    G = nx.DiGraph()\n",
    "    \n",
    "    # Create edges with labels\n",
    "    for i in range(stock_tree.shape[1]):\n",
    "        for j in range(i + 1):\n",
    "            G.add_node(f'{i},{j}', label=f'{stock_tree[j, i]:.2f}')\n",
    "            if i < stock_tree.shape[1] - 1:\n",
    "                G.add_edge(f'{i},{j}', f'{i+1},{j}', weight='U')  # Up move\n",
    "                G.add_edge(f'{i},{j}', f'{i+1},{j+1}', weight='D')  # Down move\n",
    "    \n",
    "    # Create positions for the nodes\n",
    "    pos = {}\n",
    "    for i in range(stock_tree.shape[1]):\n",
    "        for j in range(i + 1):\n",
    "            pos[f'{i},{j}'] = (i, -j)  # Layout the nodes in a triangular pattern\n",
    "    \n",
    "    labels = nx.get_node_attributes(G, 'label')\n",
    "    \n",
    "    # Draw the graph\n",
    "    plt.figure(figsize=(6, 4))\n",
    "    nx.draw(G, pos, labels=labels, with_labels=True, node_size=2000, node_color='skyblue', font_size=10, font_weight='bold', arrows=False)\n",
    "    \n",
    "    # Add time labels\n",
    "    for i in range(stock_tree.shape[1]):\n",
    "        plt.text(i, -i - 0.5, f't = {time_labels[i]}', horizontalalignment='center', fontsize=12, fontweight='bold')\n",
    "    \n",
    "    plt.title(\"Binomial Tree with Time Labels\", size=14)\n",
    "    plt.show()\n",
    "\n",
    "# Function to generate binomial tree using the calculated u and d values\n",
    "def generate_binomial_tree(S0, u, d, N, output = \"graph\"):\n",
    "    \"\"\"\n",
    "    S0: Initial stock price (starting S&P-500 value)\n",
    "    u: Upward factor (discrete)\n",
    "    d: Downward factor (discrete)\n",
    "    N: Number of steps (in this case, 3)\n",
    "    \n",
    "    Returns: Stock price binomial tree using discrete compounding\n",
    "    \"\"\"\n",
    "    \n",
    "    # Initialize the binomial tree\n",
    "    stock_tree = np.zeros((N + 1, N + 1))\n",
    "    \n",
    "    # Fill the tree with stock prices\n",
    "    for i in range(N + 1):\n",
    "        for j in range(i + 1):\n",
    "            stock_tree[j, i] = S0 * (u ** (i - j)) * (d ** j)\n",
    "    \n",
    "    # Output options\n",
    "    if output == \"graph\" or output == \"both\":\n",
    "        visualize_binomial_tree(stock_tree, [i for i in range(N + 1)])\n",
    "    \n",
    "    if output == \"tree\" or output == \"both\":\n",
    "        print(\"Stock Price Binomial Tree:\")\n",
    "        print(stock_tree)\n",
    "\n",
    "# Example input values\n",
    "S0 = 5648  # Initial S&P-500 index level\n",
    "u = 1.0477  # Calculated upward factor\n",
    "d = 0.9530  # Calculated downward factor\n",
    "N = 3  # Number of time steps (3 months)\n",
    "\n",
    "# Generate and visualize the binomial tree\n",
    "generate_binomial_tree(S0, u, d, N, output=\"both\")\n"
   ]
  },
  {
   "cell_type": "markdown",
   "id": "bb4791a1-c11e-4d3e-a15b-4b5b3ef88dfe",
   "metadata": {},
   "source": [
    "#### Calculation Risk neutral probabilities"
   ]
  },
  {
   "cell_type": "code",
   "execution_count": 429,
   "id": "dd1a388a-51cf-4cf4-bc9f-5acd266bce81",
   "metadata": {},
   "outputs": [
    {
     "data": {
      "text/plain": [
       "(0.5318, 0.4682)"
      ]
     },
     "execution_count": 429,
     "metadata": {},
     "output_type": "execute_result"
    }
   ],
   "source": [
    "r = 0.04\n",
    "u = u_1 \n",
    "d = d_1\n",
    "\n",
    "# Using the formulas provided for risk-neutral probabilities\n",
    "R = r/12 # Risk-free rate per month\n",
    "\n",
    "# Calculate q_u and q_d\n",
    "q_u = np.round(((1 + R) - d) / (u - d),4)\n",
    "q_d = np.round((u - (1 + R)) / (u - d),4)\n",
    "\n",
    "q_u, q_d\n"
   ]
  },
  {
   "cell_type": "markdown",
   "id": "34b06d3e-3f2c-41f6-bfec-f6e5e9498757",
   "metadata": {},
   "source": [
    "#### Part a)"
   ]
  },
  {
   "cell_type": "code",
   "execution_count": 431,
   "id": "1ec83e20-552b-4f0c-8eaa-7e190909735d",
   "metadata": {},
   "outputs": [
    {
     "data": {
      "image/png": "[encoded data removed]",
      "text/plain": [
       "<Figure size 500x400 with 1 Axes>"
      ]
     },
     "metadata": {},
     "output_type": "display_data"
    },
    {
     "name": "stdout",
     "output_type": "stream",
     "text": [
      "Stock Price Binomial Tree:\n",
      "[[5648.00 5917.18 6199.20 6494.65]\n",
      " [   0.00 5382.43 5638.96 5907.71]\n",
      " [   0.00    0.00 5129.35 5373.81]\n",
      " [   0.00    0.00    0.00 4888.17]]\n"
     ]
    }
   ],
   "source": [
    "# Visualization function\n",
    "def visualize_binomial_tree(stock_tree, time_labels):\n",
    "    G = nx.DiGraph()\n",
    "    \n",
    "    # Create edges with labels\n",
    "    for i in range(stock_tree.shape[1]):\n",
    "        for j in range(i + 1):\n",
    "            G.add_node(f'{i},{j}', label=f'{stock_tree[j, i]:.2f}')\n",
    "            if i < stock_tree.shape[1] - 1:\n",
    "                G.add_edge(f'{i},{j}', f'{i+1},{j}', weight='U')  # Up move\n",
    "                G.add_edge(f'{i},{j}', f'{i+1},{j+1}', weight='D')  # Down move\n",
    "    \n",
    "    # Create positions for the nodes\n",
    "    pos = {}\n",
    "    for i in range(stock_tree.shape[1]):\n",
    "        for j in range(i + 1):\n",
    "            pos[f'{i},{j}'] = (i, -j)  # Layout the nodes in a triangular pattern\n",
    "    \n",
    "    labels = nx.get_node_attributes(G, 'label')\n",
    "    \n",
    "    # Draw the graph\n",
    "    plt.figure(figsize=(5, 4))\n",
    "    nx.draw(G, pos, labels=labels, with_labels=True, node_size=2000, node_color='skyblue', font_size=10, font_weight='bold', arrows=False)\n",
    "    \n",
    "    # Add time labels\n",
    "    for i in range(stock_tree.shape[1]):\n",
    "        plt.text(i, -i - 0.5, f't = {time_labels[i]}', horizontalalignment='center', fontsize=12, fontweight='bold')\n",
    "    \n",
    "    plt.title(\"Binomial Tree with Time Labels\", size=14)\n",
    "    plt.show()\n",
    "\n",
    "# Function to generate binomial tree using the calculated u and d values\n",
    "def generate_binomial_tree(S0, u, d, N, output = \"graph\"):\n",
    "    \n",
    "    # Initialize the binomial tree\n",
    "    stock_tree = np.zeros((N + 1, N + 1))\n",
    "    \n",
    "    # Fill the tree with stock prices\n",
    "    for i in range(N + 1):\n",
    "        for j in range(i + 1):\n",
    "            stock_tree[j, i] = S0 * (u ** (i - j)) * (d ** j)\n",
    "    \n",
    "    # Output options\n",
    "    if output == \"graph\" or output == \"both\":\n",
    "        visualize_binomial_tree(stock_tree, [i for i in range(N + 1)])\n",
    "    \n",
    "    if output == \"tree\" or output == \"both\":\n",
    "        print(\"Stock Price Binomial Tree:\")\n",
    "        print(stock_tree)\n",
    "\n",
    "# Example input values\n",
    "S0 = 5648  # Initial S&P-500 index level\n",
    "u = u_1 # Calculated upward factor\n",
    "d = d_1  # Calculated downward factor\n",
    "N = 3  # Number of time steps (3 months)\n",
    "\n",
    "# Generate and visualize the binomial tree\n",
    "generate_binomial_tree(S0, u, d, N, output=\"both\")\n"
   ]
  },
  {
   "cell_type": "markdown",
   "id": "d46470c2-4400-4cd5-a4b7-d718f6140c40",
   "metadata": {},
   "source": [
    "### Part b)"
   ]
  },
  {
   "cell_type": "markdown",
   "id": "b9e3378c-e558-46d1-8276-2c2b52d062a8",
   "metadata": {},
   "source": [
    "#### 3 month Call Option Price"
   ]
  },
  {
   "cell_type": "code",
   "execution_count": 476,
   "id": "56683a14-ead2-4a5c-8a9b-da9718b37f69",
   "metadata": {},
   "outputs": [
    {
     "name": "stdout",
     "output_type": "stream",
     "text": [
      "Price of 3-month European Call Option is 254.2375\n"
     ]
    }
   ],
   "source": [
    "# Parameters\n",
    "S0 = 5648 \n",
    "K = 5600  \n",
    "r = 0.04  \n",
    "N = 3  # Number of steps\n",
    "u, d = calculate_u_d(3)\n",
    "\n",
    "R = (r*0.25)/N # Monthly Rate\n",
    "\n",
    "# Step 1: Initialize the stock price tree\n",
    "stock_tree = np.zeros((N + 1, N + 1))\n",
    "\n",
    "# Step 2: Fill the stock price tree\n",
    "for i in range(N + 1):\n",
    "    for j in range(i + 1):\n",
    "        stock_tree[j, i] = S0 * (u ** (i - j)) * (d ** j)\n",
    "\n",
    "# Step 3: Initialize the option price tree\n",
    "option_tree = np.zeros((N + 1, N + 1))\n",
    "\n",
    "# Step 4: Calculate the option payoff at maturity (t = N)\n",
    "for j in range(N + 1):\n",
    "    option_tree[j, N] = max(stock_tree[j, N] - K, 0)  # Payoff at maturity\n",
    "\n",
    "# Step 5: Backward induction to calculate option price at earlier nodes\n",
    "for i in range(N - 1, -1, -1):\n",
    "    for j in range(i + 1):\n",
    "        option_tree[j, i] = (q_u * option_tree[j, i + 1] + q_d * option_tree[j + 1, i + 1]) / (1 + R)\n",
    "\n",
    "# The option price at the root of the tree (at t = 0)\n",
    "option_price_at_t0 = option_tree[0, 0]\n",
    "print(\"Price of 3-month European Call Option is\", np.round(option_price_at_t0,4))\n"
   ]
  },
  {
   "cell_type": "code",
   "execution_count": 300,
   "id": "d51fa7c6-bd8b-437f-bd4a-4189611d685d",
   "metadata": {},
   "outputs": [
    {
     "data": {
      "text/plain": [
       "array([[254.24, 403.56, 617.79, 894.65],\n",
       "       [  0.00,  86.45, 163.10, 307.71],\n",
       "       [  0.00,   0.00,   0.00,   0.00],\n",
       "       [  0.00,   0.00,   0.00,   0.00]])"
      ]
     },
     "execution_count": 300,
     "metadata": {},
     "output_type": "execute_result"
    }
   ],
   "source": [
    "option_tree"
   ]
  },
  {
   "cell_type": "code",
   "execution_count": 302,
   "id": "1efe81f5-290f-442a-b51e-33fa9e371a5c",
   "metadata": {},
   "outputs": [
    {
     "data": {
      "text/plain": [
       "array([[5648.00, 5917.18, 6199.20, 6494.65],\n",
       "       [   0.00, 5382.43, 5638.96, 5907.71],\n",
       "       [   0.00,    0.00, 5129.35, 5373.81],\n",
       "       [   0.00,    0.00,    0.00, 4888.17]])"
      ]
     },
     "execution_count": 302,
     "metadata": {},
     "output_type": "execute_result"
    }
   ],
   "source": [
    "stock_tree"
   ]
  },
  {
   "cell_type": "markdown",
   "id": "6dcfd6a2-c729-4de3-9b6c-5957f12fa2e6",
   "metadata": {},
   "source": [
    "### Part c)"
   ]
  },
  {
   "cell_type": "code",
   "execution_count": null,
   "id": "f906928a-033b-4127-91e9-0a9b32f84497",
   "metadata": {},
   "outputs": [],
   "source": []
  },
  {
   "cell_type": "code",
   "execution_count": 322,
   "id": "9fe1ac9c-f41d-4d2c-ac7c-b25f896612d5",
   "metadata": {},
   "outputs": [
    {
     "name": "stdout",
     "output_type": "stream",
     "text": [
      "The Black-Scholes price of the European call option is 238.2395\n"
     ]
    }
   ],
   "source": [
    "from scipy.stats import norm\n",
    "\n",
    "def black_scholes(S0, K, r, T, sigma, option_type = 'Call'):\n",
    "    d1 = (np.log(S0 / K) + (r + 0.5 * sigma**2) * T) / (sigma * np.sqrt(T))\n",
    "    d2 = d1 - sigma * np.sqrt(T)\n",
    "    \n",
    "    if option_type == \"Call\":\n",
    "        option_price = S0 * norm.cdf(d1) - K * np.exp(-r * T) * norm.cdf(d2)\n",
    "    elif option_type == \"Put\":\n",
    "        option_price = K * np.exp(-r * T) * norm.cdf(-d2) - S0 * norm.cdf(-d1)\n",
    "    else:\n",
    "        raise ValueError(\"Invalid option type. Please input 'Call' or 'Put'.\")\n",
    "    \n",
    "    return option_price\n",
    "\n",
    "# Parameters\n",
    "S0 = 5648\n",
    "K = 5600 \n",
    "T = 3 / 12 \n",
    "r = 0.04 \n",
    "sigma_monthly = 0.047\n",
    "sigma_annual = sigma_monthly * np.sqrt(12)\n",
    "\n",
    "# Calculate the Black-Scholes price\n",
    "bs_call_price = black_scholes(S0, K, r, T, sigma_annual,'Call')\n",
    "print(f\"The Black-Scholes price of the European call option is\", np.round(bs_call_price,4))\n"
   ]
  },
  {
   "cell_type": "code",
   "execution_count": 306,
   "id": "f08390a5-e99a-4483-a61c-1af02abc7c94",
   "metadata": {},
   "outputs": [
    {
     "name": "stdout",
     "output_type": "stream",
     "text": [
      "Price of CE using Binomial Model: 254.238\n",
      "Price of CE using BSM Model: 238.24\n"
     ]
    }
   ],
   "source": [
    "print(\"Price of CE using Binomial Model:\", np.round(option_price_at_t0,3))\n",
    "print(\"Price of CE using BSM Model:\", np.round(bs_call_price,3))"
   ]
  },
  {
   "cell_type": "code",
   "execution_count": null,
   "id": "dc27a045-c08d-4e12-a562-6180eb424f13",
   "metadata": {},
   "outputs": [],
   "source": []
  },
  {
   "cell_type": "markdown",
   "id": "1e1a744a-de30-4104-a225-b9b963a9f112",
   "metadata": {},
   "source": [
    "### Part d)"
   ]
  },
  {
   "cell_type": "code",
   "execution_count": 441,
   "id": "826aaf0b-c5f8-4b55-9604-a012b9c4fc39",
   "metadata": {},
   "outputs": [],
   "source": [
    "def price_european_call_binomial(S0, K, r, u, d, N, q_u=None, q_d=None):\n",
    "   \n",
    "    #R = r * delta_t \n",
    "    R = (r*0.25)/N\n",
    "    if q_u is None:  \n",
    "        q_u = (1 + R - d) / (u - d)\n",
    "    if q_d is None: \n",
    "        q_d = 1 - q_u\n",
    "\n",
    "    # Initialize stock price tree\n",
    "    stock_tree = np.zeros((N + 1, N + 1))\n",
    "\n",
    "    # Fill the stock price tree\n",
    "    for i in range(N + 1):\n",
    "        for j in range(i + 1):\n",
    "            stock_tree[j, i] = S0 * (u ** (i - j)) * (d ** j)\n",
    "\n",
    "    # Initialize option price tree\n",
    "    option_tree = np.zeros((N + 1, N + 1))\n",
    "\n",
    "    # Calculate option payoff at maturity (t = N)\n",
    "    for j in range(N + 1):\n",
    "        option_tree[j, N] = max(stock_tree[j, N] - K, 0)  # Payoff at maturity\n",
    "\n",
    "    # Backward induction to calculate option price at earlier nodes\n",
    "    for i in range(N - 1, -1, -1):\n",
    "        for j in range(i + 1):\n",
    "            option_tree[j, i] = (q_u * option_tree[j, i + 1] + q_d * option_tree[j + 1, i + 1]) / (1 + R)\n",
    "\n",
    "    # Return the option price at the root of the tree (at t = 0), along with stock_tree and option_tree\n",
    "    option_price_at_t0 = option_tree[0, 0]\n",
    "    return stock_tree, option_tree, option_price_at_t0\n"
   ]
  },
  {
   "cell_type": "code",
   "execution_count": 478,
   "id": "eb53378c-a22f-480b-b69f-44ef3453ba4e",
   "metadata": {},
   "outputs": [
    {
     "data": {
      "text/plain": [
       "254.263"
      ]
     },
     "execution_count": 478,
     "metadata": {},
     "output_type": "execute_result"
    }
   ],
   "source": [
    "# Parameters\n",
    "S0 = 5648 \n",
    "K = 5600  \n",
    "r = 0.04  \n",
    "N = 3  # Number of steps\n",
    "u, d = calculate_u_d(3)\n",
    "stock_tree, option_tree, option_price_at_t0 = price_european_call_binomial(S0, K, r, u, d, N, q_u=None, q_d=None)\n",
    "np.round(option_price_at_t0,3)"
   ]
  },
  {
   "cell_type": "code",
   "execution_count": 326,
   "id": "5f6010da-5fae-4ac7-9caf-0a4bc7831800",
   "metadata": {},
   "outputs": [
    {
     "data": {
      "image/png": "[encoded data removed]",
      "text/plain": [
       "<Figure size 800x400 with 1 Axes>"
      ]
     },
     "metadata": {},
     "output_type": "display_data"
    }
   ],
   "source": [
    "# Given parameters\n",
    "S0 = 5648  # Initial stock price\n",
    "K = 5600   # Strike price\n",
    "r = 0.04   # Annual risk-free rate\n",
    "T = 3 / 12  # 3 months = 0.25 years\n",
    "sigma = 0.047 * np.sqrt(12)  # Annual volatility\n",
    "\n",
    "# Calculate Black-Scholes option price\n",
    "bs_option_price = black_scholes(S0, K, r, T, sigma, 'Call')\n",
    "\n",
    "# Step sizes and binomial tree calculations\n",
    "steps = [3, 10, 100, 1000, 10000]  # Number of steps to try\n",
    "binomial_prices_call = []\n",
    "for N in steps:\n",
    "    #delta_t = T / N  # Adjust delta_t for each N steps\n",
    "    u, d = calculate_u_d(N)\n",
    "    stock_tree, option_tree, price = price_european_call_binomial(S0, K, r, delta_t, u, d, N)\n",
    "    binomial_prices_call.append(price)\n",
    "\n",
    "# Plot the results\n",
    "plt.figure(figsize=(8, 4))\n",
    "plt.plot(steps, binomial_prices_call, label=\"Binomial Tree Prices\", marker='o')\n",
    "plt.axhline(y=bs_option_price, color='r', linestyle='--', label=\"Black-Scholes Price\")\n",
    "plt.xscale('log')  # Log scale for better visualization of convergence\n",
    "plt.xlabel('Number of Steps (log scale)')\n",
    "plt.ylabel('Option Price')\n",
    "plt.title('Convergence of Binomial Tree to Black-Scholes Price')\n",
    "plt.legend()\n",
    "plt.grid(True)\n",
    "plt.show()"
   ]
  },
  {
   "cell_type": "code",
   "execution_count": null,
   "id": "b9a01cc9-efad-4c3c-94ad-2695497d9421",
   "metadata": {},
   "outputs": [],
   "source": []
  },
  {
   "cell_type": "code",
   "execution_count": null,
   "id": "fc0fce24-6898-4880-a12c-c61a77e19f11",
   "metadata": {},
   "outputs": [],
   "source": []
  },
  {
   "cell_type": "code",
   "execution_count": null,
   "id": "24105853-c47d-427a-b584-038d17138a55",
   "metadata": {},
   "outputs": [],
   "source": []
  },
  {
   "cell_type": "code",
   "execution_count": null,
   "id": "e1c9fe4b-2b5c-4ff3-9fb8-a783fdda660c",
   "metadata": {},
   "outputs": [],
   "source": []
  },
  {
   "cell_type": "code",
   "execution_count": null,
   "id": "d464dba2-e3ed-4bd8-bcc0-cc6f1092dc60",
   "metadata": {},
   "outputs": [],
   "source": []
  },
  {
   "cell_type": "markdown",
   "id": "82e090b5-e562-4b23-8496-60857c81d3f2",
   "metadata": {},
   "source": [
    "### Part e)"
   ]
  },
  {
   "cell_type": "code",
   "execution_count": 328,
   "id": "fb2359db-a02d-4be0-835f-c1fa6b5b7d6b",
   "metadata": {},
   "outputs": [],
   "source": [
    "option_tree_10000 = pd.DataFrame(option_tree)"
   ]
  },
  {
   "cell_type": "code",
   "execution_count": 330,
   "id": "3dd2dba1-9001-4051-b36b-520f909f306b",
   "metadata": {},
   "outputs": [],
   "source": [
    "option_tree_10000.columns = ['Sim_'+str(i) for i in range(0,len(option_tree_10000))]"
   ]
  },
  {
   "cell_type": "code",
   "execution_count": null,
   "id": "6e7b5b8f-1d38-4913-a2d5-899603a66d8e",
   "metadata": {},
   "outputs": [],
   "source": []
  },
  {
   "cell_type": "code",
   "execution_count": 336,
   "id": "30e11aa4-96eb-49c1-b2df-2c101d5c16fe",
   "metadata": {},
   "outputs": [],
   "source": [
    "# Given parameters\n",
    "N = 10000\n",
    "S0 = 5648  \n",
    "K = 5600  \n",
    "r = 0.04  \n",
    "T = 3 / 12  \n",
    "sigma = 0.047*np.sqrt(12)  \n",
    "u, d = calculate_u_d(N)\n",
    "q_u = 0.56\n",
    "q_d = 1 - q_u\n",
    "stock_tree, option_tree, price = price_european_call_binomial(S0, K, r, delta_t, u, d, N, q_u, q_d)"
   ]
  },
  {
   "cell_type": "code",
   "execution_count": 344,
   "id": "bd8d9f2a-bf17-47c7-8f32-ce4a05128d3e",
   "metadata": {},
   "outputs": [
    {
     "data": {
      "image/png": "[encoded data removed]",
      "text/plain": [
       "<Figure size 640x480 with 1 Axes>"
      ]
     },
     "metadata": {},
     "output_type": "display_data"
    }
   ],
   "source": [
    "option_tree_10000_2 = pd.DataFrame(option_tree)\n",
    "option_tree_10000_2.columns = ['Sim_'+str(i) for i in range(0,len(option_tree_10000))]\n",
    "plt.hist(list(np.round(option_tree_10000_2['Sim_10000'],3)), bins = 20)\n",
    "plt.title(['Option Values using real world probabilities'])\n",
    "plt.show()"
   ]
  },
  {
   "cell_type": "code",
   "execution_count": null,
   "id": "3a24aca2-cfa7-4829-80d4-713021a8f511",
   "metadata": {},
   "outputs": [],
   "source": []
  },
  {
   "cell_type": "code",
   "execution_count": 348,
   "id": "6ecc8fe2-6019-4d4d-b958-6541df7b00b3",
   "metadata": {},
   "outputs": [
    {
     "data": {
      "text/html": [
       "<div>\n",
       "<style scoped>\n",
       "    .dataframe tbody tr th:only-of-type {\n",
       "        vertical-align: middle;\n",
       "    }\n",
       "\n",
       "    .dataframe tbody tr th {\n",
       "        vertical-align: top;\n",
       "    }\n",
       "\n",
       "    .dataframe thead th {\n",
       "        text-align: right;\n",
       "    }\n",
       "</style>\n",
       "<table border=\"1\" class=\"dataframe\">\n",
       "  <thead>\n",
       "    <tr style=\"text-align: right;\">\n",
       "      <th></th>\n",
       "      <th>Sim_0</th>\n",
       "      <th>Sim_1</th>\n",
       "      <th>Sim_2</th>\n",
       "      <th>Sim_3</th>\n",
       "      <th>Sim_4</th>\n",
       "      <th>Sim_5</th>\n",
       "      <th>Sim_6</th>\n",
       "      <th>Sim_7</th>\n",
       "      <th>Sim_8</th>\n",
       "      <th>Sim_9</th>\n",
       "      <th>...</th>\n",
       "      <th>Sim_9991</th>\n",
       "      <th>Sim_9992</th>\n",
       "      <th>Sim_9993</th>\n",
       "      <th>Sim_9994</th>\n",
       "      <th>Sim_9995</th>\n",
       "      <th>Sim_9996</th>\n",
       "      <th>Sim_9997</th>\n",
       "      <th>Sim_9998</th>\n",
       "      <th>Sim_9999</th>\n",
       "      <th>Sim_10000</th>\n",
       "    </tr>\n",
       "  </thead>\n",
       "  <tbody>\n",
       "    <tr>\n",
       "      <th>0</th>\n",
       "      <td>159.484361</td>\n",
       "      <td>161.387996</td>\n",
       "      <td>163.307031</td>\n",
       "      <td>165.241493</td>\n",
       "      <td>167.191409</td>\n",
       "      <td>169.156806</td>\n",
       "      <td>171.137708</td>\n",
       "      <td>173.134139</td>\n",
       "      <td>175.146120</td>\n",
       "      <td>177.173674</td>\n",
       "      <td>...</td>\n",
       "      <td>7.491036e+06</td>\n",
       "      <td>7.496453e+06</td>\n",
       "      <td>7.501874e+06</td>\n",
       "      <td>7.507299e+06</td>\n",
       "      <td>7.512728e+06</td>\n",
       "      <td>7.518161e+06</td>\n",
       "      <td>7.523597e+06</td>\n",
       "      <td>7.529038e+06</td>\n",
       "      <td>7.534483e+06</td>\n",
       "      <td>7.539931e+06</td>\n",
       "    </tr>\n",
       "    <tr>\n",
       "      <th>1</th>\n",
       "      <td>0.000000</td>\n",
       "      <td>157.061915</td>\n",
       "      <td>158.945955</td>\n",
       "      <td>160.845359</td>\n",
       "      <td>162.760156</td>\n",
       "      <td>164.690375</td>\n",
       "      <td>166.636043</td>\n",
       "      <td>168.597186</td>\n",
       "      <td>170.573828</td>\n",
       "      <td>172.565995</td>\n",
       "      <td>...</td>\n",
       "      <td>7.478750e+06</td>\n",
       "      <td>7.484159e+06</td>\n",
       "      <td>7.489571e+06</td>\n",
       "      <td>7.494987e+06</td>\n",
       "      <td>7.500407e+06</td>\n",
       "      <td>7.505831e+06</td>\n",
       "      <td>7.511258e+06</td>\n",
       "      <td>7.516690e+06</td>\n",
       "      <td>7.522126e+06</td>\n",
       "      <td>7.527565e+06</td>\n",
       "    </tr>\n",
       "    <tr>\n",
       "      <th>2</th>\n",
       "      <td>0.000000</td>\n",
       "      <td>0.000000</td>\n",
       "      <td>154.664404</td>\n",
       "      <td>156.528893</td>\n",
       "      <td>158.408710</td>\n",
       "      <td>160.303884</td>\n",
       "      <td>162.214445</td>\n",
       "      <td>164.140422</td>\n",
       "      <td>166.081842</td>\n",
       "      <td>168.038731</td>\n",
       "      <td>...</td>\n",
       "      <td>7.466485e+06</td>\n",
       "      <td>7.471884e+06</td>\n",
       "      <td>7.477288e+06</td>\n",
       "      <td>7.482695e+06</td>\n",
       "      <td>7.488106e+06</td>\n",
       "      <td>7.493521e+06</td>\n",
       "      <td>7.498940e+06</td>\n",
       "      <td>7.504362e+06</td>\n",
       "      <td>7.509789e+06</td>\n",
       "      <td>7.515220e+06</td>\n",
       "    </tr>\n",
       "    <tr>\n",
       "      <th>3</th>\n",
       "      <td>0.000000</td>\n",
       "      <td>0.000000</td>\n",
       "      <td>0.000000</td>\n",
       "      <td>152.291768</td>\n",
       "      <td>154.136755</td>\n",
       "      <td>155.997030</td>\n",
       "      <td>157.872625</td>\n",
       "      <td>159.763570</td>\n",
       "      <td>161.669897</td>\n",
       "      <td>163.591633</td>\n",
       "      <td>...</td>\n",
       "      <td>7.454240e+06</td>\n",
       "      <td>7.459630e+06</td>\n",
       "      <td>7.465024e+06</td>\n",
       "      <td>7.470423e+06</td>\n",
       "      <td>7.475825e+06</td>\n",
       "      <td>7.481231e+06</td>\n",
       "      <td>7.486641e+06</td>\n",
       "      <td>7.492055e+06</td>\n",
       "      <td>7.497473e+06</td>\n",
       "      <td>7.502894e+06</td>\n",
       "    </tr>\n",
       "    <tr>\n",
       "      <th>4</th>\n",
       "      <td>0.000000</td>\n",
       "      <td>0.000000</td>\n",
       "      <td>0.000000</td>\n",
       "      <td>0.000000</td>\n",
       "      <td>149.943950</td>\n",
       "      <td>151.769483</td>\n",
       "      <td>153.610264</td>\n",
       "      <td>155.466325</td>\n",
       "      <td>157.337700</td>\n",
       "      <td>159.224418</td>\n",
       "      <td>...</td>\n",
       "      <td>7.442014e+06</td>\n",
       "      <td>7.447396e+06</td>\n",
       "      <td>7.452781e+06</td>\n",
       "      <td>7.458171e+06</td>\n",
       "      <td>7.463564e+06</td>\n",
       "      <td>7.468961e+06</td>\n",
       "      <td>7.474363e+06</td>\n",
       "      <td>7.479768e+06</td>\n",
       "      <td>7.485177e+06</td>\n",
       "      <td>7.490589e+06</td>\n",
       "    </tr>\n",
       "  </tbody>\n",
       "</table>\n",
       "<p>5 rows × 10001 columns</p>\n",
       "</div>"
      ],
      "text/plain": [
       "        Sim_0       Sim_1       Sim_2       Sim_3       Sim_4       Sim_5  \\\n",
       "0  159.484361  161.387996  163.307031  165.241493  167.191409  169.156806   \n",
       "1    0.000000  157.061915  158.945955  160.845359  162.760156  164.690375   \n",
       "2    0.000000    0.000000  154.664404  156.528893  158.408710  160.303884   \n",
       "3    0.000000    0.000000    0.000000  152.291768  154.136755  155.997030   \n",
       "4    0.000000    0.000000    0.000000    0.000000  149.943950  151.769483   \n",
       "\n",
       "        Sim_6       Sim_7       Sim_8       Sim_9  ...      Sim_9991  \\\n",
       "0  171.137708  173.134139  175.146120  177.173674  ...  7.491036e+06   \n",
       "1  166.636043  168.597186  170.573828  172.565995  ...  7.478750e+06   \n",
       "2  162.214445  164.140422  166.081842  168.038731  ...  7.466485e+06   \n",
       "3  157.872625  159.763570  161.669897  163.591633  ...  7.454240e+06   \n",
       "4  153.610264  155.466325  157.337700  159.224418  ...  7.442014e+06   \n",
       "\n",
       "       Sim_9992      Sim_9993      Sim_9994      Sim_9995      Sim_9996  \\\n",
       "0  7.496453e+06  7.501874e+06  7.507299e+06  7.512728e+06  7.518161e+06   \n",
       "1  7.484159e+06  7.489571e+06  7.494987e+06  7.500407e+06  7.505831e+06   \n",
       "2  7.471884e+06  7.477288e+06  7.482695e+06  7.488106e+06  7.493521e+06   \n",
       "3  7.459630e+06  7.465024e+06  7.470423e+06  7.475825e+06  7.481231e+06   \n",
       "4  7.447396e+06  7.452781e+06  7.458171e+06  7.463564e+06  7.468961e+06   \n",
       "\n",
       "       Sim_9997      Sim_9998      Sim_9999     Sim_10000  \n",
       "0  7.523597e+06  7.529038e+06  7.534483e+06  7.539931e+06  \n",
       "1  7.511258e+06  7.516690e+06  7.522126e+06  7.527565e+06  \n",
       "2  7.498940e+06  7.504362e+06  7.509789e+06  7.515220e+06  \n",
       "3  7.486641e+06  7.492055e+06  7.497473e+06  7.502894e+06  \n",
       "4  7.474363e+06  7.479768e+06  7.485177e+06  7.490589e+06  \n",
       "\n",
       "[5 rows x 10001 columns]"
      ]
     },
     "execution_count": 348,
     "metadata": {},
     "output_type": "execute_result"
    }
   ],
   "source": []
  },
  {
   "cell_type": "code",
   "execution_count": null,
   "id": "c7dc82f3-094b-40d5-92ce-50272cfba7a9",
   "metadata": {},
   "outputs": [],
   "source": []
  },
  {
   "cell_type": "code",
   "execution_count": null,
   "id": "4f8ed705-3127-4997-b5bc-fc3f58f089bc",
   "metadata": {},
   "outputs": [],
   "source": []
  },
  {
   "cell_type": "code",
   "execution_count": null,
   "id": "a3d1ea67-d141-49a3-a4dd-2e0171771d55",
   "metadata": {},
   "outputs": [],
   "source": []
  },
  {
   "cell_type": "markdown",
   "id": "d3866aca-82f0-4d61-a9f0-9cffa4601649",
   "metadata": {},
   "source": [
    "### Part f)"
   ]
  },
  {
   "cell_type": "code",
   "execution_count": 488,
   "id": "df1d8955-da55-492b-b68c-68b68959ea9c",
   "metadata": {},
   "outputs": [],
   "source": [
    "def price_european_put_binomial(S0, K, r, u, d, N, q_u=None, q_d=None):\n",
    "    # Adjust the rate R as in the call option function\n",
    "    R = (r * 0.25) / N  # Discrete rate per step, adjusted for N steps\n",
    "    if q_u is None:  # Risk-neutral probability for upward move\n",
    "        q_u = np.round((1 + R - d) / (u - d),4)\n",
    "    if q_d is None:  # Risk-neutral probability for downward move\n",
    "        q_d = 1 - q_u\n",
    "\n",
    "    # Initialize stock price tree\n",
    "    stock_tree = np.zeros((N + 1, N + 1))\n",
    "\n",
    "    # Fill the stock price tree\n",
    "    for i in range(N + 1):\n",
    "        for j in range(i + 1):\n",
    "            stock_tree[j, i] = S0 * (u ** (i - j)) * (d ** j)\n",
    "\n",
    "    # Initialize option price tree\n",
    "    option_tree = np.zeros((N + 1, N + 1))\n",
    "\n",
    "    # Calculate put option payoff at maturity (t = N)\n",
    "    for j in range(N + 1):\n",
    "        option_tree[j, N] = max(K - stock_tree[j, N], 0)  # Put option payoff at maturity\n",
    "\n",
    "    # Backward induction to calculate option price at earlier nodes\n",
    "    for i in range(N - 1, -1, -1):\n",
    "        for j in range(i + 1):\n",
    "            option_tree[j, i] = (q_u * option_tree[j, i + 1] + q_d * option_tree[j + 1, i + 1]) / (1 + R)\n",
    "\n",
    "    # Return the option price at the root of the tree (at t = 0), along with stock_tree and option_tree\n",
    "    option_price_at_t0 = option_tree[0, 0]\n",
    "    return stock_tree, option_tree, option_price_at_t0"
   ]
  },
  {
   "cell_type": "code",
   "execution_count": 369,
   "id": "52c707c3-be54-4bcb-b175-ea4e45c198c4",
   "metadata": {},
   "outputs": [
    {
     "data": {
      "image/png": "[encoded data removed]",
      "text/plain": [
       "<Figure size 600x600 with 1 Axes>"
      ]
     },
     "metadata": {},
     "output_type": "display_data"
    }
   ],
   "source": [
    "# Example usage\n",
    "# Given parameters\n",
    "S0 = 5648  # Initial stock price\n",
    "K = 5600   # Strike price\n",
    "r = 0.04   # Annual risk-free rate\n",
    "T = 3 / 12  # 3 months = 0.25 years\n",
    "sigma = 0.047 * np.sqrt(12)  # Annual volatility\n",
    "\n",
    "steps =  [3, 10, 100, 1000, 10000]  # Number of steps to try\n",
    "\n",
    "# Calculate Black-Scholes option price\n",
    "bs_option_price = black_scholes(S0, K, r, T, sigma, \"Put\")\n",
    "\n",
    "# Calculate binomial tree prices for different step counts\n",
    "binomial_prices_put = []\n",
    "for N in steps:\n",
    "    u, d = calculate_u_d(N)\n",
    "    stock_tree, option_tree, price = price_european_put_binomial(S0, K, r, delta_t, u, d, N)\n",
    "    binomial_prices_put.append(price)\n",
    "\n",
    "# Plot the results\n",
    "plt.figure(figsize=(6, 6))\n",
    "plt.plot(steps, binomial_prices_put, label=\"Binomial Tree Prices\", marker='o')\n",
    "plt.axhline(y=bs_option_price, color='r', linestyle='--', label=\"Black-Scholes Price\")\n",
    "plt.xscale('log')  # Log scale for better visualization of convergence\n",
    "plt.xlabel('Number of Steps (log scale)')\n",
    "plt.ylabel('Option Price')\n",
    "plt.title('Convergence of Binomial Tree to Black-Scholes Price - Put Option')\n",
    "plt.legend()\n",
    "plt.grid(True)\n",
    "plt.show()"
   ]
  },
  {
   "cell_type": "code",
   "execution_count": 371,
   "id": "abdc4780-4c8e-4864-8dc1-0ad7d66d80cc",
   "metadata": {},
   "outputs": [
    {
     "name": "stdout",
     "output_type": "stream",
     "text": [
      "[150.63394122764305, 135.84148150725497, 135.37509754840056, 134.78485626913337, 134.48138707081378]\n",
      "[254.2626716461956, 239.53470951443222, 239.09325659762106, 238.50551006204492, 238.20229034953272]\n"
     ]
    }
   ],
   "source": [
    "print(binomial_prices_put)\n",
    "print(binomial_prices_call)"
   ]
  },
  {
   "cell_type": "code",
   "execution_count": 461,
   "id": "2021805d-aed8-4247-96b0-eb3acbc618ce",
   "metadata": {},
   "outputs": [
    {
     "name": "stdout",
     "output_type": "stream",
     "text": [
      "Left-hand side (C - P): 103.63\n",
      "Right-hand side (S0 - K * (1 + r/n)^(-nT)): 103.63\n",
      "Put-Call Parity holds\n"
     ]
    }
   ],
   "source": [
    "import numpy as np\n",
    "\n",
    "# Given values\n",
    "S0 = 5648  # Current stock price\n",
    "K = 5600   # Strike price\n",
    "r = 0.04   # Risk-free interest rate\n",
    "T = 3 / 12 # Time to maturity (3 months = 0.25 years)\n",
    "n = 12     # Compounding frequency (monthly compounding)\n",
    "\n",
    "# Call and put prices (assumed to be American options, though put-call parity applies to European options)\n",
    "C = np.round(binomial_prices_call[0],2) # Call option price\n",
    "P = np.round(binomial_prices_put[0],2)# Put option price\n",
    "\n",
    "# Put-Call Parity: Left-hand side (C - P)\n",
    "put_call_parity_lhs = np.round(C - P,2)\n",
    "\n",
    "# Right-hand side (S0 - K * (1 + r/n)^(-nT)) using discrete compounding\n",
    "put_call_parity_rhs = np.round(S0 - K * (1 + r / n) ** (-n * T),2)\n",
    "\n",
    "# Print the results\n",
    "print(f\"Left-hand side (C - P): {put_call_parity_lhs}\")\n",
    "print(f\"Right-hand side (S0 - K * (1 + r/n)^(-nT)): {put_call_parity_rhs}\")\n",
    "\n",
    "# Check if they are approximately equal\n",
    "if np.isclose(put_call_parity_lhs, put_call_parity_rhs):\n",
    "    print(\"Put-Call Parity holds\")\n",
    "else:\n",
    "    print(\"Put-Call Parity does not hold\")\n"
   ]
  },
  {
   "cell_type": "markdown",
   "id": "b91865a7-e423-4422-8256-cb057e4afa9b",
   "metadata": {},
   "source": [
    "### Part g)"
   ]
  },
  {
   "cell_type": "markdown",
   "id": "00f600ab-3aa8-4e9f-ad87-2f63c69b1ccb",
   "metadata": {},
   "source": [
    "#### American Call & Put Option"
   ]
  },
  {
   "cell_type": "code",
   "execution_count": 499,
   "id": "43f0dc9c-c8f5-441c-af01-896b53c5d3b3",
   "metadata": {},
   "outputs": [],
   "source": [
    "def price_american_put_binomial(S0, K, r, u, d, N, q_u=None, q_d=None):\n",
    "    # Risk-neutral probabilities using discrete compounding\n",
    "    R = (r * 0.25) / N  # Discrete rate per step\n",
    "    if q_u is None:  # Risk-neutral probability for upward move\n",
    "        q_u = (1 + R - d) / (u - d)  \n",
    "    if q_d is None:  # Risk-neutral probability for downward move\n",
    "        q_d = 1 - q_u\n",
    "\n",
    "    # Initialize stock price tree\n",
    "    stock_tree = np.zeros((N + 1, N + 1))\n",
    "\n",
    "    # Fill the stock price tree\n",
    "    for i in range(N + 1):\n",
    "        for j in range(i + 1):\n",
    "            stock_tree[j, i] = S0 * (u ** (i - j)) * (d ** j)\n",
    "\n",
    "    # Initialize option price tree\n",
    "    option_tree = np.zeros((N + 1, N + 1))\n",
    "\n",
    "    # Calculate put option payoff at maturity (t = N)\n",
    "    for j in range(N + 1):\n",
    "        option_tree[j, N] = max(K - stock_tree[j, N], 0)  # Put option payoff at maturity\n",
    "\n",
    "    # Backward induction to calculate option price at earlier nodes, allowing for early exercise\n",
    "    for i in range(N - 1, -1, -1):\n",
    "        for j in range(i + 1):\n",
    "            # Expected value from holding the option (as in the European case)\n",
    "            hold_value = (q_u * option_tree[j, i + 1] + q_d * option_tree[j + 1, i + 1]) / (1 + R)\n",
    "            # Payoff from early exercise\n",
    "            exercise_value = max(K - stock_tree[j, i], 0)\n",
    "            # Take the maximum of holding the option vs early exercise\n",
    "            option_tree[j, i] = max(hold_value, exercise_value)\n",
    "\n",
    "    # Return the option price at the root of the tree (at t = 0), along with stock_tree and option_tree\n",
    "    option_price_at_t0 = option_tree[0, 0]\n",
    "    return stock_tree, option_tree, option_price_at_t0\n",
    "\n",
    "def price_american_call_binomial(S0, K, r, u, d, N, q_u=None, q_d=None):\n",
    "    # Risk-neutral probabilities using discrete compounding\n",
    "    R = (r * 0.25) / N  # Discrete rate per step\n",
    "    if q_u is None:  # Risk-neutral probability for upward move\n",
    "        q_u = (1 + R - d) / (u - d)  \n",
    "    if q_d is None:  # Risk-neutral probability for downward move\n",
    "        q_d = 1 - q_u\n",
    "\n",
    "    # Initialize stock price tree\n",
    "    stock_tree = np.zeros((N + 1, N + 1))\n",
    "\n",
    "    # Fill the stock price tree\n",
    "    for i in range(N + 1):\n",
    "        for j in range(i + 1):\n",
    "            stock_tree[j, i] = S0 * (u ** (i - j)) * (d ** j)\n",
    "\n",
    "    # Initialize option price tree\n",
    "    option_tree = np.zeros((N + 1, N + 1))\n",
    "\n",
    "    # Calculate call option payoff at maturity (t = N)\n",
    "    for j in range(N + 1):\n",
    "        option_tree[j, N] = max(stock_tree[j, N] - K, 0)  # Call option payoff at maturity\n",
    "\n",
    "    # Backward induction to calculate option price at earlier nodes, allowing for early exercise\n",
    "    for i in range(N - 1, -1, -1):\n",
    "        for j in range(i + 1):\n",
    "            # Expected value from holding the option (as in the European case)\n",
    "            hold_value = (q_u * option_tree[j, i + 1] + q_d * option_tree[j + 1, i + 1]) / (1 + R)\n",
    "            # Payoff from early exercise\n",
    "            exercise_value = max(stock_tree[j, i] - K, 0)\n",
    "            # Take the maximum of holding the option vs early exercise\n",
    "            option_tree[j, i] = max(hold_value, exercise_value)\n",
    "\n",
    "    # Return the option price at the root of the tree (at t = 0), along with stock_tree and option_tree\n",
    "    option_price_at_t0 = option_tree[0, 0]\n",
    "    return stock_tree, option_tree, option_price_at_t0\n",
    "    "
   ]
  },
  {
   "cell_type": "code",
   "execution_count": 517,
   "id": "7e1c07fa-f78f-40f8-87c0-5a557123a4a9",
   "metadata": {},
   "outputs": [
    {
     "name": "stdout",
     "output_type": "stream",
     "text": [
      "American Call Price: 254.2626716461956\n",
      "European Call Price: 254.2626716461956\n",
      "\n",
      "American Put Price: 154.68477758225322\n",
      "European Put Price: 150.65118788935806\n"
     ]
    }
   ],
   "source": [
    "S0 = 5648  \n",
    "K = 5600  \n",
    "r = 0.04  \n",
    "N = 3  \n",
    "u, d = calculate_u_d(N)\n",
    "\n",
    "# Correctly calling the American call and put option functions\n",
    "stock_tree, option_tree, CA_price = price_american_call_binomial(S0, K, r, u, d, N, q_u=None, q_d=None)\n",
    "stock_tree, option_tree, CE_price = price_european_call_binomial(S0, K, r, u, d, N, q_u=None, q_d=None)\n",
    "stock_tree, option_tree, PE_price = price_european_put_binomial(S0, K, r, u, d, N, q_u=None, q_d=None)\n",
    "stock_tree, option_tree, PA_price = price_american_put_binomial(S0, K, r, u, d, N, q_u=None, q_d=None)\n",
    "\n",
    "print(\"American Call Price:\", CA_price)\n",
    "print(\"European Call Price:\", CE_price)\n",
    "print(\"\")\n",
    "print(\"American Put Price:\", PA_price)\n",
    "print(\"European Put Price:\", PE_price)"
   ]
  },
  {
   "cell_type": "code",
   "execution_count": null,
   "id": "9808ab49-e25d-463d-b7db-56d767398237",
   "metadata": {},
   "outputs": [],
   "source": []
  },
  {
   "cell_type": "code",
   "execution_count": null,
   "id": "465a7c5b-9798-4a1c-b9e3-15f5f8a36b50",
   "metadata": {},
   "outputs": [],
   "source": []
  },
  {
   "cell_type": "code",
   "execution_count": null,
   "id": "78f6c80f-60d8-412b-9c84-397a953e3949",
   "metadata": {},
   "outputs": [],
   "source": []
  },
  {
   "cell_type": "code",
   "execution_count": null,
   "id": "fdd4705e-fad0-4eee-a591-716ddb43571f",
   "metadata": {},
   "outputs": [],
   "source": []
  },
  {
   "cell_type": "code",
   "execution_count": null,
   "id": "c7161f75-ed14-49bd-8fcf-c9200d283f55",
   "metadata": {},
   "outputs": [],
   "source": []
  },
  {
   "cell_type": "code",
   "execution_count": null,
   "id": "d696ccad-b196-4cf5-8f21-9eb873487587",
   "metadata": {},
   "outputs": [],
   "source": []
  },
  {
   "cell_type": "code",
   "execution_count": null,
   "id": "a322da17-7356-421c-bc2f-edb6f020d2a2",
   "metadata": {},
   "outputs": [],
   "source": []
  },
  {
   "cell_type": "code",
   "execution_count": null,
   "id": "4052ee05-600c-4523-91b9-26d658570296",
   "metadata": {},
   "outputs": [],
   "source": []
  }
 ],
 "metadata": {
  "kernelspec": {
   "display_name": "Python 3 (ipykernel)",
   "language": "python",
   "name": "python3"
  },
  "language_info": {
   "codemirror_mode": {
    "name": "ipython",
    "version": 3
   },
   "file_extension": ".py",
   "mimetype": "text/x-python",
   "name": "python",
   "nbconvert_exporter": "python",
   "pygments_lexer": "ipython3",
   "version": "3.12.4"
  }
 },
 "nbformat": 4,
 "nbformat_minor": 5
}
