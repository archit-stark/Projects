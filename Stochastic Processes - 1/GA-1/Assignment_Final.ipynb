{
 "cells": [
  {
   "cell_type": "markdown",
   "id": "47870e9a-28bb-4ef8-91c5-fbe2b24df323",
   "metadata": {},
   "source": [
    "#### Libraries"
   ]
  },
  {
   "cell_type": "code",
   "execution_count": 1,
   "id": "f4497e18-c96d-4629-8f8c-1c5764b7a7a3",
   "metadata": {},
   "outputs": [],
   "source": [
    "import pandas as pd\n",
    "import numpy as np\n",
    "import matplotlib.pyplot as plt\n",
    "import networkx as nx\n",
    "import sympy as sp\n",
    "import statsmodels.api as sm"
   ]
  },
  {
   "cell_type": "code",
   "execution_count": 2,
   "id": "ce67cf82-31df-4b53-ac20-4d2592139108",
   "metadata": {},
   "outputs": [
    {
     "data": {
      "text/plain": [
       "95"
      ]
     },
     "execution_count": 2,
     "metadata": {},
     "output_type": "execute_result"
    }
   ],
   "source": [
    "n = 10*(5+9)-5*9\n",
    "n"
   ]
  },
  {
   "cell_type": "code",
   "execution_count": 7,
   "id": "fe81c6df-1171-48ba-9d20-76f68ca28e5c",
   "metadata": {},
   "outputs": [],
   "source": [
    "data = pd.read_csv(r\"C:\\Users\\archi\\OneDrive\\Desktop\\VU\\My VU\\P1\\Stoch Proc\\SP500 (1).csv\", parse_dates = True)\n",
    "data['DATE'] = pd.to_datetime(data['DATE'], format = \"%d-%m-%Y\")\n",
    "data = data.set_index(\"DATE\")\n",
    "data = data.sort_index(ascending = False)\n",
    "data = data[:n]"
   ]
  },
  {
   "cell_type": "code",
   "execution_count": null,
   "id": "c75b4d55-ea38-4bc5-a3f2-b75b2dcf37e6",
   "metadata": {},
   "outputs": [],
   "source": []
  },
  {
   "cell_type": "code",
   "execution_count": 11,
   "id": "4aeb490f-6c83-4811-be19-8b138d56fa59",
   "metadata": {},
   "outputs": [],
   "source": [
    "returns = data['SP500'].pct_change(-1)"
   ]
  },
  {
   "cell_type": "code",
   "execution_count": 13,
   "id": "bd194e41-6938-4556-b0f8-83e9362f1eb7",
   "metadata": {},
   "outputs": [],
   "source": [
    "mean = returns.dropna().mean()\n",
    "std_dev = returns.dropna().std()"
   ]
  },
  {
   "cell_type": "code",
   "execution_count": 15,
   "id": "26e723c4-7138-48e8-95a2-8722d1632933",
   "metadata": {},
   "outputs": [
    {
     "name": "stdout",
     "output_type": "stream",
     "text": [
      "Mean: 0.012\n",
      "Std Dev: 0.0466\n"
     ]
    }
   ],
   "source": [
    "print(\"Mean:\", np.round(mean,3))\n",
    "print(\"Std Dev:\", np.round(std_dev,5))"
   ]
  },
  {
   "cell_type": "markdown",
   "id": "efb2db55-af79-493d-8d2d-472083aefb7c",
   "metadata": {},
   "source": [
    "## Part a)"
   ]
  },
  {
   "cell_type": "code",
   "execution_count": 21,
   "id": "a19d3047-7aac-41f0-a695-26332d81eb11",
   "metadata": {},
   "outputs": [],
   "source": [
    "Y = returns.dropna()\n",
    "X = pd.Series(mean, index=range(len(Y)))\n",
    "X.index = Y.index\n",
    "model = sm.OLS(Y,X)\n",
    "results = model.fit()"
   ]
  },
  {
   "cell_type": "code",
   "execution_count": 23,
   "id": "d9c39421-8277-440a-876e-7a2f7b707d02",
   "metadata": {},
   "outputs": [
    {
     "name": "stdout",
     "output_type": "stream",
     "text": [
      "                            OLS Regression Results                            \n",
      "==============================================================================\n",
      "Dep. Variable:                  SP500   R-squared:                       0.000\n",
      "Model:                            OLS   Adj. R-squared:                  0.000\n",
      "Method:                 Least Squares   F-statistic:                       nan\n",
      "Date:                Fri, 20 Sep 2024   Prob (F-statistic):                nan\n",
      "Time:                        17:54:21   Log-Likelihood:                 155.34\n",
      "No. Observations:                  94   AIC:                            -308.7\n",
      "Df Residuals:                      93   BIC:                            -306.1\n",
      "Df Model:                           0                                         \n",
      "Covariance Type:            nonrobust                                         \n",
      "==============================================================================\n",
      "                 coef    std err          t      P>|t|      [0.025      0.975]\n",
      "------------------------------------------------------------------------------\n",
      "x1             1.0000      0.417      2.399      0.018       0.172       1.828\n",
      "==============================================================================\n",
      "Omnibus:                        5.683   Durbin-Watson:                   2.314\n",
      "Prob(Omnibus):                  0.058   Jarque-Bera (JB):                5.010\n",
      "Skew:                          -0.521   Prob(JB):                       0.0817\n",
      "Kurtosis:                       3.438   Cond. No.                         1.00\n",
      "==============================================================================\n",
      "\n",
      "Notes:\n",
      "[1] Standard Errors assume that the covariance matrix of the errors is correctly specified.\n"
     ]
    }
   ],
   "source": [
    "print(results.summary())"
   ]
  },
  {
   "cell_type": "markdown",
   "id": "56dbe3fc-7bf2-4171-9a3b-9681ec000698",
   "metadata": {},
   "source": [
    "## Part b)"
   ]
  },
  {
   "cell_type": "code",
   "execution_count": 18,
   "id": "54f57290-f0b1-4639-9982-c82dbe3c3675",
   "metadata": {},
   "outputs": [],
   "source": [
    "# Confidence interval for mu is given as [0.035,0.045]\n",
    "# Given --- mu = 0.04 and sigma = 0.06"
   ]
  },
  {
   "cell_type": "code",
   "execution_count": 25,
   "id": "bc2b2358-7119-4c9f-afad-bea55ff9dee9",
   "metadata": {},
   "outputs": [
    {
     "name": "stdout",
     "output_type": "stream",
     "text": [
      "Years of Data required:  4609.920000000007\n"
     ]
    }
   ],
   "source": [
    "mu = 0.004\n",
    "sigma = 0.06\n",
    "z = 1.96 # 95% confidence interval\n",
    "N = ((sigma*z)/(0.0045 - mu))**2\n",
    "print(\"Years of Data required: \", N/12)"
   ]
  },
  {
   "cell_type": "markdown",
   "id": "a7349320-9caf-4693-a4cf-5bae9966ad68",
   "metadata": {},
   "source": [
    "#### This is because the confidence interval for 95% significance is very near to the mean or narrow"
   ]
  },
  {
   "cell_type": "markdown",
   "id": "c05711a7-8517-4994-8b1c-2c4709d1db44",
   "metadata": {},
   "source": [
    "## Part c)"
   ]
  },
  {
   "cell_type": "code",
   "execution_count": 27,
   "id": "cfc7c2cf-7c4d-4574-9e55-c4a6b12d8310",
   "metadata": {},
   "outputs": [],
   "source": [
    "mu = 0.004\n",
    "sigma = 0.06\n",
    "n = N\n",
    "e = np.random.normal(mu, sigma, int(np.round(n,0)))\n",
    "d = sigma*e + mu"
   ]
  },
  {
   "cell_type": "code",
   "execution_count": 26,
   "id": "2f74a0f4-e2d0-4e2c-9e5a-64e3a2c016bf",
   "metadata": {},
   "outputs": [],
   "source": [
    "Y = d\n",
    "X = pd.Series(mu, index=range(len(Y)))\n",
    "model = sm.OLS(Y,X)\n",
    "results = model.fit()"
   ]
  },
  {
   "cell_type": "code",
   "execution_count": 29,
   "id": "49c893f1-6afa-40cc-80d5-25a86be3df0f",
   "metadata": {},
   "outputs": [
    {
     "name": "stdout",
     "output_type": "stream",
     "text": [
      "                            OLS Regression Results                            \n",
      "==============================================================================\n",
      "Dep. Variable:                  SP500   R-squared:                       0.000\n",
      "Model:                            OLS   Adj. R-squared:                  0.000\n",
      "Method:                 Least Squares   F-statistic:                       nan\n",
      "Date:                Fri, 20 Sep 2024   Prob (F-statistic):                nan\n",
      "Time:                        17:55:55   Log-Likelihood:                 155.34\n",
      "No. Observations:                  94   AIC:                            -308.7\n",
      "Df Residuals:                      93   BIC:                            -306.1\n",
      "Df Model:                           0                                         \n",
      "Covariance Type:            nonrobust                                         \n",
      "==============================================================================\n",
      "                 coef    std err          t      P>|t|      [0.025      0.975]\n",
      "------------------------------------------------------------------------------\n",
      "x1             1.0000      0.417      2.399      0.018       0.172       1.828\n",
      "==============================================================================\n",
      "Omnibus:                        5.683   Durbin-Watson:                   2.314\n",
      "Prob(Omnibus):                  0.058   Jarque-Bera (JB):                5.010\n",
      "Skew:                          -0.521   Prob(JB):                       0.0817\n",
      "Kurtosis:                       3.438   Cond. No.                         1.00\n",
      "==============================================================================\n",
      "\n",
      "Notes:\n",
      "[1] Standard Errors assume that the covariance matrix of the errors is correctly specified.\n"
     ]
    }
   ],
   "source": [
    "print(results.summary())"
   ]
  },
  {
   "cell_type": "markdown",
   "id": "96d854df-805c-4820-b797-3cd24f26f2cd",
   "metadata": {},
   "source": [
    "###"
   ]
  },
  {
   "cell_type": "markdown",
   "id": "07e33b16-40e6-4efe-9fac-7df4a87b3564",
   "metadata": {},
   "source": [
    "### Part d)"
   ]
  },
  {
   "cell_type": "code",
   "execution_count": 31,
   "id": "59cf7c3d-113b-466a-b760-eb8a237faedb",
   "metadata": {},
   "outputs": [],
   "source": [
    "data_d = data.copy()\n",
    "data_d['Log Ret'] = np.log(data_d/data_d.shift(-1))\n",
    "data_d = data_d.dropna()"
   ]
  },
  {
   "cell_type": "code",
   "execution_count": 34,
   "id": "f7514117-e354-421f-9fc6-63ca5b87c1b5",
   "metadata": {},
   "outputs": [],
   "source": [
    "# We use log returns because this model assumes continuous compounded returns"
   ]
  },
  {
   "cell_type": "code",
   "execution_count": 33,
   "id": "caabfb90-ee35-4ecc-b89f-d20f48f63903",
   "metadata": {},
   "outputs": [
    {
     "name": "stdout",
     "output_type": "stream",
     "text": [
      "Mu: 0.01\n",
      "Sigma: 0.047\n"
     ]
    }
   ],
   "source": [
    "print(\"Mu:\", np.round(data_d['Log Ret'].mean(),3))\n",
    "print(\"Sigma:\", np.round(data_d['Log Ret'].std(),3))"
   ]
  },
  {
   "cell_type": "markdown",
   "id": "8267500a-720b-460e-8c89-2b57d385697b",
   "metadata": {},
   "source": [
    "###"
   ]
  },
  {
   "cell_type": "markdown",
   "id": "12e7582f-380a-4c0f-934a-371bc6186e14",
   "metadata": {},
   "source": [
    "### Part e)\n",
    "#### The expected value after derivation will look like"
   ]
  },
  {
   "cell_type": "markdown",
   "id": "d24724fb-fe08-450c-839f-fd4f492b9fa9",
   "metadata": {},
   "source": [
    "$$\n",
    "E[S_{60}] = S_{0} \\cdot \\exp\\left(60 \\cdot \\left( \\tilde{\\mu} - \\frac{1}{2} \\tilde{\\sigma}^2 \\right)\\right)\n",
    "$$\n"
   ]
  },
  {
   "cell_type": "code",
   "execution_count": 39,
   "id": "e7493ee4-248f-43a4-8e4f-ec2876b9d2ea",
   "metadata": {},
   "outputs": [
    {
     "name": "stdout",
     "output_type": "stream",
     "text": [
      "Expected value of S&P-500 after 5 years(60 months): 9869.28\n"
     ]
    }
   ],
   "source": [
    "S_0 = data_d['SP500'].iloc[0]\n",
    "Exp_v = S_0 * np.exp(60 * (data_d['Log Ret'].mean() - 0.5 * (data_d['Log Ret'].std() ** 2)))\n",
    "print(\"Expected value of S&P-500 after 5 years(60 months):\", np.round(Exp_v, 2))"
   ]
  },
  {
   "cell_type": "code",
   "execution_count": null,
   "id": "2a2a576f-586c-4a48-ad7b-be3183083586",
   "metadata": {},
   "outputs": [],
   "source": [
    "# check moments of normal and log normal dist"
   ]
  },
  {
   "cell_type": "markdown",
   "id": "623cb09c-277b-4c2d-aea1-02ae345aedea",
   "metadata": {},
   "source": [
    "### Part  f)"
   ]
  },
  {
   "cell_type": "code",
   "execution_count": null,
   "id": "b025c3ef-8d28-460f-adcf-e027f56a5c50",
   "metadata": {},
   "outputs": [],
   "source": []
  },
  {
   "cell_type": "code",
   "execution_count": null,
   "id": "b8975d2f-afcb-46c3-a754-8b4201d6815f",
   "metadata": {},
   "outputs": [],
   "source": []
  },
  {
   "cell_type": "code",
   "execution_count": null,
   "id": "f01efa0c-1cc3-49c5-940a-f5681f446ad5",
   "metadata": {},
   "outputs": [],
   "source": []
  },
  {
   "cell_type": "markdown",
   "id": "51518eee-6e4d-49f1-9f6b-7f93639f40b9",
   "metadata": {},
   "source": [
    "## Part 2"
   ]
  },
  {
   "cell_type": "markdown",
   "id": "380cdb16-756c-4457-a5a1-635dbd275246",
   "metadata": {},
   "source": [
    "### Constructing Binomial Tree"
   ]
  },
  {
   "cell_type": "markdown",
   "id": "12c04dc4-f5b0-4482-af09-f8d561b6b0e0",
   "metadata": {},
   "source": [
    "#### Calculating u and d using the Expected value and Variance equation\n",
    "\n",
    "Expected value equation:\n",
    "$$\n",
    "0.56 \\cdot r_u + 0.44 \\cdot r_d = 0.006\n",
    "$$\n",
    "\n",
    "Variance Equation:\n",
    "$$\n",
    "0.56 \\cdot (r_u - 0.006)^2 + 0.44 \\cdot (r_d - 0.006)^2 = V\n",
    "$$"
   ]
  },
  {
   "cell_type": "code",
   "execution_count": 3,
   "id": "bb63621c-4bf5-46c6-adb0-7831ab3201bf",
   "metadata": {},
   "outputs": [
    {
     "name": "stdout",
     "output_type": "stream",
     "text": [
      "u: 1.04766\n",
      "d: 0.95298\n"
     ]
    }
   ],
   "source": [
    "def calculate_u_d(steps):\n",
    "    \n",
    "    r_u, r_d = sp.symbols('r_u r_d')\n",
    "    \n",
    "    # Monthly expected return and variance\n",
    "    monthly_return = 0.006\n",
    "    monthly_variance = 0.047**2\n",
    "    \n",
    "    # Adjust return and variance based on steps\n",
    "    adjusted_return = monthly_return * (3 / steps)\n",
    "    adjusted_variance = monthly_variance * (3 / steps)\n",
    "    \n",
    "    # Define the two equations\n",
    "    expected_return_eq = 0.56 * r_u + 0.44 * r_d - adjusted_return  # Expected return equation\n",
    "    variance_eq = 0.56 * (r_u - adjusted_return)**2 + 0.44 * (r_d - adjusted_return)**2 - adjusted_variance  # Variance equation\n",
    "    \n",
    "    # Solve the system of equations\n",
    "    solution_discrete = sp.solve([expected_return_eq, variance_eq], (r_u, r_d))\n",
    "    \n",
    "    # Calculate u and d from the returns\n",
    "    u_1 = np.round(float(1 + solution_discrete[0][0]), 5)  # First set (u and d)\n",
    "    d_1 = np.round(float(1 + solution_discrete[0][1]), 5)\n",
    "    \n",
    "    return u_1, d_1\n",
    "\n",
    "u_1, d_1 = calculate_u_d(3)\n",
    "print(\"u:\", u_1)\n",
    "print(\"d:\", d_1)"
   ]
  },
  {
   "cell_type": "code",
   "execution_count": null,
   "id": "148f7670-a823-45d2-abdb-d3b48dbd974c",
   "metadata": {},
   "outputs": [],
   "source": []
  },
  {
   "cell_type": "code",
   "execution_count": 5,
   "id": "ad2ef2c0-fc3a-4741-b6d0-578a2d745e45",
   "metadata": {},
   "outputs": [
    {
     "name": "stdout",
     "output_type": "stream",
     "text": [
      "1.0476610472401122\n",
      "0.95297684896713\n"
     ]
    }
   ],
   "source": [
    "r_u, r_d = sp.symbols('r_u r_d')\n",
    "\n",
    "# Given variance (V) based on the provided standard deviation\n",
    "variance = 0.047**2\n",
    "\n",
    "# Define the two equations\n",
    "expected_return_eq = 0.56 * r_u + 0.44 * r_d - 0.006  # Expected return equation\n",
    "variance_eq = 0.56 * (r_u - 0.006)**2 + 0.44 * (r_d - 0.006)**2 - variance  # Variance equation\n",
    "\n",
    "# Solve the system of equations\n",
    "solution_discrete = sp.solve([expected_return_eq, variance_eq], (r_u, r_d))\n",
    "\n",
    "solution_discrete\n",
    "u = float(1 + solution_discrete[0][0])\n",
    "d = float(1 + solution_discrete[0][1])\n",
    "\n",
    "print(u)\n",
    "print(d)"
   ]
  },
  {
   "cell_type": "markdown",
   "id": "bb4791a1-c11e-4d3e-a15b-4b5b3ef88dfe",
   "metadata": {},
   "source": [
    "#### Calculation Risk neutral probabilities"
   ]
  },
  {
   "cell_type": "code",
   "execution_count": 7,
   "id": "dd1a388a-51cf-4cf4-bc9f-5acd266bce81",
   "metadata": {},
   "outputs": [
    {
     "data": {
      "text/plain": [
       "(0.5318265033093934, 0.4681734966906066)"
      ]
     },
     "execution_count": 7,
     "metadata": {},
     "output_type": "execute_result"
    }
   ],
   "source": [
    "r = 0.04\n",
    "u = u_1 \n",
    "d = d_1\n",
    "\n",
    "# Using the formulas provided for risk-neutral probabilities\n",
    "R = r/12 # Risk-free rate per month\n",
    "\n",
    "# Calculate q_u and q_d\n",
    "q_u = ((1 + R) - d) / (u - d)\n",
    "q_d = (u - (1 + R)) / (u - d)\n",
    "\n",
    "q_u, q_d\n"
   ]
  },
  {
   "cell_type": "markdown",
   "id": "0e252dfb-2448-4bd6-b36a-65e69e459b19",
   "metadata": {},
   "source": [
    "##### We will assume So as price of 31st August 2024 which is 5648"
   ]
  },
  {
   "cell_type": "markdown",
   "id": "34b06d3e-3f2c-41f6-bfec-f6e5e9498757",
   "metadata": {},
   "source": [
    "#### Part a)"
   ]
  },
  {
   "cell_type": "code",
   "execution_count": 61,
   "id": "1ec83e20-552b-4f0c-8eaa-7e190909735d",
   "metadata": {},
   "outputs": [
    {
     "data": {
      "image/png": "[encoded data removed]",
      "text/plain": [
       "<Figure size 500x400 with 1 Axes>"
      ]
     },
     "metadata": {},
     "output_type": "display_data"
    },
    {
     "name": "stdout",
     "output_type": "stream",
     "text": [
      "Stock Price Binomial Tree:\n",
      "[[5648.         5917.18368    6199.19665419 6494.65036673]\n",
      " [   0.         5382.43104    5638.95770337 5907.71042751]\n",
      " [   0.            0.         5129.3491325  5373.81391215]\n",
      " [   0.            0.            0.         4888.16713629]]\n"
     ]
    }
   ],
   "source": [
    "# Visualization function\n",
    "def visualize_binomial_tree(stock_tree, time_labels):\n",
    "    G = nx.DiGraph()\n",
    "    \n",
    "    # Create edges with labels\n",
    "    for i in range(stock_tree.shape[1]):\n",
    "        for j in range(i + 1):\n",
    "            G.add_node(f'{i},{j}', label=f'{stock_tree[j, i]:.2f}')\n",
    "            if i < stock_tree.shape[1] - 1:\n",
    "                G.add_edge(f'{i},{j}', f'{i+1},{j}', weight='U')  # Up move\n",
    "                G.add_edge(f'{i},{j}', f'{i+1},{j+1}', weight='D')  # Down move\n",
    "    \n",
    "    # Create positions for the nodes\n",
    "    pos = {}\n",
    "    for i in range(stock_tree.shape[1]):\n",
    "        for j in range(i + 1):\n",
    "            pos[f'{i},{j}'] = (i, -j)  # Layout the nodes in a triangular pattern\n",
    "    \n",
    "    labels = nx.get_node_attributes(G, 'label')\n",
    "    \n",
    "    # Draw the graph\n",
    "    plt.figure(figsize=(5, 4))\n",
    "    nx.draw(G, pos, labels=labels, with_labels=True, node_size=2000, node_color='skyblue', font_size=10, font_weight='bold', arrows=False)\n",
    "    \n",
    "    # Add time labels\n",
    "    for i in range(stock_tree.shape[1]):\n",
    "        plt.text(i, -i - 0.5, f't = {time_labels[i]}', horizontalalignment='center', fontsize=12, fontweight='bold')\n",
    "    \n",
    "    plt.title(\"Binomial Tree with Time Labels\", size=14)\n",
    "    plt.show()\n",
    "\n",
    "# Function to generate binomial tree using the calculated u and d values\n",
    "def generate_binomial_tree(S0, u, d, N, output = \"graph\"):\n",
    "    \n",
    "    # Initialize the binomial tree\n",
    "    stock_tree = np.zeros((N + 1, N + 1))\n",
    "    \n",
    "    # Fill the tree with stock prices\n",
    "    for i in range(N + 1):\n",
    "        for j in range(i + 1):\n",
    "            stock_tree[j, i] = S0 * (u ** (i - j)) * (d ** j)\n",
    "    \n",
    "    # Output options\n",
    "    if output == \"graph\" or output == \"both\":\n",
    "        visualize_binomial_tree(stock_tree, [i for i in range(N + 1)])\n",
    "    \n",
    "    if output == \"tree\" or output == \"both\":\n",
    "        print(\"Stock Price Binomial Tree:\")\n",
    "        print(stock_tree)\n",
    "\n",
    "# Example input values\n",
    "S0 = 5648  # Initial S&P-500 index level\n",
    "u = u_1 # Calculated upward factor\n",
    "d = d_1  # Calculated downward factor\n",
    "N = 3  # Number of time steps (3 months)\n",
    "\n",
    "# Generate and visualize the binomial tree\n",
    "generate_binomial_tree(S0, u, d, N, output=\"both\")\n"
   ]
  },
  {
   "cell_type": "markdown",
   "id": "d46470c2-4400-4cd5-a4b7-d718f6140c40",
   "metadata": {},
   "source": [
    "### Part b)"
   ]
  },
  {
   "cell_type": "markdown",
   "id": "b9e3378c-e558-46d1-8276-2c2b52d062a8",
   "metadata": {},
   "source": [
    "#### 3 month Call Option Price"
   ]
  },
  {
   "cell_type": "code",
   "execution_count": 63,
   "id": "56683a14-ead2-4a5c-8a9b-da9718b37f69",
   "metadata": {},
   "outputs": [
    {
     "name": "stdout",
     "output_type": "stream",
     "text": [
      "Price of 3-month European Call Option is 254.2627\n"
     ]
    }
   ],
   "source": [
    "# Parameters\n",
    "S0 = 5648 \n",
    "K = 5600  \n",
    "r = 0.04  \n",
    "N = 3  # Number of steps\n",
    "u, d = calculate_u_d(3)\n",
    "\n",
    "R = (r*0.25)/N # Monthly Rate\n",
    "\n",
    "# Step 1: Initialize the stock price tree\n",
    "stock_tree = np.zeros((N + 1, N + 1))\n",
    "\n",
    "# Step 2: Fill the stock price tree\n",
    "for i in range(N + 1):\n",
    "    for j in range(i + 1):\n",
    "        stock_tree[j, i] = S0 * (u ** (i - j)) * (d ** j)\n",
    "\n",
    "# Step 3: Initialize the option price tree\n",
    "option_tree = np.zeros((N + 1, N + 1))\n",
    "\n",
    "# Step 4: Calculate the option payoff at maturity (t = N)\n",
    "for j in range(N + 1):\n",
    "    option_tree[j, N] = max(stock_tree[j, N] - K, 0)  # Payoff at maturity\n",
    "\n",
    "# Step 5: Backward induction to calculate option price at earlier nodes\n",
    "for i in range(N - 1, -1, -1):\n",
    "    for j in range(i + 1):\n",
    "        option_tree[j, i] = (q_u * option_tree[j, i + 1] + q_d * option_tree[j + 1, i + 1]) / (1 + R)\n",
    "\n",
    "# The option price at the root of the tree (at t = 0)\n",
    "option_price_at_t0 = option_tree[0, 0]\n",
    "print(\"Price of 3-month European Call Option is\", np.round(option_price_at_t0,4))\n"
   ]
  },
  {
   "cell_type": "code",
   "execution_count": 65,
   "id": "d51fa7c6-bd8b-437f-bd4a-4189611d685d",
   "metadata": {},
   "outputs": [
    {
     "data": {
      "text/plain": [
       "array([[254.26267165, 403.57922483, 617.80130535, 894.65036673],\n",
       "       [  0.        ,  86.45531244, 163.10487777, 307.71042751],\n",
       "       [  0.        ,   0.        ,   0.        ,   0.        ],\n",
       "       [  0.        ,   0.        ,   0.        ,   0.        ]])"
      ]
     },
     "execution_count": 65,
     "metadata": {},
     "output_type": "execute_result"
    }
   ],
   "source": [
    "option_tree"
   ]
  },
  {
   "cell_type": "code",
   "execution_count": 67,
   "id": "1efe81f5-290f-442a-b51e-33fa9e371a5c",
   "metadata": {},
   "outputs": [
    {
     "data": {
      "text/plain": [
       "array([[5648.        , 5917.18368   , 6199.19665419, 6494.65036673],\n",
       "       [   0.        , 5382.43104   , 5638.95770337, 5907.71042751],\n",
       "       [   0.        ,    0.        , 5129.3491325 , 5373.81391215],\n",
       "       [   0.        ,    0.        ,    0.        , 4888.16713629]])"
      ]
     },
     "execution_count": 67,
     "metadata": {},
     "output_type": "execute_result"
    }
   ],
   "source": [
    "stock_tree"
   ]
  },
  {
   "cell_type": "markdown",
   "id": "6dcfd6a2-c729-4de3-9b6c-5957f12fa2e6",
   "metadata": {},
   "source": [
    "### Part c)"
   ]
  },
  {
   "cell_type": "code",
   "execution_count": 9,
   "id": "9fe1ac9c-f41d-4d2c-ac7c-b25f896612d5",
   "metadata": {},
   "outputs": [
    {
     "name": "stdout",
     "output_type": "stream",
     "text": [
      "The Black-Scholes price of the European call option is 238.2395\n"
     ]
    }
   ],
   "source": [
    "from scipy.stats import norm\n",
    "\n",
    "def black_scholes(S0, K, r, T, sigma, option_type): # function for BSM model\n",
    "    d1 = (np.log(S0 / K) + (r + 0.5 * sigma**2) * T) / (sigma * np.sqrt(T))\n",
    "    d2 = d1 - sigma * np.sqrt(T)\n",
    "    \n",
    "    if option_type == \"Call\":\n",
    "        option_price = S0 * norm.cdf(d1) - K * np.exp(-r * T) * norm.cdf(d2)\n",
    "    elif option_type == \"Put\":\n",
    "        option_price = K * np.exp(-r * T) * norm.cdf(-d2) - S0 * norm.cdf(-d1)\n",
    "    else:\n",
    "        raise ValueError(\"Invalid option type. Please input 'Call' or 'Put'.\")\n",
    "    \n",
    "    return option_price\n",
    "\n",
    "# Parameters\n",
    "S0 = 5648\n",
    "K = 5600 \n",
    "T = 3 / 12 \n",
    "r = 0.04 \n",
    "sigma_monthly = 0.047\n",
    "sigma_annual = sigma_monthly * np.sqrt(12)\n",
    "\n",
    "# Calculate the Black-Scholes price\n",
    "bs_call_price = black_scholes(S0, K, r, T, sigma_annual,'Call')\n",
    "print(f\"The Black-Scholes price of the European call option is\", np.round(bs_call_price,4))\n"
   ]
  },
  {
   "cell_type": "code",
   "execution_count": 71,
   "id": "f08390a5-e99a-4483-a61c-1af02abc7c94",
   "metadata": {},
   "outputs": [
    {
     "name": "stdout",
     "output_type": "stream",
     "text": [
      "Price of CE using Binomial Model: 254.263\n",
      "Price of CE using BSM Model: 238.24\n"
     ]
    }
   ],
   "source": [
    "print(\"Price of CE using Binomial Model:\", np.round(option_price_at_t0,3))\n",
    "print(\"Price of CE using BSM Model:\", np.round(bs_call_price,3))"
   ]
  },
  {
   "cell_type": "code",
   "execution_count": null,
   "id": "dc27a045-c08d-4e12-a562-6180eb424f13",
   "metadata": {},
   "outputs": [],
   "source": []
  },
  {
   "cell_type": "markdown",
   "id": "1e1a744a-de30-4104-a225-b9b963a9f112",
   "metadata": {},
   "source": [
    "### Part d)"
   ]
  },
  {
   "cell_type": "code",
   "execution_count": 73,
   "id": "826aaf0b-c5f8-4b55-9604-a012b9c4fc39",
   "metadata": {},
   "outputs": [],
   "source": [
    "def price_european_call_binomial(S0, K, r, u, d, N, q_u=None, q_d=None):\n",
    "   \n",
    "    #R = r * delta_t \n",
    "    R = (r*0.25)/N\n",
    "    if q_u is None:  \n",
    "        q_u = (1 + R - d) / (u - d)\n",
    "    if q_d is None: \n",
    "        q_d = 1 - q_u\n",
    "\n",
    "    # Initialize stock price tree\n",
    "    stock_tree = np.zeros((N + 1, N + 1))\n",
    "\n",
    "    # Fill the stock price tree\n",
    "    for i in range(N + 1):\n",
    "        for j in range(i + 1):\n",
    "            stock_tree[j, i] = S0 * (u ** (i - j)) * (d ** j)\n",
    "\n",
    "    # Initialize option price tree\n",
    "    option_tree = np.zeros((N + 1, N + 1))\n",
    "\n",
    "    # Calculate option payoff at maturity (t = N)\n",
    "    for j in range(N + 1):\n",
    "        option_tree[j, N] = max(stock_tree[j, N] - K, 0)  # Payoff at maturity\n",
    "\n",
    "    # Backward induction to calculate option price at earlier nodes\n",
    "    for i in range(N - 1, -1, -1):\n",
    "        for j in range(i + 1):\n",
    "            option_tree[j, i] = (q_u * option_tree[j, i + 1] + q_d * option_tree[j + 1, i + 1]) / (1 + R)\n",
    "\n",
    "    # Return the option price at the root of the tree (at t = 0), along with stock_tree and option_tree\n",
    "    option_price_at_t0 = option_tree[0, 0]\n",
    "    return stock_tree, option_tree, option_price_at_t0\n"
   ]
  },
  {
   "cell_type": "code",
   "execution_count": 78,
   "id": "5f6010da-5fae-4ac7-9caf-0a4bc7831800",
   "metadata": {},
   "outputs": [
    {
     "data": {
      "image/png": "[encoded data removed]",
      "text/plain": [
       "<Figure size 800x400 with 1 Axes>"
      ]
     },
     "metadata": {},
     "output_type": "display_data"
    }
   ],
   "source": [
    "# Given parameters\n",
    "S0 = 5648  # Initial stock price\n",
    "K = 5600   # Strike price\n",
    "r = 0.04   # Annual risk-free rate\n",
    "T = 3 / 12  # 3 months = 0.25 years\n",
    "sigma = 0.047 * np.sqrt(12)  # Annual volatility\n",
    "\n",
    "# Calculate Black-Scholes option price\n",
    "bs_option_price = black_scholes(S0, K, r, T, sigma, 'Call')\n",
    "\n",
    "# Step sizes and binomial tree calculations\n",
    "steps = [3, 10, 100, 1000, 10000]  # Number of steps to try\n",
    "binomial_prices_call = []\n",
    "for N in steps:\n",
    "    #delta_t = T / N  # Adjust delta_t for each N steps\n",
    "    u, d = calculate_u_d(N)\n",
    "    stock_tree, option_tree, price = price_european_call_binomial(S0, K, r, u, d, N)\n",
    "    binomial_prices_call.append(price)\n",
    "\n",
    "# Plot the results\n",
    "plt.figure(figsize=(8, 4))\n",
    "plt.plot(steps, binomial_prices_call, label=\"Binomial Tree Prices\", marker='o')\n",
    "plt.axhline(y=bs_option_price, color='r', linestyle='--', label=\"Black-Scholes Price\")\n",
    "plt.xscale('log')  # Log scale for better visualization of convergence\n",
    "plt.xlabel('Number of Steps (log scale)')\n",
    "plt.ylabel('Option Price')\n",
    "plt.title('Convergence of Binomial Tree to Black-Scholes Price - Call Option')\n",
    "plt.legend()\n",
    "plt.grid(True)\n",
    "plt.show()"
   ]
  },
  {
   "cell_type": "code",
   "execution_count": null,
   "id": "d464dba2-e3ed-4bd8-bcc0-cc6f1092dc60",
   "metadata": {},
   "outputs": [],
   "source": []
  },
  {
   "cell_type": "markdown",
   "id": "82e090b5-e562-4b23-8496-60857c81d3f2",
   "metadata": {},
   "source": [
    "### Part e)"
   ]
  },
  {
   "cell_type": "code",
   "execution_count": 112,
   "id": "c7dc82f3-094b-40d5-92ce-50272cfba7a9",
   "metadata": {},
   "outputs": [
    {
     "data": {
      "image/png": "[encoded data removed]",
      "text/plain": [
       "<Figure size 1000x600 with 1 Axes>"
      ]
     },
     "metadata": {},
     "output_type": "display_data"
    }
   ],
   "source": [
    "import numpy as np\n",
    "import matplotlib.pyplot as plt\n",
    "import math\n",
    "\n",
    "def log_comb(n, k):\n",
    "    \"\"\"Compute the logarithm of the binomial coefficient.\"\"\"\n",
    "    return math.log(math.factorial(n)) - (math.log(math.factorial(k)) + math.log(math.factorial(n - k)))\n",
    "\n",
    "def final_probabilities(S0, K, r, u, d, N, q_u=None, q_d=None):\n",
    "    #R = r * delta_t \n",
    "    R = (r*0.25)/N\n",
    "    if q_u is None:  \n",
    "        q_u = (1 + R - d) / (u - d)\n",
    "    if q_d is None: \n",
    "        q_d = 1 - q_u\n",
    "\n",
    "    # Initialize stock price tree\n",
    "    stock_tree = np.zeros((N + 1, N + 1))\n",
    "\n",
    "    # Fill the stock price tree\n",
    "    for i in range(N + 1):\n",
    "        for j in range(i + 1):\n",
    "            stock_tree[j, i] = S0 * (u ** (i - j)) * (d ** j)\n",
    "\n",
    "    # Binomial probabilities for each node at maturity using log-space to prevent overflow\n",
    "    probabilities = np.zeros(N + 1)\n",
    "    for j in range(N + 1):\n",
    "        log_prob = log_comb(N, j) + (N - j) * math.log(q_u) + j * math.log(q_d)\n",
    "        probabilities[j] = math.exp(log_prob)\n",
    "\n",
    "    # Normalize the probabilities to ensure they sum to 1 (handling numerical precision)\n",
    "    probabilities /= np.sum(probabilities)\n",
    "    \n",
    "    return stock_tree[:, -1], probabilities\n",
    "\n",
    "def plot_probabilities(stock_prices, probabilities_risk_neutral, probabilities_real_world):\n",
    "    plt.figure(figsize=(10,6))\n",
    "    plt.plot(stock_prices, probabilities_risk_neutral, color='blue', label='Risk-Neutral')\n",
    "    plt.plot(stock_prices, probabilities_real_world, color='red', label='Real-World')\n",
    "    plt.xlabel(\"Stock Price at Maturity\")\n",
    "    plt.ylabel(\"Probability\")\n",
    "    plt.title(\"Probability Distribution at Maturity\")\n",
    "    plt.xlim(3000, 8000)\n",
    "    plt.legend()\n",
    "    plt.show()\n",
    "\n",
    "# Parameters\n",
    "S0 = 5648  \n",
    "K = 5600   \n",
    "r = 0.04   \n",
    "N = 10000  # Number of steps\n",
    "u, d = calculate_u_d(N)\n",
    "\n",
    "\n",
    "# Real-world probabilities can differ from risk-neutral, so assume a different q_u_real if needed\n",
    "q_u_real = 0.56  # Real-world up probability\n",
    "q_d_real = 1 - q_u_real\n",
    "\n",
    "# Calculate for risk-neutral measure\n",
    "stock_prices, probabilities_risk_neutral = final_probabilities(S0, K, r, u, d, N)\n",
    "\n",
    "# Calculate for real-world measure\n",
    "_, probabilities_real_world = final_probabilities(S0, K, r, u, d, N, q_u_real, q_d_real)\n",
    "\n",
    "# Plot both probability distributions in one graph\n",
    "plot_probabilities(stock_prices, probabilities_risk_neutral, probabilities_real_world)\n",
    "\n"
   ]
  },
  {
   "cell_type": "code",
   "execution_count": null,
   "id": "a3d1ea67-d141-49a3-a4dd-2e0171771d55",
   "metadata": {},
   "outputs": [],
   "source": []
  },
  {
   "cell_type": "markdown",
   "id": "d3866aca-82f0-4d61-a9f0-9cffa4601649",
   "metadata": {},
   "source": [
    "### Part f)"
   ]
  },
  {
   "cell_type": "code",
   "execution_count": 11,
   "id": "df1d8955-da55-492b-b68c-68b68959ea9c",
   "metadata": {},
   "outputs": [],
   "source": [
    "def price_european_put_binomial(S0, K, r, u, d, N, q_u=None, q_d=None):\n",
    "    # Adjust the rate R as in the call option function\n",
    "    R = (r * 0.25) / N  # Discrete rate per step, adjusted for N steps\n",
    "    if q_u is None:  # Risk-neutral probability for upward move\n",
    "        q_u = (1 + R - d) / (u - d)\n",
    "    if q_d is None:  # Risk-neutral probability for downward move\n",
    "        q_d = 1 - q_u\n",
    "\n",
    "    # Initialize stock price tree\n",
    "    stock_tree = np.zeros((N + 1, N + 1))\n",
    "\n",
    "    # Fill the stock price tree\n",
    "    for i in range(N + 1):\n",
    "        for j in range(i + 1):\n",
    "            stock_tree[j, i] = S0 * (u ** (i - j)) * (d ** j)\n",
    "\n",
    "    # Initialize option price tree\n",
    "    option_tree = np.zeros((N + 1, N + 1))\n",
    "\n",
    "    # Calculate put option payoff at maturity (t = N)\n",
    "    for j in range(N + 1):\n",
    "        option_tree[j, N] = max(K - stock_tree[j, N], 0)  # Put option payoff at maturity\n",
    "\n",
    "    # Backward induction to calculate option price at earlier nodes\n",
    "    for i in range(N - 1, -1, -1):\n",
    "        for j in range(i + 1):\n",
    "            option_tree[j, i] = (q_u * option_tree[j, i + 1] + q_d * option_tree[j + 1, i + 1]) / (1 + R)\n",
    "\n",
    "    # Return the option price at the root of the tree (at t = 0), along with stock_tree and option_tree\n",
    "    option_price_at_t0 = option_tree[0, 0]\n",
    "    return stock_tree, option_tree, option_price_at_t0"
   ]
  },
  {
   "cell_type": "code",
   "execution_count": 13,
   "id": "52c707c3-be54-4bcb-b175-ea4e45c198c4",
   "metadata": {},
   "outputs": [
    {
     "data": {
      "image/png": "[encoded data removed]",
      "text/plain": [
       "<Figure size 600x600 with 1 Axes>"
      ]
     },
     "metadata": {},
     "output_type": "display_data"
    },
    {
     "name": "stdout",
     "output_type": "stream",
     "text": [
      "[150.63394122764305, 135.84148150725497, 135.37509754840056, 134.78485626913337, 134.48138707081378]\n",
      "134.5185696934509\n"
     ]
    }
   ],
   "source": [
    "# Example usage\n",
    "# Given parameters\n",
    "S0 = 5648  # Initial stock price\n",
    "K = 5600   # Strike price\n",
    "r = 0.04   # Annual risk-free rate\n",
    "T = 3 / 12  # 3 months = 0.25 years\n",
    "sigma = 0.047 * np.sqrt(12)  # Annual volatility\n",
    "\n",
    "steps =  [3, 10, 100, 1000, 10000]  # Number of steps to try\n",
    "\n",
    "# Calculate Black-Scholes option price\n",
    "bs_option_price = black_scholes(S0, K, r, T, sigma, \"Put\")\n",
    "\n",
    "# Calculate binomial tree prices for different step counts\n",
    "binomial_prices_put = []\n",
    "for N in steps:\n",
    "    u, d = calculate_u_d(N)\n",
    "    stock_tree, option_tree, price = price_european_put_binomial(S0, K, r, u, d, N)\n",
    "    binomial_prices_put.append(price)\n",
    "\n",
    "# Plot the results\n",
    "plt.figure(figsize=(6, 6))\n",
    "plt.plot(steps, binomial_prices_put, label=\"Binomial Tree Prices\", marker='o')\n",
    "plt.axhline(y=bs_option_price, color='r', linestyle='--', label=\"Black-Scholes Price\")\n",
    "plt.xscale('log')  # Log scale for better visualization of convergence\n",
    "plt.xlabel('Number of Steps (log scale)')\n",
    "plt.ylabel('Option Price')\n",
    "plt.title('Convergence of Binomial Tree to Black-Scholes Price - Put Option')\n",
    "plt.legend()\n",
    "plt.grid(True)\n",
    "plt.show()\n",
    "\n",
    "print(binomial_prices_put)\n",
    "print(bs_option_price)"
   ]
  },
  {
   "cell_type": "code",
   "execution_count": 128,
   "id": "2021805d-aed8-4247-96b0-eb3acbc618ce",
   "metadata": {},
   "outputs": [
    {
     "name": "stdout",
     "output_type": "stream",
     "text": [
      "Left-hand side (C - P): 103.63\n",
      "Right-hand side (S0 - K * (1 + r/n)^(-nT)): 103.63\n",
      "Put-Call Parity holds\n"
     ]
    }
   ],
   "source": [
    "import numpy as np\n",
    "\n",
    "# Given values\n",
    "S0 = 5648  # Current stock price\n",
    "K = 5600   # Strike price\n",
    "r = 0.04   # Risk-free interest rate\n",
    "T = 3 / 12 # Time to maturity (3 months = 0.25 years)\n",
    "n = 12     # Compounding frequency (monthly compounding)\n",
    "\n",
    "# Call and put prices (assumed to be American options, though put-call parity applies to European options)\n",
    "C = np.round(binomial_prices_call[0],2) # Call option price\n",
    "P = np.round(binomial_prices_put[0],2)# Put option price\n",
    "\n",
    "# Put-Call Parity: Left-hand side (C - P)\n",
    "put_call_parity_lhs = np.round(C - P,2)\n",
    "\n",
    "# Right-hand side (S0 - K * (1 + r/n)^(-nT)) using discrete compounding\n",
    "put_call_parity_rhs = np.round(S0 - K * (1 + r / n) ** (-n * T),2)\n",
    "\n",
    "# Print the results\n",
    "print(f\"Left-hand side (C - P): {put_call_parity_lhs}\")\n",
    "print(f\"Right-hand side (S0 - K * (1 + r/n)^(-nT)): {put_call_parity_rhs}\")\n",
    "\n",
    "# Check if they are approximately equal\n",
    "if np.isclose(put_call_parity_lhs, put_call_parity_rhs):\n",
    "    print(\"Put-Call Parity holds\")\n",
    "else:\n",
    "    print(\"Put-Call Parity does not hold\")\n"
   ]
  },
  {
   "cell_type": "markdown",
   "id": "b91865a7-e423-4422-8256-cb057e4afa9b",
   "metadata": {},
   "source": [
    "### Part g)"
   ]
  },
  {
   "cell_type": "markdown",
   "id": "00f600ab-3aa8-4e9f-ad87-2f63c69b1ccb",
   "metadata": {},
   "source": [
    "#### American Call & Put Option"
   ]
  },
  {
   "cell_type": "code",
   "execution_count": 129,
   "id": "43f0dc9c-c8f5-441c-af01-896b53c5d3b3",
   "metadata": {},
   "outputs": [],
   "source": [
    "def price_american_put_binomial(S0, K, r, u, d, N, q_u=None, q_d=None):\n",
    "    # Risk-neutral probabilities using discrete compounding\n",
    "    R = (r * 0.25) / N  # Discrete rate per step\n",
    "    if q_u is None:  # Risk-neutral probability for upward move\n",
    "        q_u = (1 + R - d) / (u - d)  \n",
    "    if q_d is None:  # Risk-neutral probability for downward move\n",
    "        q_d = 1 - q_u\n",
    "\n",
    "    # Initialize stock price tree\n",
    "    stock_tree = np.zeros((N + 1, N + 1))\n",
    "\n",
    "    # Fill the stock price tree\n",
    "    for i in range(N + 1):\n",
    "        for j in range(i + 1):\n",
    "            stock_tree[j, i] = S0 * (u ** (i - j)) * (d ** j)\n",
    "\n",
    "    # Initialize option price tree\n",
    "    option_tree = np.zeros((N + 1, N + 1))\n",
    "\n",
    "    # Calculate put option payoff at maturity (t = N)\n",
    "    for j in range(N + 1):\n",
    "        option_tree[j, N] = max(K - stock_tree[j, N], 0)  # Put option payoff at maturity\n",
    "\n",
    "    # Backward induction to calculate option price at earlier nodes, allowing for early exercise\n",
    "    for i in range(N - 1, -1, -1):\n",
    "        for j in range(i + 1):\n",
    "            # Expected value from holding the option (as in the European case)\n",
    "            hold_value = (q_u * option_tree[j, i + 1] + q_d * option_tree[j + 1, i + 1]) / (1 + R)\n",
    "            # Payoff from early exercise\n",
    "            exercise_value = max(K - stock_tree[j, i], 0)\n",
    "            # Take the maximum of holding the option vs early exercise\n",
    "            option_tree[j, i] = max(hold_value, exercise_value)\n",
    "\n",
    "    # Return the option price at the root of the tree (at t = 0), along with stock_tree and option_tree\n",
    "    option_price_at_t0 = option_tree[0, 0]\n",
    "    return stock_tree, option_tree, option_price_at_t0\n",
    "\n",
    "def price_american_call_binomial(S0, K, r, u, d, N, q_u=None, q_d=None):\n",
    "    # Risk-neutral probabilities using discrete compounding\n",
    "    R = (r * 0.25) / N  # Discrete rate per step\n",
    "    if q_u is None:  # Risk-neutral probability for upward move\n",
    "        q_u = (1 + R - d) / (u - d)  \n",
    "    if q_d is None:  # Risk-neutral probability for downward move\n",
    "        q_d = 1 - q_u\n",
    "\n",
    "    # Initialize stock price tree\n",
    "    stock_tree = np.zeros((N + 1, N + 1))\n",
    "\n",
    "    # Fill the stock price tree\n",
    "    for i in range(N + 1):\n",
    "        for j in range(i + 1):\n",
    "            stock_tree[j, i] = S0 * (u ** (i - j)) * (d ** j)\n",
    "\n",
    "    # Initialize option price tree\n",
    "    option_tree = np.zeros((N + 1, N + 1))\n",
    "\n",
    "    # Calculate call option payoff at maturity (t = N)\n",
    "    for j in range(N + 1):\n",
    "        option_tree[j, N] = max(stock_tree[j, N] - K, 0)  # Call option payoff at maturity\n",
    "\n",
    "    # Backward induction to calculate option price at earlier nodes, allowing for early exercise\n",
    "    for i in range(N - 1, -1, -1):\n",
    "        for j in range(i + 1):\n",
    "            # Expected value from holding the option (as in the European case)\n",
    "            hold_value = (q_u * option_tree[j, i + 1] + q_d * option_tree[j + 1, i + 1]) / (1 + R)\n",
    "            # Payoff from early exercise\n",
    "            exercise_value = max(stock_tree[j, i] - K, 0)\n",
    "            # Take the maximum of holding the option vs early exercise\n",
    "            option_tree[j, i] = max(hold_value, exercise_value)\n",
    "\n",
    "    # Return the option price at the root of the tree (at t = 0), along with stock_tree and option_tree\n",
    "    option_price_at_t0 = option_tree[0, 0]\n",
    "    return stock_tree, option_tree, option_price_at_t0\n",
    "    "
   ]
  },
  {
   "cell_type": "code",
   "execution_count": 130,
   "id": "7e1c07fa-f78f-40f8-87c0-5a557123a4a9",
   "metadata": {},
   "outputs": [
    {
     "name": "stdout",
     "output_type": "stream",
     "text": [
      "American Call Price: 254.2626716461956\n",
      "European Call Price: 254.2626716461956\n",
      "\n",
      "American Put Price: 154.68477758225322\n",
      "European Put Price: 150.63394122764305\n"
     ]
    }
   ],
   "source": [
    "S0 = 5648  \n",
    "K = 5600  \n",
    "r = 0.04  \n",
    "N = 3  \n",
    "u, d = calculate_u_d(N)\n",
    "\n",
    "# Correctly calling the American call and put option functions\n",
    "stock_tree, option_tree, CA_price = price_american_call_binomial(S0, K, r, u, d, N, q_u=None, q_d=None)\n",
    "stock_tree, option_tree, CE_price = price_european_call_binomial(S0, K, r, u, d, N, q_u=None, q_d=None)\n",
    "stock_tree, option_tree, PE_price = price_european_put_binomial(S0, K, r, u, d, N, q_u=None, q_d=None)\n",
    "stock_tree, option_tree, PA_price = price_american_put_binomial(S0, K, r, u, d, N, q_u=None, q_d=None)\n",
    "\n",
    "print(\"American Call Price:\", CA_price)\n",
    "print(\"European Call Price:\", CE_price)\n",
    "print(\"\")\n",
    "print(\"American Put Price:\", PA_price)\n",
    "print(\"European Put Price:\", PE_price)"
   ]
  },
  {
   "cell_type": "markdown",
   "id": "106dbc87-98e6-4f96-922f-c52386d95731",
   "metadata": {},
   "source": [
    "### Interpretation of Results:\n",
    "\n",
    "#### Call Option Values: \n",
    "###### The prices of the American and European call options are the same, indicating that there is no advantage in exercising the call option early. This result is expected because, in a call option, early exercise before maturity is typically not beneficial, especially when interest rates are low. Therefore, the European and American call options converge in value.\n",
    "\n",
    "#### Put Option Values: \n",
    "###### For the put options, there is a slight difference between the American and European prices. The American put option is priced slightly higher at 154.68 compared to the European put option at 150.63. This difference of about 4.05 reflects the value of having the flexibility to exercise the option early. In some cases, especially in downward-trending markets, early exercise might be favorable, particularly if the option is deep in-the-money. The small price difference indicates that while early exercise is possible, the option is likely not in a situation where early exercise provides a significant advantage in the current market conditions.\n",
    "\n",
    "#### Conclusion:\n",
    "##### The flexibility to exercise early increases the value of the American put compared to the European put, though the difference is modest in this case. This aligns with the typical scenario where American options hold slightly higher value due to the early exercise feature, especially for puts."
   ]
  },
  {
   "cell_type": "code",
   "execution_count": null,
   "id": "59b0f531-9958-41a7-865a-b832272763f9",
   "metadata": {},
   "outputs": [],
   "source": []
  }
 ],
 "metadata": {
  "kernelspec": {
   "display_name": "Python 3 (ipykernel)",
   "language": "python",
   "name": "python3"
  },
  "language_info": {
   "codemirror_mode": {
    "name": "ipython",
    "version": 3
   },
   "file_extension": ".py",
   "mimetype": "text/x-python",
   "name": "python",
   "nbconvert_exporter": "python",
   "pygments_lexer": "ipython3",
   "version": "3.12.4"
  }
 },
 "nbformat": 4,
 "nbformat_minor": 5
}
